{
 "cells": [
  {
   "cell_type": "markdown",
   "id": "540e8afd",
   "metadata": {},
   "source": [
    "# Data Import"
   ]
  },
  {
   "cell_type": "code",
   "execution_count": 556,
   "id": "53264563",
   "metadata": {},
   "outputs": [],
   "source": [
    "import pandas as pd"
   ]
  },
  {
   "cell_type": "code",
   "execution_count": 557,
   "id": "2d2141c5",
   "metadata": {},
   "outputs": [],
   "source": [
    "demographics=pd.read_csv(r\".\\Case Study-20221206T200442Z-001\\Case Study\\demographics.csv\")\n",
    "enrollment=pd.read_csv(r\".\\Case Study-20221206T200442Z-001\\Case Study\\enrollment.csv\")\n",
    "log=pd.read_csv(r\".\\Case Study-20221206T200442Z-001\\Case Study\\log.csv\")\n",
    "truth=pd.read_csv(r\".\\Case Study-20221206T200442Z-001\\Case Study\\truth.csv\")\n",
    "test=pd.read_csv(r\".\\Case Study-20221206T200442Z-001\\Case Study\\test.csv\")\n",
    "zip=pd.read_csv(r\".\\Case Study-20221206T200442Z-001\\Case Study\\zip.csv\")\n",
    "\n",
    "# additional table\n",
    "state_region_mapping=pd.read_csv(r\".\\Case Study-20221206T200442Z-001\\Case Study\\State_Region_Mapping.csv\")"
   ]
  },
  {
   "cell_type": "markdown",
   "id": "ead6216e",
   "metadata": {},
   "source": [
    "# Data Quality Checks"
   ]
  },
  {
   "cell_type": "code",
   "execution_count": 558,
   "id": "2ba7cc92",
   "metadata": {},
   "outputs": [
    {
     "data": {
      "text/plain": [
       "username                 0\n",
       "gender               13884\n",
       "zip                      0\n",
       "highest_education        0\n",
       "dtype: int64"
      ]
     },
     "execution_count": 558,
     "metadata": {},
     "output_type": "execute_result"
    }
   ],
   "source": [
    "# Null analysis\n",
    "demographics.isnull().sum()"
   ]
  },
  {
   "cell_type": "code",
   "execution_count": 559,
   "id": "b4e531fd",
   "metadata": {},
   "outputs": [
    {
     "data": {
      "text/plain": [
       "enrollment_id    0\n",
       "username         0\n",
       "course_id        0\n",
       "dtype: int64"
      ]
     },
     "execution_count": 559,
     "metadata": {},
     "output_type": "execute_result"
    }
   ],
   "source": [
    "enrollment.isnull().sum()"
   ]
  },
  {
   "cell_type": "code",
   "execution_count": 560,
   "id": "bcb13ad5",
   "metadata": {},
   "outputs": [
    {
     "data": {
      "text/plain": [
       "enrollment_id    0\n",
       "time             0\n",
       "source           0\n",
       "event            0\n",
       "object           0\n",
       "dtype: int64"
      ]
     },
     "execution_count": 560,
     "metadata": {},
     "output_type": "execute_result"
    }
   ],
   "source": [
    "log.isnull().sum()"
   ]
  },
  {
   "cell_type": "code",
   "execution_count": 561,
   "id": "83bfb771",
   "metadata": {},
   "outputs": [
    {
     "data": {
      "text/plain": [
       "enrollment_id    0\n",
       "dropout_flg      0\n",
       "dtype: int64"
      ]
     },
     "execution_count": 561,
     "metadata": {},
     "output_type": "execute_result"
    }
   ],
   "source": [
    "truth.isnull().sum()"
   ]
  },
  {
   "cell_type": "code",
   "execution_count": 562,
   "id": "947ad538",
   "metadata": {},
   "outputs": [
    {
     "data": {
      "text/plain": [
       "enrollment_id       0\n",
       "dropout_flg      1000\n",
       "dtype: int64"
      ]
     },
     "execution_count": 562,
     "metadata": {},
     "output_type": "execute_result"
    }
   ],
   "source": [
    "test.isnull().sum()"
   ]
  },
  {
   "cell_type": "code",
   "execution_count": 563,
   "id": "cf15204f",
   "metadata": {},
   "outputs": [
    {
     "data": {
      "text/plain": [
       "Zipcode                    0\n",
       "ZipCodeType                0\n",
       "City                       0\n",
       "State                      0\n",
       "LocationType               0\n",
       "Lat                      648\n",
       "Long                     648\n",
       "Location                   1\n",
       "Decommisioned              0\n",
       "TaxReturnsFiled        13643\n",
       "EstimatedPopulation    13643\n",
       "TotalWages             13678\n",
       "dtype: int64"
      ]
     },
     "execution_count": 563,
     "metadata": {},
     "output_type": "execute_result"
    }
   ],
   "source": [
    "zip.isnull().sum()"
   ]
  },
  {
   "cell_type": "code",
   "execution_count": 564,
   "id": "08a2af10",
   "metadata": {},
   "outputs": [
    {
     "data": {
      "text/plain": [
       "State         0\n",
       "State Code    0\n",
       "Region        0\n",
       "Division      0\n",
       "dtype: int64"
      ]
     },
     "execution_count": 564,
     "metadata": {},
     "output_type": "execute_result"
    }
   ],
   "source": [
    "state_region_mapping.isnull().sum()"
   ]
  },
  {
   "cell_type": "code",
   "execution_count": 565,
   "id": "203edb47",
   "metadata": {},
   "outputs": [],
   "source": [
    "# Creating the base data to create the analytical base table"
   ]
  },
  {
   "cell_type": "code",
   "execution_count": 566,
   "id": "db5bd5ce",
   "metadata": {},
   "outputs": [],
   "source": [
    "base_data=truth.append(test)"
   ]
  },
  {
   "cell_type": "code",
   "execution_count": 567,
   "id": "341bcb09",
   "metadata": {},
   "outputs": [
    {
     "data": {
      "text/plain": [
       "72394"
      ]
     },
     "execution_count": 567,
     "metadata": {},
     "output_type": "execute_result"
    }
   ],
   "source": [
    "len(base_data)\n",
    "# This sums up the total enrollments observed during EDA"
   ]
  },
  {
   "cell_type": "code",
   "execution_count": 568,
   "id": "fc9378c3",
   "metadata": {},
   "outputs": [
    {
     "data": {
      "text/html": [
       "<div>\n",
       "<style scoped>\n",
       "    .dataframe tbody tr th:only-of-type {\n",
       "        vertical-align: middle;\n",
       "    }\n",
       "\n",
       "    .dataframe tbody tr th {\n",
       "        vertical-align: top;\n",
       "    }\n",
       "\n",
       "    .dataframe thead th {\n",
       "        text-align: right;\n",
       "    }\n",
       "</style>\n",
       "<table border=\"1\" class=\"dataframe\">\n",
       "  <thead>\n",
       "    <tr style=\"text-align: right;\">\n",
       "      <th></th>\n",
       "      <th>enrollment_id</th>\n",
       "      <th>dropout_flg</th>\n",
       "    </tr>\n",
       "  </thead>\n",
       "  <tbody>\n",
       "    <tr>\n",
       "      <th>0</th>\n",
       "      <td>4</td>\n",
       "      <td>0.0</td>\n",
       "    </tr>\n",
       "    <tr>\n",
       "      <th>1</th>\n",
       "      <td>5</td>\n",
       "      <td>0.0</td>\n",
       "    </tr>\n",
       "  </tbody>\n",
       "</table>\n",
       "</div>"
      ],
      "text/plain": [
       "   enrollment_id  dropout_flg\n",
       "0              4          0.0\n",
       "1              5          0.0"
      ]
     },
     "execution_count": 568,
     "metadata": {},
     "output_type": "execute_result"
    }
   ],
   "source": [
    "base_data.head(2)"
   ]
  },
  {
   "cell_type": "code",
   "execution_count": 569,
   "id": "6460fa7f",
   "metadata": {},
   "outputs": [
    {
     "data": {
      "text/plain": [
       "1.0    56571\n",
       "0.0    14823\n",
       "Name: dropout_flg, dtype: int64"
      ]
     },
     "execution_count": 569,
     "metadata": {},
     "output_type": "execute_result"
    }
   ],
   "source": [
    "base_data['dropout_flg'].value_counts()\n",
    "# This is from the truth table alone"
   ]
  },
  {
   "cell_type": "code",
   "execution_count": 570,
   "id": "36740b1d",
   "metadata": {},
   "outputs": [],
   "source": [
    "# Now we need to get each enrollment's geographical features\n",
    "enrollment=pd.merge(enrollment, demographics, on='username',how='inner')"
   ]
  },
  {
   "cell_type": "code",
   "execution_count": 571,
   "id": "824914e5",
   "metadata": {},
   "outputs": [
    {
     "data": {
      "text/html": [
       "<div>\n",
       "<style scoped>\n",
       "    .dataframe tbody tr th:only-of-type {\n",
       "        vertical-align: middle;\n",
       "    }\n",
       "\n",
       "    .dataframe tbody tr th {\n",
       "        vertical-align: top;\n",
       "    }\n",
       "\n",
       "    .dataframe thead th {\n",
       "        text-align: right;\n",
       "    }\n",
       "</style>\n",
       "<table border=\"1\" class=\"dataframe\">\n",
       "  <thead>\n",
       "    <tr style=\"text-align: right;\">\n",
       "      <th></th>\n",
       "      <th>enrollment_id</th>\n",
       "      <th>username</th>\n",
       "      <th>course_id</th>\n",
       "      <th>gender</th>\n",
       "      <th>zip</th>\n",
       "      <th>highest_education</th>\n",
       "    </tr>\n",
       "  </thead>\n",
       "  <tbody>\n",
       "    <tr>\n",
       "      <th>0</th>\n",
       "      <td>4</td>\n",
       "      <td>FIHlppZyoq8muPbdVxS44gfvceX9zvU7</td>\n",
       "      <td>DPnLzkJJqOOPRJfBxIHbQEERiYHu5ila</td>\n",
       "      <td>male</td>\n",
       "      <td>32821</td>\n",
       "      <td>some college</td>\n",
       "    </tr>\n",
       "    <tr>\n",
       "      <th>1</th>\n",
       "      <td>1112</td>\n",
       "      <td>FIHlppZyoq8muPbdVxS44gfvceX9zvU7</td>\n",
       "      <td>AXUJZGmZ0xaYSWazu8RQ1G5c76ECT1Kd</td>\n",
       "      <td>male</td>\n",
       "      <td>32821</td>\n",
       "      <td>some college</td>\n",
       "    </tr>\n",
       "  </tbody>\n",
       "</table>\n",
       "</div>"
      ],
      "text/plain": [
       "   enrollment_id                          username  \\\n",
       "0              4  FIHlppZyoq8muPbdVxS44gfvceX9zvU7   \n",
       "1           1112  FIHlppZyoq8muPbdVxS44gfvceX9zvU7   \n",
       "\n",
       "                          course_id gender    zip highest_education  \n",
       "0  DPnLzkJJqOOPRJfBxIHbQEERiYHu5ila   male  32821      some college  \n",
       "1  AXUJZGmZ0xaYSWazu8RQ1G5c76ECT1Kd   male  32821      some college  "
      ]
     },
     "execution_count": 571,
     "metadata": {},
     "output_type": "execute_result"
    }
   ],
   "source": [
    "enrollment.head(2)"
   ]
  },
  {
   "cell_type": "code",
   "execution_count": 572,
   "id": "ad853766",
   "metadata": {},
   "outputs": [],
   "source": [
    "# creating new calculated field --> tax_returns_per_person\n",
    "zip['proportion_tax_filed']=zip['TaxReturnsFiled']/zip['EstimatedPopulation']"
   ]
  },
  {
   "cell_type": "code",
   "execution_count": 573,
   "id": "156d9122",
   "metadata": {},
   "outputs": [],
   "source": [
    "# creating new calculated field --> wage_per_person\n",
    "zip['wage_per_person']=zip['TotalWages']/zip['EstimatedPopulation']"
   ]
  },
  {
   "cell_type": "code",
   "execution_count": 574,
   "id": "9b0e5252",
   "metadata": {},
   "outputs": [
    {
     "data": {
      "text/html": [
       "<div>\n",
       "<style scoped>\n",
       "    .dataframe tbody tr th:only-of-type {\n",
       "        vertical-align: middle;\n",
       "    }\n",
       "\n",
       "    .dataframe tbody tr th {\n",
       "        vertical-align: top;\n",
       "    }\n",
       "\n",
       "    .dataframe thead th {\n",
       "        text-align: right;\n",
       "    }\n",
       "</style>\n",
       "<table border=\"1\" class=\"dataframe\">\n",
       "  <thead>\n",
       "    <tr style=\"text-align: right;\">\n",
       "      <th></th>\n",
       "      <th>Zipcode</th>\n",
       "      <th>ZipCodeType</th>\n",
       "      <th>City</th>\n",
       "      <th>State</th>\n",
       "      <th>LocationType</th>\n",
       "      <th>Lat</th>\n",
       "      <th>Long</th>\n",
       "      <th>Location</th>\n",
       "      <th>Decommisioned</th>\n",
       "      <th>TaxReturnsFiled</th>\n",
       "      <th>EstimatedPopulation</th>\n",
       "      <th>TotalWages</th>\n",
       "      <th>proportion_tax_filed</th>\n",
       "      <th>wage_per_person</th>\n",
       "    </tr>\n",
       "  </thead>\n",
       "  <tbody>\n",
       "    <tr>\n",
       "      <th>0</th>\n",
       "      <td>705</td>\n",
       "      <td>STANDARD</td>\n",
       "      <td>AIBONITO</td>\n",
       "      <td>PR</td>\n",
       "      <td>PRIMARY</td>\n",
       "      <td>18.14</td>\n",
       "      <td>-66.26</td>\n",
       "      <td>NA-US-PR-AIBONITO</td>\n",
       "      <td>False</td>\n",
       "      <td>NaN</td>\n",
       "      <td>NaN</td>\n",
       "      <td>NaN</td>\n",
       "      <td>NaN</td>\n",
       "      <td>NaN</td>\n",
       "    </tr>\n",
       "    <tr>\n",
       "      <th>1</th>\n",
       "      <td>610</td>\n",
       "      <td>STANDARD</td>\n",
       "      <td>ANASCO</td>\n",
       "      <td>PR</td>\n",
       "      <td>PRIMARY</td>\n",
       "      <td>18.28</td>\n",
       "      <td>-67.14</td>\n",
       "      <td>NA-US-PR-ANASCO</td>\n",
       "      <td>False</td>\n",
       "      <td>NaN</td>\n",
       "      <td>NaN</td>\n",
       "      <td>NaN</td>\n",
       "      <td>NaN</td>\n",
       "      <td>NaN</td>\n",
       "    </tr>\n",
       "  </tbody>\n",
       "</table>\n",
       "</div>"
      ],
      "text/plain": [
       "   Zipcode ZipCodeType      City State LocationType    Lat   Long  \\\n",
       "0      705    STANDARD  AIBONITO    PR      PRIMARY  18.14 -66.26   \n",
       "1      610    STANDARD    ANASCO    PR      PRIMARY  18.28 -67.14   \n",
       "\n",
       "            Location  Decommisioned  TaxReturnsFiled  EstimatedPopulation  \\\n",
       "0  NA-US-PR-AIBONITO          False              NaN                  NaN   \n",
       "1    NA-US-PR-ANASCO          False              NaN                  NaN   \n",
       "\n",
       "   TotalWages  proportion_tax_filed  wage_per_person  \n",
       "0         NaN                   NaN              NaN  \n",
       "1         NaN                   NaN              NaN  "
      ]
     },
     "execution_count": 574,
     "metadata": {},
     "output_type": "execute_result"
    }
   ],
   "source": [
    "zip.head(2)"
   ]
  },
  {
   "cell_type": "code",
   "execution_count": 575,
   "id": "c96328f7",
   "metadata": {},
   "outputs": [],
   "source": [
    "zip=zip[zip['Decommisioned']==False]"
   ]
  },
  {
   "cell_type": "code",
   "execution_count": 576,
   "id": "b2687ea9",
   "metadata": {},
   "outputs": [],
   "source": [
    "# Consider only United States based locations"
   ]
  },
  {
   "cell_type": "code",
   "execution_count": 577,
   "id": "5e3924f3",
   "metadata": {},
   "outputs": [],
   "source": [
    "zip=pd.merge(zip, state_region_mapping[[\"State\",\"State Code\"]], left_on='State',right_on='State Code',how='inner')"
   ]
  },
  {
   "cell_type": "code",
   "execution_count": 578,
   "id": "9bd5ae78",
   "metadata": {},
   "outputs": [
    {
     "data": {
      "text/plain": [
       "41100"
      ]
     },
     "execution_count": 578,
     "metadata": {},
     "output_type": "execute_result"
    }
   ],
   "source": [
    "len(zip)# united state zips"
   ]
  },
  {
   "cell_type": "code",
   "execution_count": 579,
   "id": "1f9ffc49",
   "metadata": {},
   "outputs": [
    {
     "data": {
      "text/html": [
       "<div>\n",
       "<style scoped>\n",
       "    .dataframe tbody tr th:only-of-type {\n",
       "        vertical-align: middle;\n",
       "    }\n",
       "\n",
       "    .dataframe tbody tr th {\n",
       "        vertical-align: top;\n",
       "    }\n",
       "\n",
       "    .dataframe thead th {\n",
       "        text-align: right;\n",
       "    }\n",
       "</style>\n",
       "<table border=\"1\" class=\"dataframe\">\n",
       "  <thead>\n",
       "    <tr style=\"text-align: right;\">\n",
       "      <th></th>\n",
       "      <th>Zipcode</th>\n",
       "      <th>ZipCodeType</th>\n",
       "      <th>City</th>\n",
       "      <th>State_x</th>\n",
       "      <th>LocationType</th>\n",
       "      <th>Lat</th>\n",
       "      <th>Long</th>\n",
       "      <th>Location</th>\n",
       "      <th>Decommisioned</th>\n",
       "      <th>TaxReturnsFiled</th>\n",
       "      <th>EstimatedPopulation</th>\n",
       "      <th>TotalWages</th>\n",
       "      <th>proportion_tax_filed</th>\n",
       "      <th>wage_per_person</th>\n",
       "      <th>State_y</th>\n",
       "      <th>State Code</th>\n",
       "    </tr>\n",
       "  </thead>\n",
       "  <tbody>\n",
       "    <tr>\n",
       "      <th>0</th>\n",
       "      <td>7675</td>\n",
       "      <td>STANDARD</td>\n",
       "      <td>WESTWOOD</td>\n",
       "      <td>NJ</td>\n",
       "      <td>PRIMARY</td>\n",
       "      <td>40.98</td>\n",
       "      <td>-74.03</td>\n",
       "      <td>NA-US-NJ-WESTWOOD</td>\n",
       "      <td>False</td>\n",
       "      <td>13245.0</td>\n",
       "      <td>24083.0</td>\n",
       "      <td>1.089095e+09</td>\n",
       "      <td>0.549973</td>\n",
       "      <td>45222.565337</td>\n",
       "      <td>New Jersey</td>\n",
       "      <td>NJ</td>\n",
       "    </tr>\n",
       "    <tr>\n",
       "      <th>1</th>\n",
       "      <td>7677</td>\n",
       "      <td>STANDARD</td>\n",
       "      <td>WOODCLIFF LAKE</td>\n",
       "      <td>NJ</td>\n",
       "      <td>PRIMARY</td>\n",
       "      <td>41.02</td>\n",
       "      <td>-74.05</td>\n",
       "      <td>NA-US-NJ-WOODCLIFF LAKE</td>\n",
       "      <td>False</td>\n",
       "      <td>2945.0</td>\n",
       "      <td>5471.0</td>\n",
       "      <td>3.254370e+08</td>\n",
       "      <td>0.538293</td>\n",
       "      <td>59483.999269</td>\n",
       "      <td>New Jersey</td>\n",
       "      <td>NJ</td>\n",
       "    </tr>\n",
       "  </tbody>\n",
       "</table>\n",
       "</div>"
      ],
      "text/plain": [
       "   Zipcode ZipCodeType            City State_x LocationType    Lat   Long  \\\n",
       "0     7675    STANDARD        WESTWOOD      NJ      PRIMARY  40.98 -74.03   \n",
       "1     7677    STANDARD  WOODCLIFF LAKE      NJ      PRIMARY  41.02 -74.05   \n",
       "\n",
       "                  Location  Decommisioned  TaxReturnsFiled  \\\n",
       "0        NA-US-NJ-WESTWOOD          False          13245.0   \n",
       "1  NA-US-NJ-WOODCLIFF LAKE          False           2945.0   \n",
       "\n",
       "   EstimatedPopulation    TotalWages  proportion_tax_filed  wage_per_person  \\\n",
       "0              24083.0  1.089095e+09              0.549973     45222.565337   \n",
       "1               5471.0  3.254370e+08              0.538293     59483.999269   \n",
       "\n",
       "      State_y State Code  \n",
       "0  New Jersey         NJ  \n",
       "1  New Jersey         NJ  "
      ]
     },
     "execution_count": 579,
     "metadata": {},
     "output_type": "execute_result"
    }
   ],
   "source": [
    "zip.head(2)"
   ]
  },
  {
   "cell_type": "code",
   "execution_count": 580,
   "id": "45c8f514",
   "metadata": {},
   "outputs": [],
   "source": [
    "zip=zip[['Zipcode','ZipCodeType','City','EstimatedPopulation','TotalWages','proportion_tax_filed','wage_per_person','State_y']]"
   ]
  },
  {
   "cell_type": "code",
   "execution_count": 581,
   "id": "8d72a9c4",
   "metadata": {},
   "outputs": [],
   "source": [
    "# now combining with base data\n",
    "enrollment_zip=pd.merge(enrollment, zip, left_on='zip',right_on='Zipcode',how='inner')"
   ]
  },
  {
   "cell_type": "code",
   "execution_count": 582,
   "id": "5f4d5f37",
   "metadata": {},
   "outputs": [
    {
     "data": {
      "text/html": [
       "<div>\n",
       "<style scoped>\n",
       "    .dataframe tbody tr th:only-of-type {\n",
       "        vertical-align: middle;\n",
       "    }\n",
       "\n",
       "    .dataframe tbody tr th {\n",
       "        vertical-align: top;\n",
       "    }\n",
       "\n",
       "    .dataframe thead th {\n",
       "        text-align: right;\n",
       "    }\n",
       "</style>\n",
       "<table border=\"1\" class=\"dataframe\">\n",
       "  <thead>\n",
       "    <tr style=\"text-align: right;\">\n",
       "      <th></th>\n",
       "      <th>enrollment_id</th>\n",
       "      <th>username</th>\n",
       "      <th>course_id</th>\n",
       "      <th>gender</th>\n",
       "      <th>zip</th>\n",
       "      <th>highest_education</th>\n",
       "      <th>Zipcode</th>\n",
       "      <th>ZipCodeType</th>\n",
       "      <th>City</th>\n",
       "      <th>EstimatedPopulation</th>\n",
       "      <th>TotalWages</th>\n",
       "      <th>proportion_tax_filed</th>\n",
       "      <th>wage_per_person</th>\n",
       "      <th>State_y</th>\n",
       "    </tr>\n",
       "  </thead>\n",
       "  <tbody>\n",
       "    <tr>\n",
       "      <th>0</th>\n",
       "      <td>4</td>\n",
       "      <td>FIHlppZyoq8muPbdVxS44gfvceX9zvU7</td>\n",
       "      <td>DPnLzkJJqOOPRJfBxIHbQEERiYHu5ila</td>\n",
       "      <td>male</td>\n",
       "      <td>32821</td>\n",
       "      <td>some college</td>\n",
       "      <td>32821</td>\n",
       "      <td>STANDARD</td>\n",
       "      <td>ORLANDO</td>\n",
       "      <td>13026.0</td>\n",
       "      <td>263459247.0</td>\n",
       "      <td>0.739291</td>\n",
       "      <td>20225.644634</td>\n",
       "      <td>Florida</td>\n",
       "    </tr>\n",
       "    <tr>\n",
       "      <th>1</th>\n",
       "      <td>1112</td>\n",
       "      <td>FIHlppZyoq8muPbdVxS44gfvceX9zvU7</td>\n",
       "      <td>AXUJZGmZ0xaYSWazu8RQ1G5c76ECT1Kd</td>\n",
       "      <td>male</td>\n",
       "      <td>32821</td>\n",
       "      <td>some college</td>\n",
       "      <td>32821</td>\n",
       "      <td>STANDARD</td>\n",
       "      <td>ORLANDO</td>\n",
       "      <td>13026.0</td>\n",
       "      <td>263459247.0</td>\n",
       "      <td>0.739291</td>\n",
       "      <td>20225.644634</td>\n",
       "      <td>Florida</td>\n",
       "    </tr>\n",
       "  </tbody>\n",
       "</table>\n",
       "</div>"
      ],
      "text/plain": [
       "   enrollment_id                          username  \\\n",
       "0              4  FIHlppZyoq8muPbdVxS44gfvceX9zvU7   \n",
       "1           1112  FIHlppZyoq8muPbdVxS44gfvceX9zvU7   \n",
       "\n",
       "                          course_id gender    zip highest_education  Zipcode  \\\n",
       "0  DPnLzkJJqOOPRJfBxIHbQEERiYHu5ila   male  32821      some college    32821   \n",
       "1  AXUJZGmZ0xaYSWazu8RQ1G5c76ECT1Kd   male  32821      some college    32821   \n",
       "\n",
       "  ZipCodeType     City  EstimatedPopulation   TotalWages  \\\n",
       "0    STANDARD  ORLANDO              13026.0  263459247.0   \n",
       "1    STANDARD  ORLANDO              13026.0  263459247.0   \n",
       "\n",
       "   proportion_tax_filed  wage_per_person  State_y  \n",
       "0              0.739291     20225.644634  Florida  \n",
       "1              0.739291     20225.644634  Florida  "
      ]
     },
     "execution_count": 582,
     "metadata": {},
     "output_type": "execute_result"
    }
   ],
   "source": [
    "enrollment_zip.head(2)"
   ]
  },
  {
   "cell_type": "code",
   "execution_count": 583,
   "id": "f5837848",
   "metadata": {},
   "outputs": [],
   "source": [
    "# now combining with base data\n",
    "base_data=pd.merge(base_data, enrollment_zip, on='enrollment_id',how='inner')"
   ]
  },
  {
   "cell_type": "code",
   "execution_count": 584,
   "id": "21428bc3",
   "metadata": {},
   "outputs": [
    {
     "data": {
      "text/plain": [
       "72394"
      ]
     },
     "execution_count": 584,
     "metadata": {},
     "output_type": "execute_result"
    }
   ],
   "source": [
    "len(base_data)"
   ]
  },
  {
   "cell_type": "code",
   "execution_count": 585,
   "id": "0fcfe6fc",
   "metadata": {},
   "outputs": [
    {
     "data": {
      "text/html": [
       "<div>\n",
       "<style scoped>\n",
       "    .dataframe tbody tr th:only-of-type {\n",
       "        vertical-align: middle;\n",
       "    }\n",
       "\n",
       "    .dataframe tbody tr th {\n",
       "        vertical-align: top;\n",
       "    }\n",
       "\n",
       "    .dataframe thead th {\n",
       "        text-align: right;\n",
       "    }\n",
       "</style>\n",
       "<table border=\"1\" class=\"dataframe\">\n",
       "  <thead>\n",
       "    <tr style=\"text-align: right;\">\n",
       "      <th></th>\n",
       "      <th>enrollment_id</th>\n",
       "      <th>dropout_flg</th>\n",
       "      <th>username</th>\n",
       "      <th>course_id</th>\n",
       "      <th>gender</th>\n",
       "      <th>zip</th>\n",
       "      <th>highest_education</th>\n",
       "      <th>Zipcode</th>\n",
       "      <th>ZipCodeType</th>\n",
       "      <th>City</th>\n",
       "      <th>EstimatedPopulation</th>\n",
       "      <th>TotalWages</th>\n",
       "      <th>proportion_tax_filed</th>\n",
       "      <th>wage_per_person</th>\n",
       "      <th>State_y</th>\n",
       "    </tr>\n",
       "  </thead>\n",
       "  <tbody>\n",
       "    <tr>\n",
       "      <th>0</th>\n",
       "      <td>4</td>\n",
       "      <td>0.0</td>\n",
       "      <td>FIHlppZyoq8muPbdVxS44gfvceX9zvU7</td>\n",
       "      <td>DPnLzkJJqOOPRJfBxIHbQEERiYHu5ila</td>\n",
       "      <td>male</td>\n",
       "      <td>32821</td>\n",
       "      <td>some college</td>\n",
       "      <td>32821</td>\n",
       "      <td>STANDARD</td>\n",
       "      <td>ORLANDO</td>\n",
       "      <td>13026.0</td>\n",
       "      <td>263459247.0</td>\n",
       "      <td>0.739291</td>\n",
       "      <td>20225.644634</td>\n",
       "      <td>Florida</td>\n",
       "    </tr>\n",
       "    <tr>\n",
       "      <th>1</th>\n",
       "      <td>5</td>\n",
       "      <td>0.0</td>\n",
       "      <td>p1Mp7WkVfzUijX0peVQKSHbgd5pXyl4c</td>\n",
       "      <td>7GRhBDsirIGkRZBtSMEzNTyDr2JQm4xx</td>\n",
       "      <td>male</td>\n",
       "      <td>20886</td>\n",
       "      <td>highschool</td>\n",
       "      <td>20886</td>\n",
       "      <td>STANDARD</td>\n",
       "      <td>MONTGOMERY VILLAGE</td>\n",
       "      <td>27103.0</td>\n",
       "      <td>790112370.0</td>\n",
       "      <td>0.599565</td>\n",
       "      <td>29152.210825</td>\n",
       "      <td>Maryland</td>\n",
       "    </tr>\n",
       "  </tbody>\n",
       "</table>\n",
       "</div>"
      ],
      "text/plain": [
       "   enrollment_id  dropout_flg                          username  \\\n",
       "0              4          0.0  FIHlppZyoq8muPbdVxS44gfvceX9zvU7   \n",
       "1              5          0.0  p1Mp7WkVfzUijX0peVQKSHbgd5pXyl4c   \n",
       "\n",
       "                          course_id gender    zip highest_education  Zipcode  \\\n",
       "0  DPnLzkJJqOOPRJfBxIHbQEERiYHu5ila   male  32821      some college    32821   \n",
       "1  7GRhBDsirIGkRZBtSMEzNTyDr2JQm4xx   male  20886        highschool    20886   \n",
       "\n",
       "  ZipCodeType                City  EstimatedPopulation   TotalWages  \\\n",
       "0    STANDARD             ORLANDO              13026.0  263459247.0   \n",
       "1    STANDARD  MONTGOMERY VILLAGE              27103.0  790112370.0   \n",
       "\n",
       "   proportion_tax_filed  wage_per_person   State_y  \n",
       "0              0.739291     20225.644634   Florida  \n",
       "1              0.599565     29152.210825  Maryland  "
      ]
     },
     "execution_count": 585,
     "metadata": {},
     "output_type": "execute_result"
    }
   ],
   "source": [
    "base_data.head(2)"
   ]
  },
  {
   "cell_type": "code",
   "execution_count": 586,
   "id": "a8325813",
   "metadata": {},
   "outputs": [],
   "source": [
    "# Now we should organize the log data by the fields we need"
   ]
  },
  {
   "cell_type": "code",
   "execution_count": 587,
   "id": "9d304dba",
   "metadata": {},
   "outputs": [],
   "source": [
    "# for eventwise features\n",
    "log_event_min=log.groupby(['enrollment_id','event'])['time'].min().reset_index(name='min')\n",
    "log_event_max=log.groupby(['enrollment_id','event'])['time'].max().reset_index(name='max')\n",
    "log_event_count=log.groupby(['enrollment_id','event'])['event'].count().reset_index(name='count_event')"
   ]
  },
  {
   "cell_type": "code",
   "execution_count": 588,
   "id": "fa96c46f",
   "metadata": {},
   "outputs": [],
   "source": [
    "log_event=pd.merge(log_event_min,log_event_max,on=['enrollment_id','event'],how='inner')"
   ]
  },
  {
   "cell_type": "code",
   "execution_count": 589,
   "id": "27f40c89",
   "metadata": {},
   "outputs": [],
   "source": [
    "log_event=pd.merge(log_event,log_event_count,on=['enrollment_id','event'],how='inner')"
   ]
  },
  {
   "cell_type": "code",
   "execution_count": 590,
   "id": "738b00dc",
   "metadata": {},
   "outputs": [
    {
     "data": {
      "text/html": [
       "<div>\n",
       "<style scoped>\n",
       "    .dataframe tbody tr th:only-of-type {\n",
       "        vertical-align: middle;\n",
       "    }\n",
       "\n",
       "    .dataframe tbody tr th {\n",
       "        vertical-align: top;\n",
       "    }\n",
       "\n",
       "    .dataframe thead th {\n",
       "        text-align: right;\n",
       "    }\n",
       "</style>\n",
       "<table border=\"1\" class=\"dataframe\">\n",
       "  <thead>\n",
       "    <tr style=\"text-align: right;\">\n",
       "      <th></th>\n",
       "      <th>enrollment_id</th>\n",
       "      <th>event</th>\n",
       "      <th>min</th>\n",
       "      <th>max</th>\n",
       "      <th>count_event</th>\n",
       "    </tr>\n",
       "  </thead>\n",
       "  <tbody>\n",
       "    <tr>\n",
       "      <th>0</th>\n",
       "      <td>4</td>\n",
       "      <td>access</td>\n",
       "      <td>2014-06-15T01:44:13</td>\n",
       "      <td>2014-07-02T11:32:39</td>\n",
       "      <td>64</td>\n",
       "    </tr>\n",
       "    <tr>\n",
       "      <th>1</th>\n",
       "      <td>4</td>\n",
       "      <td>navigate</td>\n",
       "      <td>2014-06-15T01:44:10</td>\n",
       "      <td>2014-07-02T11:32:32</td>\n",
       "      <td>15</td>\n",
       "    </tr>\n",
       "  </tbody>\n",
       "</table>\n",
       "</div>"
      ],
      "text/plain": [
       "   enrollment_id     event                  min                  max  \\\n",
       "0              4    access  2014-06-15T01:44:13  2014-07-02T11:32:39   \n",
       "1              4  navigate  2014-06-15T01:44:10  2014-07-02T11:32:32   \n",
       "\n",
       "   count_event  \n",
       "0           64  \n",
       "1           15  "
      ]
     },
     "execution_count": 590,
     "metadata": {},
     "output_type": "execute_result"
    }
   ],
   "source": [
    "log_event.head(2)"
   ]
  },
  {
   "cell_type": "code",
   "execution_count": 591,
   "id": "0480bff0",
   "metadata": {},
   "outputs": [],
   "source": [
    "log_event['min'] = pd.to_datetime(log_event['min'])\n",
    "log_event['max'] = pd.to_datetime(log_event['max'])"
   ]
  },
  {
   "cell_type": "code",
   "execution_count": 592,
   "id": "f881176c",
   "metadata": {},
   "outputs": [],
   "source": [
    "log_event['duration']=(log_event['max']-log_event['min']).dt.days"
   ]
  },
  {
   "cell_type": "code",
   "execution_count": 593,
   "id": "006d4039",
   "metadata": {},
   "outputs": [
    {
     "data": {
      "text/html": [
       "<div>\n",
       "<style scoped>\n",
       "    .dataframe tbody tr th:only-of-type {\n",
       "        vertical-align: middle;\n",
       "    }\n",
       "\n",
       "    .dataframe tbody tr th {\n",
       "        vertical-align: top;\n",
       "    }\n",
       "\n",
       "    .dataframe thead th {\n",
       "        text-align: right;\n",
       "    }\n",
       "</style>\n",
       "<table border=\"1\" class=\"dataframe\">\n",
       "  <thead>\n",
       "    <tr style=\"text-align: right;\">\n",
       "      <th>event</th>\n",
       "      <th>enrollment_id</th>\n",
       "      <th>access</th>\n",
       "      <th>discussion</th>\n",
       "      <th>navigate</th>\n",
       "      <th>page_close</th>\n",
       "      <th>problem</th>\n",
       "      <th>video</th>\n",
       "      <th>wiki</th>\n",
       "    </tr>\n",
       "  </thead>\n",
       "  <tbody>\n",
       "    <tr>\n",
       "      <th>0</th>\n",
       "      <td>4</td>\n",
       "      <td>3.764706</td>\n",
       "      <td>NaN</td>\n",
       "      <td>0.882353</td>\n",
       "      <td>0.588235</td>\n",
       "      <td>0.666667</td>\n",
       "      <td>0.363636</td>\n",
       "      <td>NaN</td>\n",
       "    </tr>\n",
       "    <tr>\n",
       "      <th>1</th>\n",
       "      <td>5</td>\n",
       "      <td>8.370370</td>\n",
       "      <td>1.619048</td>\n",
       "      <td>1.034483</td>\n",
       "      <td>3.222222</td>\n",
       "      <td>6.296296</td>\n",
       "      <td>3.185185</td>\n",
       "      <td>NaN</td>\n",
       "    </tr>\n",
       "  </tbody>\n",
       "</table>\n",
       "</div>"
      ],
      "text/plain": [
       "event  enrollment_id    access  discussion  navigate  page_close   problem  \\\n",
       "0                  4  3.764706         NaN  0.882353    0.588235  0.666667   \n",
       "1                  5  8.370370    1.619048  1.034483    3.222222  6.296296   \n",
       "\n",
       "event     video  wiki  \n",
       "0      0.363636   NaN  \n",
       "1      3.185185   NaN  "
      ]
     },
     "execution_count": 593,
     "metadata": {},
     "output_type": "execute_result"
    }
   ],
   "source": [
    "log_event_pivot.head(2)"
   ]
  },
  {
   "cell_type": "code",
   "execution_count": 594,
   "id": "c2ba49f6",
   "metadata": {},
   "outputs": [],
   "source": [
    "log_event_pivot_dur=log_event.pivot(index='enrollment_id',columns='event',values='duration').reset_index()"
   ]
  },
  {
   "cell_type": "code",
   "execution_count": 595,
   "id": "72084ca9",
   "metadata": {},
   "outputs": [],
   "source": [
    "# for enrollment wise features\n",
    "log_min=log.groupby(['enrollment_id'])['time'].min().reset_index(name='min')\n",
    "log_max=log.groupby(['enrollment_id'])['time'].max().reset_index(name='max')\n",
    "log_count=log.groupby(['enrollment_id'])['event'].nunique().reset_index(name='count_event')"
   ]
  },
  {
   "cell_type": "code",
   "execution_count": 596,
   "id": "0ef6f8d8",
   "metadata": {},
   "outputs": [],
   "source": [
    "log_event=pd.merge(log_min,log_max,on=['enrollment_id'],how='inner')\n",
    "log_event=pd.merge(log_event,log_count,on=['enrollment_id'],how='inner')\n",
    "\n",
    "log_event['min'] = pd.to_datetime(log_event['min'])\n",
    "log_event['max'] = pd.to_datetime(log_event['max'])\n",
    "\n",
    "log_event['duration']=(log_event['max']-log_event['min']).dt.days"
   ]
  },
  {
   "cell_type": "code",
   "execution_count": 597,
   "id": "8a97dcb4",
   "metadata": {},
   "outputs": [],
   "source": [
    "log_event.rename(columns={'duration':'total_duration'},inplace=True)"
   ]
  },
  {
   "cell_type": "code",
   "execution_count": 598,
   "id": "a760d072",
   "metadata": {},
   "outputs": [
    {
     "data": {
      "text/plain": [
       "72394"
      ]
     },
     "execution_count": 598,
     "metadata": {},
     "output_type": "execute_result"
    }
   ],
   "source": [
    "len(log_event)"
   ]
  },
  {
   "cell_type": "code",
   "execution_count": 599,
   "id": "e4b2f949",
   "metadata": {},
   "outputs": [],
   "source": [
    "log_event=log_event[['enrollment_id','count_event','total_duration']]"
   ]
  },
  {
   "cell_type": "code",
   "execution_count": 600,
   "id": "a5203f80",
   "metadata": {},
   "outputs": [],
   "source": [
    "log_event_merge=pd.merge(log_event_pivot_dur,log_event,on='enrollment_id',how='inner')"
   ]
  },
  {
   "cell_type": "code",
   "execution_count": 601,
   "id": "24503c79",
   "metadata": {},
   "outputs": [],
   "source": [
    "log_event_merge['access']=log_event_merge['access']/log_event_merge['total_duration']\n",
    "log_event_merge['discussion']=log_event_merge['discussion']/log_event_merge['total_duration']\n",
    "log_event_merge['navigate']=log_event_merge['navigate']/log_event_merge['total_duration']\n",
    "log_event_merge['page_close']=log_event_merge['page_close']/log_event_merge['total_duration']\n",
    "log_event_merge['problem']=log_event_merge['problem']/log_event_merge['total_duration']\n",
    "log_event_merge['video']=log_event_merge['video']/log_event_merge['total_duration']\n",
    "log_event_merge['wiki']=log_event_merge['wiki']/log_event_merge['total_duration']"
   ]
  },
  {
   "cell_type": "code",
   "execution_count": 602,
   "id": "d3146f3d",
   "metadata": {},
   "outputs": [
    {
     "data": {
      "text/html": [
       "<div>\n",
       "<style scoped>\n",
       "    .dataframe tbody tr th:only-of-type {\n",
       "        vertical-align: middle;\n",
       "    }\n",
       "\n",
       "    .dataframe tbody tr th {\n",
       "        vertical-align: top;\n",
       "    }\n",
       "\n",
       "    .dataframe thead th {\n",
       "        text-align: right;\n",
       "    }\n",
       "</style>\n",
       "<table border=\"1\" class=\"dataframe\">\n",
       "  <thead>\n",
       "    <tr style=\"text-align: right;\">\n",
       "      <th></th>\n",
       "      <th>enrollment_id</th>\n",
       "      <th>access</th>\n",
       "      <th>discussion</th>\n",
       "      <th>navigate</th>\n",
       "      <th>page_close</th>\n",
       "      <th>problem</th>\n",
       "      <th>video</th>\n",
       "      <th>wiki</th>\n",
       "      <th>count_event</th>\n",
       "      <th>total_duration</th>\n",
       "    </tr>\n",
       "  </thead>\n",
       "  <tbody>\n",
       "    <tr>\n",
       "      <th>0</th>\n",
       "      <td>4</td>\n",
       "      <td>1.000000</td>\n",
       "      <td>NaN</td>\n",
       "      <td>1.0</td>\n",
       "      <td>1.000000</td>\n",
       "      <td>0.529412</td>\n",
       "      <td>0.647059</td>\n",
       "      <td>NaN</td>\n",
       "      <td>5</td>\n",
       "      <td>17</td>\n",
       "    </tr>\n",
       "    <tr>\n",
       "      <th>1</th>\n",
       "      <td>5</td>\n",
       "      <td>0.931034</td>\n",
       "      <td>0.724138</td>\n",
       "      <td>1.0</td>\n",
       "      <td>0.931034</td>\n",
       "      <td>0.931034</td>\n",
       "      <td>0.931034</td>\n",
       "      <td>NaN</td>\n",
       "      <td>6</td>\n",
       "      <td>29</td>\n",
       "    </tr>\n",
       "  </tbody>\n",
       "</table>\n",
       "</div>"
      ],
      "text/plain": [
       "   enrollment_id    access  discussion  navigate  page_close   problem  \\\n",
       "0              4  1.000000         NaN       1.0    1.000000  0.529412   \n",
       "1              5  0.931034    0.724138       1.0    0.931034  0.931034   \n",
       "\n",
       "      video  wiki  count_event  total_duration  \n",
       "0  0.647059   NaN            5              17  \n",
       "1  0.931034   NaN            6              29  "
      ]
     },
     "execution_count": 602,
     "metadata": {},
     "output_type": "execute_result"
    }
   ],
   "source": [
    "log_event_merge.head(2)"
   ]
  },
  {
   "cell_type": "code",
   "execution_count": 603,
   "id": "55f74cd3",
   "metadata": {},
   "outputs": [
    {
     "data": {
      "text/plain": [
       "72394"
      ]
     },
     "execution_count": 603,
     "metadata": {},
     "output_type": "execute_result"
    }
   ],
   "source": [
    "len(log_event_merge)"
   ]
  },
  {
   "cell_type": "code",
   "execution_count": 604,
   "id": "2912cbef",
   "metadata": {},
   "outputs": [],
   "source": [
    "# join with base data\n",
    "base_data=pd.merge(base_data,log_event_merge,on='enrollment_id',how='inner')"
   ]
  },
  {
   "cell_type": "code",
   "execution_count": 605,
   "id": "e6e9475e",
   "metadata": {},
   "outputs": [
    {
     "data": {
      "text/html": [
       "<div>\n",
       "<style scoped>\n",
       "    .dataframe tbody tr th:only-of-type {\n",
       "        vertical-align: middle;\n",
       "    }\n",
       "\n",
       "    .dataframe tbody tr th {\n",
       "        vertical-align: top;\n",
       "    }\n",
       "\n",
       "    .dataframe thead th {\n",
       "        text-align: right;\n",
       "    }\n",
       "</style>\n",
       "<table border=\"1\" class=\"dataframe\">\n",
       "  <thead>\n",
       "    <tr style=\"text-align: right;\">\n",
       "      <th></th>\n",
       "      <th>enrollment_id</th>\n",
       "      <th>dropout_flg</th>\n",
       "      <th>username</th>\n",
       "      <th>course_id</th>\n",
       "      <th>gender</th>\n",
       "      <th>zip</th>\n",
       "      <th>highest_education</th>\n",
       "      <th>Zipcode</th>\n",
       "      <th>ZipCodeType</th>\n",
       "      <th>City</th>\n",
       "      <th>...</th>\n",
       "      <th>State_y</th>\n",
       "      <th>access</th>\n",
       "      <th>discussion</th>\n",
       "      <th>navigate</th>\n",
       "      <th>page_close</th>\n",
       "      <th>problem</th>\n",
       "      <th>video</th>\n",
       "      <th>wiki</th>\n",
       "      <th>count_event</th>\n",
       "      <th>total_duration</th>\n",
       "    </tr>\n",
       "  </thead>\n",
       "  <tbody>\n",
       "    <tr>\n",
       "      <th>0</th>\n",
       "      <td>4</td>\n",
       "      <td>0.0</td>\n",
       "      <td>FIHlppZyoq8muPbdVxS44gfvceX9zvU7</td>\n",
       "      <td>DPnLzkJJqOOPRJfBxIHbQEERiYHu5ila</td>\n",
       "      <td>male</td>\n",
       "      <td>32821</td>\n",
       "      <td>some college</td>\n",
       "      <td>32821</td>\n",
       "      <td>STANDARD</td>\n",
       "      <td>ORLANDO</td>\n",
       "      <td>...</td>\n",
       "      <td>Florida</td>\n",
       "      <td>1.000000</td>\n",
       "      <td>NaN</td>\n",
       "      <td>1.0</td>\n",
       "      <td>1.000000</td>\n",
       "      <td>0.529412</td>\n",
       "      <td>0.647059</td>\n",
       "      <td>NaN</td>\n",
       "      <td>5</td>\n",
       "      <td>17</td>\n",
       "    </tr>\n",
       "    <tr>\n",
       "      <th>1</th>\n",
       "      <td>5</td>\n",
       "      <td>0.0</td>\n",
       "      <td>p1Mp7WkVfzUijX0peVQKSHbgd5pXyl4c</td>\n",
       "      <td>7GRhBDsirIGkRZBtSMEzNTyDr2JQm4xx</td>\n",
       "      <td>male</td>\n",
       "      <td>20886</td>\n",
       "      <td>highschool</td>\n",
       "      <td>20886</td>\n",
       "      <td>STANDARD</td>\n",
       "      <td>MONTGOMERY VILLAGE</td>\n",
       "      <td>...</td>\n",
       "      <td>Maryland</td>\n",
       "      <td>0.931034</td>\n",
       "      <td>0.724138</td>\n",
       "      <td>1.0</td>\n",
       "      <td>0.931034</td>\n",
       "      <td>0.931034</td>\n",
       "      <td>0.931034</td>\n",
       "      <td>NaN</td>\n",
       "      <td>6</td>\n",
       "      <td>29</td>\n",
       "    </tr>\n",
       "  </tbody>\n",
       "</table>\n",
       "<p>2 rows × 24 columns</p>\n",
       "</div>"
      ],
      "text/plain": [
       "   enrollment_id  dropout_flg                          username  \\\n",
       "0              4          0.0  FIHlppZyoq8muPbdVxS44gfvceX9zvU7   \n",
       "1              5          0.0  p1Mp7WkVfzUijX0peVQKSHbgd5pXyl4c   \n",
       "\n",
       "                          course_id gender    zip highest_education  Zipcode  \\\n",
       "0  DPnLzkJJqOOPRJfBxIHbQEERiYHu5ila   male  32821      some college    32821   \n",
       "1  7GRhBDsirIGkRZBtSMEzNTyDr2JQm4xx   male  20886        highschool    20886   \n",
       "\n",
       "  ZipCodeType                City  ...   State_y    access  discussion  \\\n",
       "0    STANDARD             ORLANDO  ...   Florida  1.000000         NaN   \n",
       "1    STANDARD  MONTGOMERY VILLAGE  ...  Maryland  0.931034    0.724138   \n",
       "\n",
       "   navigate page_close   problem     video  wiki  count_event  total_duration  \n",
       "0       1.0   1.000000  0.529412  0.647059   NaN            5              17  \n",
       "1       1.0   0.931034  0.931034  0.931034   NaN            6              29  \n",
       "\n",
       "[2 rows x 24 columns]"
      ]
     },
     "execution_count": 605,
     "metadata": {},
     "output_type": "execute_result"
    }
   ],
   "source": [
    "base_data.head(2)"
   ]
  },
  {
   "cell_type": "code",
   "execution_count": 606,
   "id": "6e7df551",
   "metadata": {},
   "outputs": [
    {
     "data": {
      "text/plain": [
       "Index(['enrollment_id', 'dropout_flg', 'username', 'course_id', 'gender',\n",
       "       'zip', 'highest_education', 'Zipcode', 'ZipCodeType', 'City',\n",
       "       'EstimatedPopulation', 'TotalWages', 'proportion_tax_filed',\n",
       "       'wage_per_person', 'State_y', 'access', 'discussion', 'navigate',\n",
       "       'page_close', 'problem', 'video', 'wiki', 'count_event',\n",
       "       'total_duration'],\n",
       "      dtype='object')"
      ]
     },
     "execution_count": 606,
     "metadata": {},
     "output_type": "execute_result"
    }
   ],
   "source": [
    "base_data.columns"
   ]
  },
  {
   "cell_type": "code",
   "execution_count": 607,
   "id": "84f2a00a",
   "metadata": {},
   "outputs": [],
   "source": [
    "base_data=base_data[['enrollment_id','gender','zip','highest_education','ZipCodeType','City','proportion_tax_filed','wage_per_person','State_y','access','discussion',\\\n",
    "          'navigate','page_close','problem','video','wiki','count_event','total_duration','dropout_flg']]"
   ]
  },
  {
   "cell_type": "markdown",
   "id": "67a790fe",
   "metadata": {},
   "source": [
    "### Learnings\n",
    " - Further analysing the nulls in gender of demographics table"
   ]
  },
  {
   "cell_type": "code",
   "execution_count": 608,
   "id": "23fa0ce5",
   "metadata": {},
   "outputs": [
    {
     "data": {
      "text/plain": [
       "female     13983\n",
       "male       12930\n",
       "missing     9789\n",
       "other       3284\n",
       "Name: gender, dtype: int64"
      ]
     },
     "execution_count": 608,
     "metadata": {},
     "output_type": "execute_result"
    }
   ],
   "source": [
    "demographics['gender'].value_counts()"
   ]
  },
  {
   "cell_type": "code",
   "execution_count": 609,
   "id": "de5db3eb",
   "metadata": {},
   "outputs": [
    {
     "data": {
      "text/plain": [
       "female     0.349697\n",
       "male       0.323363\n",
       "missing    0.244811\n",
       "other      0.082129\n",
       "Name: gender, dtype: float64"
      ]
     },
     "execution_count": 609,
     "metadata": {},
     "output_type": "execute_result"
    }
   ],
   "source": [
    "demographics['gender'].value_counts(normalize=True)"
   ]
  },
  {
   "cell_type": "code",
   "execution_count": 610,
   "id": "d9d0dc37",
   "metadata": {},
   "outputs": [],
   "source": [
    "demographics['gender'].fillna('missing',inplace=True)"
   ]
  },
  {
   "cell_type": "code",
   "execution_count": 611,
   "id": "06e53575",
   "metadata": {},
   "outputs": [
    {
     "data": {
      "text/plain": [
       "missing    0.439447\n",
       "female     0.259569\n",
       "male       0.240022\n",
       "other      0.060962\n",
       "Name: gender, dtype: float64"
      ]
     },
     "execution_count": 611,
     "metadata": {},
     "output_type": "execute_result"
    }
   ],
   "source": [
    "demographics['gender'].value_counts(normalize=True)"
   ]
  },
  {
   "cell_type": "code",
   "execution_count": 613,
   "id": "3cd865cf",
   "metadata": {},
   "outputs": [],
   "source": [
    "base_data.to_csv('abt.csv')"
   ]
  },
  {
   "cell_type": "code",
   "execution_count": 472,
   "id": "959993ce",
   "metadata": {},
   "outputs": [
    {
     "name": "stderr",
     "output_type": "stream",
     "text": [
      "C:\\Users\\Revathi P\\anaconda3\\lib\\site-packages\\pandas\\core\\frame.py:4906: SettingWithCopyWarning: \n",
      "A value is trying to be set on a copy of a slice from a DataFrame\n",
      "\n",
      "See the caveats in the documentation: https://pandas.pydata.org/pandas-docs/stable/user_guide/indexing.html#returning-a-view-versus-a-copy\n",
      "  return super().drop(\n"
     ]
    }
   ],
   "source": [
    "# gender eliminated as it has many nulls (almost 44%)\n",
    "base_data.drop('gender',axis=1,inplace=True)"
   ]
  },
  {
   "cell_type": "markdown",
   "id": "9cc642d8",
   "metadata": {},
   "source": [
    "Assumptions\n",
    "\n",
    "1)  Whereever tax returns filed is NaN, assume no one filed tax returns in that location and consider it as 0\n",
    "\n",
    "2) nulls in event related fields mean that a corresponding event didn't occur"
   ]
  },
  {
   "cell_type": "code",
   "execution_count": 278,
   "id": "b3e8ad11",
   "metadata": {},
   "outputs": [
    {
     "data": {
      "text/plain": [
       "enrollment_id             int64\n",
       "zip                       int64\n",
       "highest_education        object\n",
       "ZipCodeType              object\n",
       "City                     object\n",
       "proportion_tax_filed    float64\n",
       "wage_per_person         float64\n",
       "State_y                  object\n",
       "access                  float64\n",
       "discussion              float64\n",
       "navigate                float64\n",
       "page_close              float64\n",
       "problem                 float64\n",
       "video                   float64\n",
       "wiki                    float64\n",
       "count_event               int64\n",
       "total_duration            int64\n",
       "dropout_flg             float64\n",
       "dtype: object"
      ]
     },
     "execution_count": 278,
     "metadata": {},
     "output_type": "execute_result"
    }
   ],
   "source": [
    "base_data.dtypes"
   ]
  },
  {
   "cell_type": "code",
   "execution_count": 279,
   "id": "53fa24cd",
   "metadata": {},
   "outputs": [
    {
     "data": {
      "text/plain": [
       "enrollment_id               0\n",
       "zip                         0\n",
       "highest_education           0\n",
       "ZipCodeType                 0\n",
       "City                        0\n",
       "proportion_tax_filed        0\n",
       "wage_per_person           458\n",
       "State_y                     0\n",
       "access                  43921\n",
       "discussion              55108\n",
       "navigate                42983\n",
       "page_close              44861\n",
       "problem                 53239\n",
       "video                   46721\n",
       "wiki                    59406\n",
       "count_event                 0\n",
       "total_duration              0\n",
       "dropout_flg              1000\n",
       "dtype: int64"
      ]
     },
     "execution_count": 279,
     "metadata": {},
     "output_type": "execute_result"
    }
   ],
   "source": [
    "base_data.isnull().sum()"
   ]
  },
  {
   "cell_type": "code",
   "execution_count": 280,
   "id": "e49d49e7",
   "metadata": {},
   "outputs": [
    {
     "data": {
      "text/plain": [
       "array([[<AxesSubplot:title={'center':'enrollment_id'}>,\n",
       "        <AxesSubplot:title={'center':'zip'}>,\n",
       "        <AxesSubplot:title={'center':'proportion_tax_filed'}>,\n",
       "        <AxesSubplot:title={'center':'wage_per_person'}>],\n",
       "       [<AxesSubplot:title={'center':'access'}>,\n",
       "        <AxesSubplot:title={'center':'discussion'}>,\n",
       "        <AxesSubplot:title={'center':'navigate'}>,\n",
       "        <AxesSubplot:title={'center':'page_close'}>],\n",
       "       [<AxesSubplot:title={'center':'problem'}>,\n",
       "        <AxesSubplot:title={'center':'video'}>,\n",
       "        <AxesSubplot:title={'center':'wiki'}>,\n",
       "        <AxesSubplot:title={'center':'count_event'}>],\n",
       "       [<AxesSubplot:title={'center':'total_duration'}>,\n",
       "        <AxesSubplot:title={'center':'dropout_flg'}>, <AxesSubplot:>,\n",
       "        <AxesSubplot:>]], dtype=object)"
      ]
     },
     "execution_count": 280,
     "metadata": {},
     "output_type": "execute_result"
    },
    {
     "data": {
      "image/png": "[encoded data removed]",
      "text/plain": [
       "<Figure size 720x720 with 16 Axes>"
      ]
     },
     "metadata": {
      "needs_background": "light"
     },
     "output_type": "display_data"
    }
   ],
   "source": [
    "base_data.hist(bins=20,figsize=(10,10))"
   ]
  },
  {
   "cell_type": "code",
   "execution_count": 474,
   "id": "b3337a0f",
   "metadata": {},
   "outputs": [
    {
     "name": "stderr",
     "output_type": "stream",
     "text": [
      "C:\\Users\\Revathi P\\anaconda3\\lib\\site-packages\\pandas\\core\\generic.py:6392: SettingWithCopyWarning: \n",
      "A value is trying to be set on a copy of a slice from a DataFrame\n",
      "\n",
      "See the caveats in the documentation: https://pandas.pydata.org/pandas-docs/stable/user_guide/indexing.html#returning-a-view-versus-a-copy\n",
      "  return self._update_inplace(result)\n"
     ]
    }
   ],
   "source": [
    "import numpy as np\n",
    "# replace by mean since the distribution is close to normal\n",
    "base_data['wage_per_person'].fillna(np.mean(base_data['wage_per_person']),inplace=True)"
   ]
  },
  {
   "cell_type": "code",
   "execution_count": 475,
   "id": "838aed29",
   "metadata": {},
   "outputs": [
    {
     "data": {
      "text/plain": [
       "enrollment_id               0\n",
       "zip                         0\n",
       "highest_education           0\n",
       "ZipCodeType                 0\n",
       "City                        0\n",
       "proportion_tax_filed        0\n",
       "wage_per_person             0\n",
       "State_y                     0\n",
       "access                  43921\n",
       "discussion              55108\n",
       "navigate                42983\n",
       "page_close              44861\n",
       "problem                 53239\n",
       "video                   46721\n",
       "wiki                    59406\n",
       "count_event                 0\n",
       "total_duration              0\n",
       "dropout_flg              1000\n",
       "dtype: int64"
      ]
     },
     "execution_count": 475,
     "metadata": {},
     "output_type": "execute_result"
    }
   ],
   "source": [
    "base_data.isnull().sum()"
   ]
  },
  {
   "cell_type": "code",
   "execution_count": 476,
   "id": "58383fef",
   "metadata": {},
   "outputs": [
    {
     "data": {
      "text/plain": [
       "Index(['enrollment_id', 'zip', 'highest_education', 'ZipCodeType', 'City',\n",
       "       'proportion_tax_filed', 'wage_per_person', 'State_y', 'access',\n",
       "       'discussion', 'navigate', 'page_close', 'problem', 'video', 'wiki',\n",
       "       'count_event', 'total_duration', 'dropout_flg'],\n",
       "      dtype='object')"
      ]
     },
     "execution_count": 476,
     "metadata": {},
     "output_type": "execute_result"
    }
   ],
   "source": [
    "base_data.columns"
   ]
  },
  {
   "cell_type": "code",
   "execution_count": 477,
   "id": "48ccf777",
   "metadata": {},
   "outputs": [],
   "source": [
    "base_data['access'].fillna(0,inplace=True)\n",
    "base_data['discussion'].fillna(0,inplace=True)\n",
    "base_data['navigate'].fillna(0,inplace=True)\n",
    "base_data['page_close'].fillna(0,inplace=True)\n",
    "base_data['problem'].fillna(0,inplace=True)\n",
    "base_data['video'].fillna(0,inplace=True)\n",
    "base_data['wiki'].fillna(0,inplace=True)"
   ]
  },
  {
   "cell_type": "code",
   "execution_count": 478,
   "id": "51fc2b36",
   "metadata": {},
   "outputs": [
    {
     "data": {
      "text/plain": [
       "enrollment_id              0\n",
       "zip                        0\n",
       "highest_education          0\n",
       "ZipCodeType                0\n",
       "City                       0\n",
       "proportion_tax_filed       0\n",
       "wage_per_person            0\n",
       "State_y                    0\n",
       "access                     0\n",
       "discussion                 0\n",
       "navigate                   0\n",
       "page_close                 0\n",
       "problem                    0\n",
       "video                      0\n",
       "wiki                       0\n",
       "count_event                0\n",
       "total_duration             0\n",
       "dropout_flg             1000\n",
       "dtype: int64"
      ]
     },
     "execution_count": 478,
     "metadata": {},
     "output_type": "execute_result"
    }
   ],
   "source": [
    "base_data.isna().sum()"
   ]
  },
  {
   "cell_type": "code",
   "execution_count": 479,
   "id": "85fc8e5d",
   "metadata": {},
   "outputs": [],
   "source": [
    "train_val_base_data=base_data[base_data['dropout_flg'].notnull()]"
   ]
  },
  {
   "cell_type": "code",
   "execution_count": 480,
   "id": "20b68bfb",
   "metadata": {},
   "outputs": [
    {
     "data": {
      "text/plain": [
       "Index(['enrollment_id', 'zip', 'highest_education', 'ZipCodeType', 'City',\n",
       "       'proportion_tax_filed', 'wage_per_person', 'State_y', 'access',\n",
       "       'discussion', 'navigate', 'page_close', 'problem', 'video', 'wiki',\n",
       "       'count_event', 'total_duration', 'dropout_flg'],\n",
       "      dtype='object')"
      ]
     },
     "execution_count": 480,
     "metadata": {},
     "output_type": "execute_result"
    }
   ],
   "source": [
    "# perform correlation plot for numerical fields\n",
    "train_val_base_data.columns"
   ]
  },
  {
   "cell_type": "code",
   "execution_count": 481,
   "id": "5aabc436",
   "metadata": {},
   "outputs": [
    {
     "data": {
      "text/plain": [
       "71394"
      ]
     },
     "execution_count": 481,
     "metadata": {},
     "output_type": "execute_result"
    }
   ],
   "source": [
    "len(train_val_base_data)"
   ]
  },
  {
   "cell_type": "code",
   "execution_count": 482,
   "id": "b7a4a0b6",
   "metadata": {},
   "outputs": [],
   "source": [
    "train_val_base_data_cont=train_val_base_data[['proportion_tax_filed','wage_per_person','access','discussion','navigate','page_close',\\\n",
    "                                             'problem','video','wiki','count_event','total_duration','dropout_flg']]"
   ]
  },
  {
   "cell_type": "code",
   "execution_count": 483,
   "id": "7bc35ff7",
   "metadata": {},
   "outputs": [
    {
     "data": {
      "text/html": [
       "<div>\n",
       "<style scoped>\n",
       "    .dataframe tbody tr th:only-of-type {\n",
       "        vertical-align: middle;\n",
       "    }\n",
       "\n",
       "    .dataframe tbody tr th {\n",
       "        vertical-align: top;\n",
       "    }\n",
       "\n",
       "    .dataframe thead th {\n",
       "        text-align: right;\n",
       "    }\n",
       "</style>\n",
       "<table border=\"1\" class=\"dataframe\">\n",
       "  <thead>\n",
       "    <tr style=\"text-align: right;\">\n",
       "      <th></th>\n",
       "      <th>proportion_tax_filed</th>\n",
       "      <th>wage_per_person</th>\n",
       "      <th>access</th>\n",
       "      <th>discussion</th>\n",
       "      <th>navigate</th>\n",
       "      <th>page_close</th>\n",
       "      <th>problem</th>\n",
       "      <th>video</th>\n",
       "      <th>wiki</th>\n",
       "      <th>count_event</th>\n",
       "      <th>total_duration</th>\n",
       "      <th>dropout_flg</th>\n",
       "    </tr>\n",
       "  </thead>\n",
       "  <tbody>\n",
       "    <tr>\n",
       "      <th>proportion_tax_filed</th>\n",
       "      <td>1.000000</td>\n",
       "      <td>0.086681</td>\n",
       "      <td>-0.000399</td>\n",
       "      <td>0.000576</td>\n",
       "      <td>-0.001840</td>\n",
       "      <td>-0.001376</td>\n",
       "      <td>0.003688</td>\n",
       "      <td>-0.000506</td>\n",
       "      <td>-0.007131</td>\n",
       "      <td>0.003401</td>\n",
       "      <td>-0.001796</td>\n",
       "      <td>-0.002205</td>\n",
       "    </tr>\n",
       "    <tr>\n",
       "      <th>wage_per_person</th>\n",
       "      <td>0.086681</td>\n",
       "      <td>1.000000</td>\n",
       "      <td>0.000511</td>\n",
       "      <td>0.002162</td>\n",
       "      <td>0.003110</td>\n",
       "      <td>0.002143</td>\n",
       "      <td>0.004712</td>\n",
       "      <td>0.006440</td>\n",
       "      <td>-0.004157</td>\n",
       "      <td>-0.003993</td>\n",
       "      <td>0.003972</td>\n",
       "      <td>0.000808</td>\n",
       "    </tr>\n",
       "    <tr>\n",
       "      <th>access</th>\n",
       "      <td>-0.000399</td>\n",
       "      <td>0.000511</td>\n",
       "      <td>1.000000</td>\n",
       "      <td>0.432081</td>\n",
       "      <td>0.846406</td>\n",
       "      <td>0.910462</td>\n",
       "      <td>0.572723</td>\n",
       "      <td>0.765768</td>\n",
       "      <td>0.282257</td>\n",
       "      <td>0.607376</td>\n",
       "      <td>0.746043</td>\n",
       "      <td>-0.459821</td>\n",
       "    </tr>\n",
       "    <tr>\n",
       "      <th>discussion</th>\n",
       "      <td>0.000576</td>\n",
       "      <td>0.002162</td>\n",
       "      <td>0.432081</td>\n",
       "      <td>1.000000</td>\n",
       "      <td>0.402486</td>\n",
       "      <td>0.425529</td>\n",
       "      <td>0.484230</td>\n",
       "      <td>0.419316</td>\n",
       "      <td>0.487317</td>\n",
       "      <td>0.407901</td>\n",
       "      <td>0.476427</td>\n",
       "      <td>-0.348315</td>\n",
       "    </tr>\n",
       "    <tr>\n",
       "      <th>navigate</th>\n",
       "      <td>-0.001840</td>\n",
       "      <td>0.003110</td>\n",
       "      <td>0.846406</td>\n",
       "      <td>0.402486</td>\n",
       "      <td>1.000000</td>\n",
       "      <td>0.777728</td>\n",
       "      <td>0.500101</td>\n",
       "      <td>0.651528</td>\n",
       "      <td>0.264468</td>\n",
       "      <td>0.560565</td>\n",
       "      <td>0.766036</td>\n",
       "      <td>-0.427161</td>\n",
       "    </tr>\n",
       "    <tr>\n",
       "      <th>page_close</th>\n",
       "      <td>-0.001376</td>\n",
       "      <td>0.002143</td>\n",
       "      <td>0.910462</td>\n",
       "      <td>0.425529</td>\n",
       "      <td>0.777728</td>\n",
       "      <td>1.000000</td>\n",
       "      <td>0.565085</td>\n",
       "      <td>0.816844</td>\n",
       "      <td>0.273593</td>\n",
       "      <td>0.587396</td>\n",
       "      <td>0.715046</td>\n",
       "      <td>-0.449449</td>\n",
       "    </tr>\n",
       "    <tr>\n",
       "      <th>problem</th>\n",
       "      <td>0.003688</td>\n",
       "      <td>0.004712</td>\n",
       "      <td>0.572723</td>\n",
       "      <td>0.484230</td>\n",
       "      <td>0.500101</td>\n",
       "      <td>0.565085</td>\n",
       "      <td>1.000000</td>\n",
       "      <td>0.560584</td>\n",
       "      <td>0.287745</td>\n",
       "      <td>0.460125</td>\n",
       "      <td>0.624924</td>\n",
       "      <td>-0.496406</td>\n",
       "    </tr>\n",
       "    <tr>\n",
       "      <th>video</th>\n",
       "      <td>-0.000506</td>\n",
       "      <td>0.006440</td>\n",
       "      <td>0.765768</td>\n",
       "      <td>0.419316</td>\n",
       "      <td>0.651528</td>\n",
       "      <td>0.816844</td>\n",
       "      <td>0.560584</td>\n",
       "      <td>1.000000</td>\n",
       "      <td>0.269154</td>\n",
       "      <td>0.529529</td>\n",
       "      <td>0.636735</td>\n",
       "      <td>-0.419046</td>\n",
       "    </tr>\n",
       "    <tr>\n",
       "      <th>wiki</th>\n",
       "      <td>-0.007131</td>\n",
       "      <td>-0.004157</td>\n",
       "      <td>0.282257</td>\n",
       "      <td>0.487317</td>\n",
       "      <td>0.264468</td>\n",
       "      <td>0.273593</td>\n",
       "      <td>0.287745</td>\n",
       "      <td>0.269154</td>\n",
       "      <td>1.000000</td>\n",
       "      <td>0.279533</td>\n",
       "      <td>0.291954</td>\n",
       "      <td>-0.217124</td>\n",
       "    </tr>\n",
       "    <tr>\n",
       "      <th>count_event</th>\n",
       "      <td>0.003401</td>\n",
       "      <td>-0.003993</td>\n",
       "      <td>0.607376</td>\n",
       "      <td>0.407901</td>\n",
       "      <td>0.560565</td>\n",
       "      <td>0.587396</td>\n",
       "      <td>0.460125</td>\n",
       "      <td>0.529529</td>\n",
       "      <td>0.279533</td>\n",
       "      <td>1.000000</td>\n",
       "      <td>0.539009</td>\n",
       "      <td>-0.383601</td>\n",
       "    </tr>\n",
       "    <tr>\n",
       "      <th>total_duration</th>\n",
       "      <td>-0.001796</td>\n",
       "      <td>0.003972</td>\n",
       "      <td>0.746043</td>\n",
       "      <td>0.476427</td>\n",
       "      <td>0.766036</td>\n",
       "      <td>0.715046</td>\n",
       "      <td>0.624924</td>\n",
       "      <td>0.636735</td>\n",
       "      <td>0.291954</td>\n",
       "      <td>0.539009</td>\n",
       "      <td>1.000000</td>\n",
       "      <td>-0.540995</td>\n",
       "    </tr>\n",
       "    <tr>\n",
       "      <th>dropout_flg</th>\n",
       "      <td>-0.002205</td>\n",
       "      <td>0.000808</td>\n",
       "      <td>-0.459821</td>\n",
       "      <td>-0.348315</td>\n",
       "      <td>-0.427161</td>\n",
       "      <td>-0.449449</td>\n",
       "      <td>-0.496406</td>\n",
       "      <td>-0.419046</td>\n",
       "      <td>-0.217124</td>\n",
       "      <td>-0.383601</td>\n",
       "      <td>-0.540995</td>\n",
       "      <td>1.000000</td>\n",
       "    </tr>\n",
       "  </tbody>\n",
       "</table>\n",
       "</div>"
      ],
      "text/plain": [
       "                      proportion_tax_filed  wage_per_person    access  \\\n",
       "proportion_tax_filed              1.000000         0.086681 -0.000399   \n",
       "wage_per_person                   0.086681         1.000000  0.000511   \n",
       "access                           -0.000399         0.000511  1.000000   \n",
       "discussion                        0.000576         0.002162  0.432081   \n",
       "navigate                         -0.001840         0.003110  0.846406   \n",
       "page_close                       -0.001376         0.002143  0.910462   \n",
       "problem                           0.003688         0.004712  0.572723   \n",
       "video                            -0.000506         0.006440  0.765768   \n",
       "wiki                             -0.007131        -0.004157  0.282257   \n",
       "count_event                       0.003401        -0.003993  0.607376   \n",
       "total_duration                   -0.001796         0.003972  0.746043   \n",
       "dropout_flg                      -0.002205         0.000808 -0.459821   \n",
       "\n",
       "                      discussion  navigate  page_close   problem     video  \\\n",
       "proportion_tax_filed    0.000576 -0.001840   -0.001376  0.003688 -0.000506   \n",
       "wage_per_person         0.002162  0.003110    0.002143  0.004712  0.006440   \n",
       "access                  0.432081  0.846406    0.910462  0.572723  0.765768   \n",
       "discussion              1.000000  0.402486    0.425529  0.484230  0.419316   \n",
       "navigate                0.402486  1.000000    0.777728  0.500101  0.651528   \n",
       "page_close              0.425529  0.777728    1.000000  0.565085  0.816844   \n",
       "problem                 0.484230  0.500101    0.565085  1.000000  0.560584   \n",
       "video                   0.419316  0.651528    0.816844  0.560584  1.000000   \n",
       "wiki                    0.487317  0.264468    0.273593  0.287745  0.269154   \n",
       "count_event             0.407901  0.560565    0.587396  0.460125  0.529529   \n",
       "total_duration          0.476427  0.766036    0.715046  0.624924  0.636735   \n",
       "dropout_flg            -0.348315 -0.427161   -0.449449 -0.496406 -0.419046   \n",
       "\n",
       "                          wiki  count_event  total_duration  dropout_flg  \n",
       "proportion_tax_filed -0.007131     0.003401       -0.001796    -0.002205  \n",
       "wage_per_person      -0.004157    -0.003993        0.003972     0.000808  \n",
       "access                0.282257     0.607376        0.746043    -0.459821  \n",
       "discussion            0.487317     0.407901        0.476427    -0.348315  \n",
       "navigate              0.264468     0.560565        0.766036    -0.427161  \n",
       "page_close            0.273593     0.587396        0.715046    -0.449449  \n",
       "problem               0.287745     0.460125        0.624924    -0.496406  \n",
       "video                 0.269154     0.529529        0.636735    -0.419046  \n",
       "wiki                  1.000000     0.279533        0.291954    -0.217124  \n",
       "count_event           0.279533     1.000000        0.539009    -0.383601  \n",
       "total_duration        0.291954     0.539009        1.000000    -0.540995  \n",
       "dropout_flg          -0.217124    -0.383601       -0.540995     1.000000  "
      ]
     },
     "execution_count": 483,
     "metadata": {},
     "output_type": "execute_result"
    }
   ],
   "source": [
    "# Plotting the correlation matrix for the continuous features in the dataset\n",
    "df_correlation = train_val_base_data_cont.corr(method = 'pearson')\n",
    "df_correlation"
   ]
  },
  {
   "cell_type": "code",
   "execution_count": 484,
   "id": "5d44d78e",
   "metadata": {},
   "outputs": [
    {
     "data": {
      "text/plain": [
       "<AxesSubplot:>"
      ]
     },
     "execution_count": 484,
     "metadata": {},
     "output_type": "execute_result"
    },
    {
     "data": {
      "image/png": "[encoded data removed]",
      "text/plain": [
       "<Figure size 1008x432 with 2 Axes>"
      ]
     },
     "metadata": {
      "needs_background": "light"
     },
     "output_type": "display_data"
    }
   ],
   "source": [
    "import seaborn as sns\n",
    "%matplotlib inline\n",
    "# Plotting the correlation matrix for the continuous features in the dataset\n",
    "# plot the heatmap\n",
    "fig, ax = plt.subplots(figsize=(14,6)) \n",
    "sns.heatmap(df_correlation,annot=True, \n",
    "        xticklabels=df_correlation.columns,\n",
    "        yticklabels=df_correlation.columns)"
   ]
  },
  {
   "cell_type": "code",
   "execution_count": 485,
   "id": "9da6357f",
   "metadata": {},
   "outputs": [],
   "source": [
    "# eliminating proportion_tax_filed and wage_per person based on this\n",
    "# anova test would have been perform, but i couldn;t do it because of time constraints\n",
    "base_data=base_data.drop(['proportion_tax_filed','wage_per_person'],axis=1)"
   ]
  },
  {
   "cell_type": "code",
   "execution_count": 486,
   "id": "b8c00cbb",
   "metadata": {},
   "outputs": [
    {
     "data": {
      "text/plain": [
       "Index(['proportion_tax_filed', 'wage_per_person', 'access', 'discussion',\n",
       "       'navigate', 'page_close', 'problem', 'video', 'wiki', 'count_event',\n",
       "       'total_duration', 'dropout_flg'],\n",
       "      dtype='object')"
      ]
     },
     "execution_count": 486,
     "metadata": {},
     "output_type": "execute_result"
    }
   ],
   "source": [
    "train_val_base_data_cont.columns"
   ]
  },
  {
   "cell_type": "code",
   "execution_count": 488,
   "id": "e1450a26",
   "metadata": {},
   "outputs": [
    {
     "name": "stdout",
     "output_type": "stream",
     "text": [
      "zip 3.298887211731411e-10 True\n",
      "highest_education 1.8510805154157207e-127 True\n",
      "ZipCodeType 0.6327618385948717 False\n",
      "City 1.1632951037789963e-07 True\n",
      "State_y 0.11802004907540227 False\n"
     ]
    }
   ],
   "source": [
    "# categorical fields\n",
    "\n",
    "# Finding dependency with the target variable using chi-squared test statistics\n",
    "cols=['zip','highest_education','ZipCodeType','City','State_y']\n",
    "for i in train_val_base_data[cols]:\n",
    "    data_interim=train_val_base_data[[i, 'dropout_flg']]\n",
    "\n",
    "    data_cont=pd.crosstab(data_interim[i],data_interim['dropout_flg'])\n",
    "\n",
    "    from scipy.stats import chi2_contingency\n",
    "    stat, p, dof, expected = chi2_contingency(data_cont)\n",
    "\n",
    "    #-----------interpret p-value\n",
    "    alpha = 0.05\n",
    "    print(i,p,p<alpha)"
   ]
  },
  {
   "cell_type": "code",
   "execution_count": 304,
   "id": "c1ef6253",
   "metadata": {},
   "outputs": [],
   "source": [
    "# columns zipcode type, state is eliminated based on chisquared test"
   ]
  },
  {
   "cell_type": "code",
   "execution_count": 489,
   "id": "76947a2f",
   "metadata": {},
   "outputs": [],
   "source": [
    "base_data.drop(['ZipCodeType','State_y'],axis=1,inplace=True)"
   ]
  },
  {
   "cell_type": "code",
   "execution_count": 490,
   "id": "525fcedd",
   "metadata": {},
   "outputs": [
    {
     "data": {
      "text/plain": [
       "Index(['enrollment_id', 'zip', 'highest_education', 'City', 'access',\n",
       "       'discussion', 'navigate', 'page_close', 'problem', 'video', 'wiki',\n",
       "       'count_event', 'total_duration', 'dropout_flg'],\n",
       "      dtype='object')"
      ]
     },
     "execution_count": 490,
     "metadata": {},
     "output_type": "execute_result"
    }
   ],
   "source": [
    "base_data.columns"
   ]
  },
  {
   "cell_type": "code",
   "execution_count": 309,
   "id": "485a7979",
   "metadata": {},
   "outputs": [
    {
     "data": {
      "text/plain": [
       "array([[<AxesSubplot:title={'center':'enrollment_id'}>,\n",
       "        <AxesSubplot:title={'center':'zip'}>,\n",
       "        <AxesSubplot:title={'center':'access'}>],\n",
       "       [<AxesSubplot:title={'center':'discussion'}>,\n",
       "        <AxesSubplot:title={'center':'navigate'}>,\n",
       "        <AxesSubplot:title={'center':'page_close'}>],\n",
       "       [<AxesSubplot:title={'center':'problem'}>,\n",
       "        <AxesSubplot:title={'center':'video'}>,\n",
       "        <AxesSubplot:title={'center':'wiki'}>],\n",
       "       [<AxesSubplot:title={'center':'count_event'}>,\n",
       "        <AxesSubplot:title={'center':'total_duration'}>,\n",
       "        <AxesSubplot:title={'center':'dropout_flg'}>]], dtype=object)"
      ]
     },
     "execution_count": 309,
     "metadata": {},
     "output_type": "execute_result"
    },
    {
     "data": {
      "image/png": "[encoded data removed]",
      "text/plain": [
       "<Figure size 864x864 with 12 Axes>"
      ]
     },
     "metadata": {
      "needs_background": "light"
     },
     "output_type": "display_data"
    }
   ],
   "source": [
    "base_data.hist(bins=20,figsize=(12,12))"
   ]
  },
  {
   "cell_type": "code",
   "execution_count": 492,
   "id": "facf660f",
   "metadata": {},
   "outputs": [],
   "source": [
    "# dropping enrollment as it is not a valid feature\n",
    "base_data.drop('enrollment_id',axis=1,inplace=True)"
   ]
  },
  {
   "cell_type": "code",
   "execution_count": 493,
   "id": "a3e6078f",
   "metadata": {},
   "outputs": [
    {
     "data": {
      "text/html": [
       "<div>\n",
       "<style scoped>\n",
       "    .dataframe tbody tr th:only-of-type {\n",
       "        vertical-align: middle;\n",
       "    }\n",
       "\n",
       "    .dataframe tbody tr th {\n",
       "        vertical-align: top;\n",
       "    }\n",
       "\n",
       "    .dataframe thead th {\n",
       "        text-align: right;\n",
       "    }\n",
       "</style>\n",
       "<table border=\"1\" class=\"dataframe\">\n",
       "  <thead>\n",
       "    <tr style=\"text-align: right;\">\n",
       "      <th></th>\n",
       "      <th>zip</th>\n",
       "      <th>dropout</th>\n",
       "    </tr>\n",
       "  </thead>\n",
       "  <tbody>\n",
       "    <tr>\n",
       "      <th>count</th>\n",
       "      <td>15848.000000</td>\n",
       "      <td>15848.000000</td>\n",
       "    </tr>\n",
       "    <tr>\n",
       "      <th>mean</th>\n",
       "      <td>49045.832471</td>\n",
       "      <td>3.569599</td>\n",
       "    </tr>\n",
       "    <tr>\n",
       "      <th>std</th>\n",
       "      <td>28474.943193</td>\n",
       "      <td>3.435872</td>\n",
       "    </tr>\n",
       "    <tr>\n",
       "      <th>min</th>\n",
       "      <td>1001.000000</td>\n",
       "      <td>0.000000</td>\n",
       "    </tr>\n",
       "    <tr>\n",
       "      <th>25%</th>\n",
       "      <td>27105.750000</td>\n",
       "      <td>1.000000</td>\n",
       "    </tr>\n",
       "    <tr>\n",
       "      <th>50%</th>\n",
       "      <td>46784.500000</td>\n",
       "      <td>2.000000</td>\n",
       "    </tr>\n",
       "    <tr>\n",
       "      <th>75%</th>\n",
       "      <td>74857.500000</td>\n",
       "      <td>5.000000</td>\n",
       "    </tr>\n",
       "    <tr>\n",
       "      <th>max</th>\n",
       "      <td>99901.000000</td>\n",
       "      <td>28.000000</td>\n",
       "    </tr>\n",
       "  </tbody>\n",
       "</table>\n",
       "</div>"
      ],
      "text/plain": [
       "                zip       dropout\n",
       "count  15848.000000  15848.000000\n",
       "mean   49045.832471      3.569599\n",
       "std    28474.943193      3.435872\n",
       "min     1001.000000      0.000000\n",
       "25%    27105.750000      1.000000\n",
       "50%    46784.500000      2.000000\n",
       "75%    74857.500000      5.000000\n",
       "max    99901.000000     28.000000"
      ]
     },
     "execution_count": 493,
     "metadata": {},
     "output_type": "execute_result"
    }
   ],
   "source": [
    "train_val_base_data.groupby('zip')['dropout_flg'].sum().reset_index(name='dropout').sort_values(by='dropout',ascending=False).describe()"
   ]
  },
  {
   "cell_type": "code",
   "execution_count": 494,
   "id": "7e786f42",
   "metadata": {},
   "outputs": [
    {
     "data": {
      "text/plain": [
       "array([[<AxesSubplot:title={'center':'zip'}>,\n",
       "        <AxesSubplot:title={'center':'dropout'}>]], dtype=object)"
      ]
     },
     "execution_count": 494,
     "metadata": {},
     "output_type": "execute_result"
    },
    {
     "data": {
      "image/png": "[encoded data removed]",
      "text/plain": [
       "<Figure size 432x288 with 2 Axes>"
      ]
     },
     "metadata": {
      "needs_background": "light"
     },
     "output_type": "display_data"
    }
   ],
   "source": [
    "train_val_base_data.groupby('zip')['dropout_flg'].sum().reset_index(name='dropout').sort_values(by='dropout',ascending=False).hist(bins=10)"
   ]
  },
  {
   "cell_type": "code",
   "execution_count": 316,
   "id": "91605a75",
   "metadata": {},
   "outputs": [],
   "source": [
    "def drop_out_zips(x):\n",
    "    if x <=0:\n",
    "        return 1\n",
    "    elif x <= 2:\n",
    "        return 2\n",
    "    else:\n",
    "        return 3"
   ]
  },
  {
   "cell_type": "code",
   "execution_count": 500,
   "id": "7b38be60",
   "metadata": {},
   "outputs": [
    {
     "data": {
      "text/plain": [
       "71394"
      ]
     },
     "execution_count": 500,
     "metadata": {},
     "output_type": "execute_result"
    }
   ],
   "source": [
    "len(train_val_base_data)"
   ]
  },
  {
   "cell_type": "code",
   "execution_count": 495,
   "id": "2265e237",
   "metadata": {},
   "outputs": [],
   "source": [
    "zip_dropout=train_val_base_data.groupby('zip')['dropout_flg'].sum().reset_index(name='dropout')"
   ]
  },
  {
   "cell_type": "code",
   "execution_count": 496,
   "id": "ae2e01bb",
   "metadata": {},
   "outputs": [],
   "source": [
    "zip_dropout['zip_dropout']=zip_dropout['dropout'].apply(drop_out_zips)"
   ]
  },
  {
   "cell_type": "code",
   "execution_count": 504,
   "id": "0e099dda",
   "metadata": {},
   "outputs": [],
   "source": [
    "base_data=pd.merge(base_data,zip_dropout,on='zip',how='left')"
   ]
  },
  {
   "cell_type": "code",
   "execution_count": 505,
   "id": "35380bfa",
   "metadata": {},
   "outputs": [
    {
     "data": {
      "text/plain": [
       "zip                     0\n",
       "highest_education       0\n",
       "City                    0\n",
       "access                  0\n",
       "discussion              0\n",
       "navigate                0\n",
       "page_close              0\n",
       "problem                 0\n",
       "video                   0\n",
       "wiki                    0\n",
       "count_event             0\n",
       "total_duration          0\n",
       "dropout_flg          1000\n",
       "dropout                60\n",
       "zip_dropout            60\n",
       "dtype: int64"
      ]
     },
     "execution_count": 505,
     "metadata": {},
     "output_type": "execute_result"
    }
   ],
   "source": [
    "base_data.isnull().sum()"
   ]
  },
  {
   "cell_type": "code",
   "execution_count": 506,
   "id": "fa111d8f",
   "metadata": {},
   "outputs": [],
   "source": [
    "base_data['zip_dropout'].fillna(0,inplace=True)"
   ]
  },
  {
   "cell_type": "code",
   "execution_count": 507,
   "id": "6efa8384",
   "metadata": {},
   "outputs": [],
   "source": [
    "# dropping zipcode\n",
    "base_data.drop(['zip','dropout'],axis=1,inplace=True)"
   ]
  },
  {
   "cell_type": "code",
   "execution_count": 508,
   "id": "77c53589",
   "metadata": {},
   "outputs": [],
   "source": [
    "base_data.drop('City',axis=1,inplace=True)"
   ]
  },
  {
   "cell_type": "code",
   "execution_count": 509,
   "id": "7516ab7b",
   "metadata": {},
   "outputs": [
    {
     "data": {
      "text/plain": [
       "Index(['highest_education', 'access', 'discussion', 'navigate', 'page_close',\n",
       "       'problem', 'video', 'wiki', 'count_event', 'total_duration',\n",
       "       'dropout_flg', 'zip_dropout'],\n",
       "      dtype='object')"
      ]
     },
     "execution_count": 509,
     "metadata": {},
     "output_type": "execute_result"
    }
   ],
   "source": [
    "base_data.columns"
   ]
  },
  {
   "cell_type": "code",
   "execution_count": 513,
   "id": "deef0136",
   "metadata": {},
   "outputs": [
    {
     "data": {
      "text/plain": [
       "access                                0\n",
       "discussion                            0\n",
       "navigate                              0\n",
       "page_close                            0\n",
       "problem                               0\n",
       "video                                 0\n",
       "wiki                                  0\n",
       "count_event                           0\n",
       "total_duration                        0\n",
       "dropout_flg                        1000\n",
       "zip_dropout                           0\n",
       "highest_education_college             0\n",
       "highest_education_graduate            0\n",
       "highest_education_highschool          0\n",
       "highest_education_missing             0\n",
       "highest_education_no highschool       0\n",
       "highest_education_some college        0\n",
       "dtype: int64"
      ]
     },
     "execution_count": 513,
     "metadata": {},
     "output_type": "execute_result"
    }
   ],
   "source": [
    "base_data.isna().sum()"
   ]
  },
  {
   "cell_type": "code",
   "execution_count": 510,
   "id": "ffe43f42",
   "metadata": {},
   "outputs": [],
   "source": [
    "# Encoding categorical features"
   ]
  },
  {
   "cell_type": "code",
   "execution_count": 511,
   "id": "43ce7578",
   "metadata": {},
   "outputs": [],
   "source": [
    "# One hot encoding"
   ]
  },
  {
   "cell_type": "code",
   "execution_count": 512,
   "id": "ac93ed50",
   "metadata": {},
   "outputs": [],
   "source": [
    "base_data = pd.get_dummies(base_data, columns = ['highest_education'])"
   ]
  },
  {
   "cell_type": "code",
   "execution_count": 514,
   "id": "62091555",
   "metadata": {},
   "outputs": [],
   "source": [
    "# Label Encoding\n",
    "from sklearn import preprocessing\n",
    "label_encoder=preprocessing.LabelEncoder()\n",
    "\n",
    "base_data['zip_dropout']=label_encoder.fit_transform(base_data['zip_dropout'])"
   ]
  },
  {
   "cell_type": "code",
   "execution_count": 515,
   "id": "0539040c",
   "metadata": {},
   "outputs": [
    {
     "data": {
      "text/html": [
       "<div>\n",
       "<style scoped>\n",
       "    .dataframe tbody tr th:only-of-type {\n",
       "        vertical-align: middle;\n",
       "    }\n",
       "\n",
       "    .dataframe tbody tr th {\n",
       "        vertical-align: top;\n",
       "    }\n",
       "\n",
       "    .dataframe thead th {\n",
       "        text-align: right;\n",
       "    }\n",
       "</style>\n",
       "<table border=\"1\" class=\"dataframe\">\n",
       "  <thead>\n",
       "    <tr style=\"text-align: right;\">\n",
       "      <th></th>\n",
       "      <th>access</th>\n",
       "      <th>discussion</th>\n",
       "      <th>navigate</th>\n",
       "      <th>page_close</th>\n",
       "      <th>problem</th>\n",
       "      <th>video</th>\n",
       "      <th>wiki</th>\n",
       "      <th>count_event</th>\n",
       "      <th>total_duration</th>\n",
       "      <th>dropout_flg</th>\n",
       "      <th>zip_dropout</th>\n",
       "      <th>highest_education_college</th>\n",
       "      <th>highest_education_graduate</th>\n",
       "      <th>highest_education_highschool</th>\n",
       "      <th>highest_education_missing</th>\n",
       "      <th>highest_education_no highschool</th>\n",
       "      <th>highest_education_some college</th>\n",
       "    </tr>\n",
       "  </thead>\n",
       "  <tbody>\n",
       "    <tr>\n",
       "      <th>0</th>\n",
       "      <td>1.000000</td>\n",
       "      <td>0.000000</td>\n",
       "      <td>1.0</td>\n",
       "      <td>1.000000</td>\n",
       "      <td>0.529412</td>\n",
       "      <td>0.647059</td>\n",
       "      <td>0.0</td>\n",
       "      <td>5</td>\n",
       "      <td>17</td>\n",
       "      <td>0.0</td>\n",
       "      <td>3</td>\n",
       "      <td>0</td>\n",
       "      <td>0</td>\n",
       "      <td>0</td>\n",
       "      <td>0</td>\n",
       "      <td>0</td>\n",
       "      <td>1</td>\n",
       "    </tr>\n",
       "    <tr>\n",
       "      <th>1</th>\n",
       "      <td>0.931034</td>\n",
       "      <td>0.724138</td>\n",
       "      <td>1.0</td>\n",
       "      <td>0.931034</td>\n",
       "      <td>0.931034</td>\n",
       "      <td>0.931034</td>\n",
       "      <td>0.0</td>\n",
       "      <td>6</td>\n",
       "      <td>29</td>\n",
       "      <td>0.0</td>\n",
       "      <td>3</td>\n",
       "      <td>0</td>\n",
       "      <td>0</td>\n",
       "      <td>1</td>\n",
       "      <td>0</td>\n",
       "      <td>0</td>\n",
       "      <td>0</td>\n",
       "    </tr>\n",
       "  </tbody>\n",
       "</table>\n",
       "</div>"
      ],
      "text/plain": [
       "     access  discussion  navigate  page_close   problem     video  wiki  \\\n",
       "0  1.000000    0.000000       1.0    1.000000  0.529412  0.647059   0.0   \n",
       "1  0.931034    0.724138       1.0    0.931034  0.931034  0.931034   0.0   \n",
       "\n",
       "   count_event  total_duration  dropout_flg  zip_dropout  \\\n",
       "0            5              17          0.0            3   \n",
       "1            6              29          0.0            3   \n",
       "\n",
       "   highest_education_college  highest_education_graduate  \\\n",
       "0                          0                           0   \n",
       "1                          0                           0   \n",
       "\n",
       "   highest_education_highschool  highest_education_missing  \\\n",
       "0                             0                          0   \n",
       "1                             1                          0   \n",
       "\n",
       "   highest_education_no highschool  highest_education_some college  \n",
       "0                                0                               1  \n",
       "1                                0                               0  "
      ]
     },
     "execution_count": 515,
     "metadata": {},
     "output_type": "execute_result"
    }
   ],
   "source": [
    "base_data.head(2)"
   ]
  },
  {
   "cell_type": "code",
   "execution_count": 516,
   "id": "4f9e19be",
   "metadata": {},
   "outputs": [],
   "source": [
    "base_data.drop('highest_education_missing',axis=1,inplace=True)"
   ]
  },
  {
   "cell_type": "code",
   "execution_count": 517,
   "id": "2c745928",
   "metadata": {},
   "outputs": [],
   "source": [
    "# Data Scaling"
   ]
  },
  {
   "cell_type": "code",
   "execution_count": 518,
   "id": "cd62e029",
   "metadata": {},
   "outputs": [],
   "source": [
    "## Range Normalization\n",
    "\n",
    "for col in base_data.columns:\n",
    "    x = base_data[col].unique()"
   ]
  },
  {
   "cell_type": "code",
   "execution_count": 519,
   "id": "b8040c6f",
   "metadata": {},
   "outputs": [
    {
     "data": {
      "text/html": [
       "<div>\n",
       "<style scoped>\n",
       "    .dataframe tbody tr th:only-of-type {\n",
       "        vertical-align: middle;\n",
       "    }\n",
       "\n",
       "    .dataframe tbody tr th {\n",
       "        vertical-align: top;\n",
       "    }\n",
       "\n",
       "    .dataframe thead th {\n",
       "        text-align: right;\n",
       "    }\n",
       "</style>\n",
       "<table border=\"1\" class=\"dataframe\">\n",
       "  <thead>\n",
       "    <tr style=\"text-align: right;\">\n",
       "      <th></th>\n",
       "      <th>access</th>\n",
       "      <th>discussion</th>\n",
       "      <th>navigate</th>\n",
       "      <th>page_close</th>\n",
       "      <th>problem</th>\n",
       "      <th>video</th>\n",
       "      <th>wiki</th>\n",
       "      <th>count_event</th>\n",
       "      <th>total_duration</th>\n",
       "      <th>dropout_flg</th>\n",
       "      <th>zip_dropout</th>\n",
       "      <th>highest_education_college</th>\n",
       "      <th>highest_education_graduate</th>\n",
       "      <th>highest_education_highschool</th>\n",
       "      <th>highest_education_no highschool</th>\n",
       "      <th>highest_education_some college</th>\n",
       "    </tr>\n",
       "  </thead>\n",
       "  <tbody>\n",
       "    <tr>\n",
       "      <th>0</th>\n",
       "      <td>1.000000</td>\n",
       "      <td>0.000000</td>\n",
       "      <td>1.0</td>\n",
       "      <td>1.000000</td>\n",
       "      <td>0.529412</td>\n",
       "      <td>0.647059</td>\n",
       "      <td>0.0</td>\n",
       "      <td>0.666667</td>\n",
       "      <td>0.586207</td>\n",
       "      <td>0.0</td>\n",
       "      <td>1.0</td>\n",
       "      <td>0.0</td>\n",
       "      <td>0.0</td>\n",
       "      <td>0.0</td>\n",
       "      <td>0.0</td>\n",
       "      <td>1.0</td>\n",
       "    </tr>\n",
       "    <tr>\n",
       "      <th>1</th>\n",
       "      <td>0.931034</td>\n",
       "      <td>0.724138</td>\n",
       "      <td>1.0</td>\n",
       "      <td>0.931034</td>\n",
       "      <td>0.931034</td>\n",
       "      <td>0.931034</td>\n",
       "      <td>0.0</td>\n",
       "      <td>0.833333</td>\n",
       "      <td>1.000000</td>\n",
       "      <td>0.0</td>\n",
       "      <td>1.0</td>\n",
       "      <td>0.0</td>\n",
       "      <td>0.0</td>\n",
       "      <td>1.0</td>\n",
       "      <td>0.0</td>\n",
       "      <td>0.0</td>\n",
       "    </tr>\n",
       "  </tbody>\n",
       "</table>\n",
       "</div>"
      ],
      "text/plain": [
       "     access  discussion  navigate  page_close   problem     video  wiki  \\\n",
       "0  1.000000    0.000000       1.0    1.000000  0.529412  0.647059   0.0   \n",
       "1  0.931034    0.724138       1.0    0.931034  0.931034  0.931034   0.0   \n",
       "\n",
       "   count_event  total_duration  dropout_flg  zip_dropout  \\\n",
       "0     0.666667        0.586207          0.0          1.0   \n",
       "1     0.833333        1.000000          0.0          1.0   \n",
       "\n",
       "   highest_education_college  highest_education_graduate  \\\n",
       "0                        0.0                         0.0   \n",
       "1                        0.0                         0.0   \n",
       "\n",
       "   highest_education_highschool  highest_education_no highschool  \\\n",
       "0                           0.0                              0.0   \n",
       "1                           1.0                              0.0   \n",
       "\n",
       "   highest_education_some college  \n",
       "0                             1.0  \n",
       "1                             0.0  "
      ]
     },
     "execution_count": 519,
     "metadata": {},
     "output_type": "execute_result"
    }
   ],
   "source": [
    "# Range normalisation\n",
    "\n",
    "# apply normalization techniques\n",
    "for column in base_data.columns:\n",
    "    base_data[column] = (base_data[column] - base_data[column].min()) / (base_data[column].max() - base_data[column].min())\n",
    "\n",
    "# view normalized data\n",
    "base_data.head(2)"
   ]
  },
  {
   "cell_type": "code",
   "execution_count": 614,
   "id": "7afbceee",
   "metadata": {},
   "outputs": [
    {
     "name": "stdout",
     "output_type": "stream",
     "text": [
      "Count of dropout: 56571\n",
      "Count of non-dropout: 14823\n"
     ]
    }
   ],
   "source": [
    "# Resampling\n",
    "\n",
    "drop_out = train_val_base_data.loc[train_val_base_data['dropout_flg'] == 1]\n",
    "no_drop_out = train_val_base_data.loc[train_val_base_data['dropout_flg'] == 0]\n",
    "\n",
    "print('Count of dropout:', len(drop_out))\n",
    "print('Count of non-dropout:', len(no_drop_out))"
   ]
  },
  {
   "cell_type": "code",
   "execution_count": 521,
   "id": "5e3b2787",
   "metadata": {},
   "outputs": [],
   "source": [
    "train_val_base_data=base_data[base_data['dropout_flg'].notnull()]"
   ]
  },
  {
   "cell_type": "code",
   "execution_count": 522,
   "id": "7e57fdf9",
   "metadata": {},
   "outputs": [],
   "source": [
    "X = train_val_base_data.drop(labels='dropout_flg', axis=1)\n",
    "y = train_val_base_data[['dropout_flg']]"
   ]
  },
  {
   "cell_type": "code",
   "execution_count": 523,
   "id": "12d08110",
   "metadata": {},
   "outputs": [],
   "source": [
    "from imblearn.over_sampling import SMOTE\n",
    "su = SMOTE(random_state=42)"
   ]
  },
  {
   "cell_type": "code",
   "execution_count": 524,
   "id": "96fc896c",
   "metadata": {},
   "outputs": [],
   "source": [
    "X_su, y_su = su.fit_resample(X, y)"
   ]
  },
  {
   "cell_type": "code",
   "execution_count": 525,
   "id": "170ebb03",
   "metadata": {},
   "outputs": [
    {
     "name": "stdout",
     "output_type": "stream",
     "text": [
      "0.0    56571\n",
      "1.0    56571\n",
      "Name: dropout_flg, dtype: int64\n"
     ]
    }
   ],
   "source": [
    "#combining 2 datasets \n",
    "df2 = pd.concat([X_su, y_su])\n",
    "print(df2['dropout_flg'].value_counts())"
   ]
  },
  {
   "cell_type": "code",
   "execution_count": 526,
   "id": "629e58a8",
   "metadata": {},
   "outputs": [
    {
     "data": {
      "text/plain": [
       "<AxesSubplot:ylabel='Type'>"
      ]
     },
     "execution_count": 526,
     "metadata": {},
     "output_type": "execute_result"
    },
    {
     "data": {
      "image/png": "[encoded data removed]",
      "text/plain": [
       "<Figure size 432x288 with 1 Axes>"
      ]
     },
     "metadata": {},
     "output_type": "display_data"
    }
   ],
   "source": [
    "#plotting piechart after resampling\n",
    "y_su.groupby('dropout_flg').size().plot(kind='pie',\n",
    "                                       y = 'drop_out',\n",
    "                                       label = \"Type\",\n",
    "                                       autopct='%1.1f%%')"
   ]
  },
  {
   "cell_type": "code",
   "execution_count": 527,
   "id": "d26ab701",
   "metadata": {},
   "outputs": [
    {
     "name": "stdout",
     "output_type": "stream",
     "text": [
      "Training dataset : (79199, 15) (79199, 1)\n",
      "Testing dataset : (33943, 15), (33943, 15)\n"
     ]
    }
   ],
   "source": [
    "# splitting the dataset into training and testing set\n",
    "\n",
    "from sklearn.model_selection import train_test_split\n",
    "\n",
    "xtrain, xval, ytrain, yval = train_test_split(X_su, y_su, stratify=y_su,train_size=.70, random_state= 42)\n",
    "\n",
    "print(f'Training dataset : {xtrain.shape} {ytrain.shape}') # dimension of train set\n",
    "print(f'Testing dataset : {xval.shape}, {xval.shape}') # dimension of test set"
   ]
  },
  {
   "cell_type": "code",
   "execution_count": 528,
   "id": "c0f6efb0",
   "metadata": {},
   "outputs": [
    {
     "data": {
      "image/png": "[encoded data removed]",
      "text/plain": [
       "<Figure size 432x288 with 1 Axes>"
      ]
     },
     "metadata": {
      "needs_background": "light"
     },
     "output_type": "display_data"
    }
   ],
   "source": [
    "# Plotting scree plot to decide the number of principle components required\n",
    "# Experiment on whether standardization or normalization for PCA (mostly they use both, but need to read more)\n",
    "from sklearn.decomposition import PCA\n",
    "pca = PCA(n_components=12)\n",
    "\n",
    "#fit PCA model to data\n",
    "pca_fit = pca.fit(xtrain)\n",
    "\n",
    "PC_values = np.arange(pca.n_components_) + 1\n",
    "plt.plot(PC_values, pca.explained_variance_ratio_, 'o-', linewidth=2, color='blue')\n",
    "plt.title('Scree Plot')\n",
    "plt.xlabel('Principal Component')\n",
    "plt.ylabel('Variance Explained')\n",
    "plt.show()"
   ]
  },
  {
   "cell_type": "code",
   "execution_count": 529,
   "id": "bbbc7f17",
   "metadata": {},
   "outputs": [],
   "source": [
    "# 7 components are selected based on observation from screeplot\n",
    "# This will consider 7 principle components from the dataframe which can further be used for modelling\n",
    "pca = PCA(n_components=7)\n",
    "X_train = pca.fit_transform(xtrain)\n",
    "X_val = pca.transform(xval)"
   ]
  },
  {
   "cell_type": "code",
   "execution_count": 530,
   "id": "ed88c895",
   "metadata": {},
   "outputs": [],
   "source": [
    "xtest=base_data[base_data['dropout_flg'].isnull()]"
   ]
  },
  {
   "cell_type": "code",
   "execution_count": 531,
   "id": "6bb8491f",
   "metadata": {},
   "outputs": [
    {
     "name": "stderr",
     "output_type": "stream",
     "text": [
      "C:\\Users\\Revathi P\\anaconda3\\lib\\site-packages\\pandas\\core\\frame.py:4906: SettingWithCopyWarning: \n",
      "A value is trying to be set on a copy of a slice from a DataFrame\n",
      "\n",
      "See the caveats in the documentation: https://pandas.pydata.org/pandas-docs/stable/user_guide/indexing.html#returning-a-view-versus-a-copy\n",
      "  return super().drop(\n"
     ]
    }
   ],
   "source": [
    "xtest.drop('dropout_flg',axis=1,inplace=True)"
   ]
  },
  {
   "cell_type": "code",
   "execution_count": 532,
   "id": "638fe101",
   "metadata": {},
   "outputs": [],
   "source": [
    "X_test = pca.transform(xtest)"
   ]
  },
  {
   "cell_type": "code",
   "execution_count": 533,
   "id": "1659cba8",
   "metadata": {},
   "outputs": [
    {
     "name": "stdout",
     "output_type": "stream",
     "text": [
      "Training dataset : (79199, 7) (79199, 1)\n",
      "Testing dataset : (33943, 7), (33943, 1)\n"
     ]
    }
   ],
   "source": [
    "print(f'Training dataset : {X_train.shape} {ytrain.shape}') # dimension of train set\n",
    "print(f'Testing dataset : {X_val.shape}, {yval.shape}') # dimension of test set"
   ]
  },
  {
   "cell_type": "code",
   "execution_count": 534,
   "id": "53592c1c",
   "metadata": {},
   "outputs": [],
   "source": [
    "# Modelling"
   ]
  },
  {
   "cell_type": "code",
   "execution_count": 535,
   "id": "397f6991",
   "metadata": {},
   "outputs": [
    {
     "name": "stderr",
     "output_type": "stream",
     "text": [
      "C:\\Users\\REVATH~1\\AppData\\Local\\Temp/ipykernel_17188/1738254996.py:8: DataConversionWarning: A column-vector y was passed when a 1d array was expected. Please change the shape of y to (n_samples,), for example using ravel().\n",
      "  clf.fit(X_train,ytrain)\n"
     ]
    }
   ],
   "source": [
    "#Import Random Forest Model\n",
    "from sklearn.ensemble import RandomForestClassifier\n",
    "\n",
    "#Create a Gaussian Classifier\n",
    "clf=RandomForestClassifier(n_estimators=100)\n",
    "\n",
    "#Train the model using the training sets y_pred=clf.predict(X_test)\n",
    "clf.fit(X_train,ytrain)\n",
    "# clf.fit(xtrain,ytrain)\n",
    "\n",
    "y_pred=clf.predict(X_val)\n",
    "# y_pred=clf.predict(xval)"
   ]
  },
  {
   "cell_type": "code",
   "execution_count": 536,
   "id": "c347c71e",
   "metadata": {},
   "outputs": [
    {
     "name": "stdout",
     "output_type": "stream",
     "text": [
      "              precision    recall  f1-score   support\n",
      "\n",
      "    drop_out       0.85      0.77      0.81     16972\n",
      " no_drop_out       0.79      0.87      0.83     16971\n",
      "\n",
      "    accuracy                           0.82     33943\n",
      "   macro avg       0.82      0.82      0.82     33943\n",
      "weighted avg       0.82      0.82      0.82     33943\n",
      "\n"
     ]
    }
   ],
   "source": [
    "# Classification Report\n",
    "from sklearn.metrics import classification_report\n",
    "\n",
    "print(classification_report(yval, y_pred, target_names=['drop_out','no_drop_out']))"
   ]
  },
  {
   "cell_type": "code",
   "execution_count": 537,
   "id": "f819c50c",
   "metadata": {},
   "outputs": [
    {
     "name": "stderr",
     "output_type": "stream",
     "text": [
      "C:\\Users\\Revathi P\\anaconda3\\lib\\site-packages\\sklearn\\model_selection\\_validation.py:686: DataConversionWarning: A column-vector y was passed when a 1d array was expected. Please change the shape of y to (n_samples,), for example using ravel().\n",
      "  estimator.fit(X_train, y_train, **fit_params)\n",
      "C:\\Users\\Revathi P\\anaconda3\\lib\\site-packages\\sklearn\\model_selection\\_validation.py:686: DataConversionWarning: A column-vector y was passed when a 1d array was expected. Please change the shape of y to (n_samples,), for example using ravel().\n",
      "  estimator.fit(X_train, y_train, **fit_params)\n",
      "C:\\Users\\Revathi P\\anaconda3\\lib\\site-packages\\sklearn\\model_selection\\_validation.py:686: DataConversionWarning: A column-vector y was passed when a 1d array was expected. Please change the shape of y to (n_samples,), for example using ravel().\n",
      "  estimator.fit(X_train, y_train, **fit_params)\n",
      "C:\\Users\\Revathi P\\anaconda3\\lib\\site-packages\\sklearn\\model_selection\\_validation.py:686: DataConversionWarning: A column-vector y was passed when a 1d array was expected. Please change the shape of y to (n_samples,), for example using ravel().\n",
      "  estimator.fit(X_train, y_train, **fit_params)\n",
      "C:\\Users\\Revathi P\\anaconda3\\lib\\site-packages\\sklearn\\model_selection\\_validation.py:686: DataConversionWarning: A column-vector y was passed when a 1d array was expected. Please change the shape of y to (n_samples,), for example using ravel().\n",
      "  estimator.fit(X_train, y_train, **fit_params)\n",
      "C:\\Users\\Revathi P\\anaconda3\\lib\\site-packages\\sklearn\\model_selection\\_validation.py:686: DataConversionWarning: A column-vector y was passed when a 1d array was expected. Please change the shape of y to (n_samples,), for example using ravel().\n",
      "  estimator.fit(X_train, y_train, **fit_params)\n",
      "C:\\Users\\Revathi P\\anaconda3\\lib\\site-packages\\sklearn\\model_selection\\_validation.py:686: DataConversionWarning: A column-vector y was passed when a 1d array was expected. Please change the shape of y to (n_samples,), for example using ravel().\n",
      "  estimator.fit(X_train, y_train, **fit_params)\n",
      "C:\\Users\\Revathi P\\anaconda3\\lib\\site-packages\\sklearn\\model_selection\\_validation.py:686: DataConversionWarning: A column-vector y was passed when a 1d array was expected. Please change the shape of y to (n_samples,), for example using ravel().\n",
      "  estimator.fit(X_train, y_train, **fit_params)\n",
      "C:\\Users\\Revathi P\\anaconda3\\lib\\site-packages\\sklearn\\model_selection\\_validation.py:686: DataConversionWarning: A column-vector y was passed when a 1d array was expected. Please change the shape of y to (n_samples,), for example using ravel().\n",
      "  estimator.fit(X_train, y_train, **fit_params)\n",
      "C:\\Users\\Revathi P\\anaconda3\\lib\\site-packages\\sklearn\\model_selection\\_validation.py:686: DataConversionWarning: A column-vector y was passed when a 1d array was expected. Please change the shape of y to (n_samples,), for example using ravel().\n",
      "  estimator.fit(X_train, y_train, **fit_params)\n",
      "C:\\Users\\Revathi P\\anaconda3\\lib\\site-packages\\sklearn\\model_selection\\_validation.py:686: DataConversionWarning: A column-vector y was passed when a 1d array was expected. Please change the shape of y to (n_samples,), for example using ravel().\n",
      "  estimator.fit(X_train, y_train, **fit_params)\n",
      "C:\\Users\\Revathi P\\anaconda3\\lib\\site-packages\\sklearn\\model_selection\\_validation.py:686: DataConversionWarning: A column-vector y was passed when a 1d array was expected. Please change the shape of y to (n_samples,), for example using ravel().\n",
      "  estimator.fit(X_train, y_train, **fit_params)\n",
      "C:\\Users\\Revathi P\\anaconda3\\lib\\site-packages\\sklearn\\model_selection\\_validation.py:686: DataConversionWarning: A column-vector y was passed when a 1d array was expected. Please change the shape of y to (n_samples,), for example using ravel().\n",
      "  estimator.fit(X_train, y_train, **fit_params)\n",
      "C:\\Users\\Revathi P\\anaconda3\\lib\\site-packages\\sklearn\\model_selection\\_validation.py:686: DataConversionWarning: A column-vector y was passed when a 1d array was expected. Please change the shape of y to (n_samples,), for example using ravel().\n",
      "  estimator.fit(X_train, y_train, **fit_params)\n",
      "C:\\Users\\Revathi P\\anaconda3\\lib\\site-packages\\sklearn\\model_selection\\_validation.py:686: DataConversionWarning: A column-vector y was passed when a 1d array was expected. Please change the shape of y to (n_samples,), for example using ravel().\n",
      "  estimator.fit(X_train, y_train, **fit_params)\n",
      "C:\\Users\\Revathi P\\anaconda3\\lib\\site-packages\\sklearn\\model_selection\\_validation.py:686: DataConversionWarning: A column-vector y was passed when a 1d array was expected. Please change the shape of y to (n_samples,), for example using ravel().\n",
      "  estimator.fit(X_train, y_train, **fit_params)\n",
      "C:\\Users\\Revathi P\\anaconda3\\lib\\site-packages\\sklearn\\model_selection\\_validation.py:686: DataConversionWarning: A column-vector y was passed when a 1d array was expected. Please change the shape of y to (n_samples,), for example using ravel().\n",
      "  estimator.fit(X_train, y_train, **fit_params)\n",
      "C:\\Users\\Revathi P\\anaconda3\\lib\\site-packages\\sklearn\\model_selection\\_validation.py:686: DataConversionWarning: A column-vector y was passed when a 1d array was expected. Please change the shape of y to (n_samples,), for example using ravel().\n",
      "  estimator.fit(X_train, y_train, **fit_params)\n",
      "C:\\Users\\Revathi P\\anaconda3\\lib\\site-packages\\sklearn\\model_selection\\_validation.py:686: DataConversionWarning: A column-vector y was passed when a 1d array was expected. Please change the shape of y to (n_samples,), for example using ravel().\n",
      "  estimator.fit(X_train, y_train, **fit_params)\n",
      "C:\\Users\\Revathi P\\anaconda3\\lib\\site-packages\\sklearn\\model_selection\\_validation.py:686: DataConversionWarning: A column-vector y was passed when a 1d array was expected. Please change the shape of y to (n_samples,), for example using ravel().\n",
      "  estimator.fit(X_train, y_train, **fit_params)\n",
      "C:\\Users\\Revathi P\\anaconda3\\lib\\site-packages\\sklearn\\model_selection\\_validation.py:686: DataConversionWarning: A column-vector y was passed when a 1d array was expected. Please change the shape of y to (n_samples,), for example using ravel().\n",
      "  estimator.fit(X_train, y_train, **fit_params)\n",
      "C:\\Users\\Revathi P\\anaconda3\\lib\\site-packages\\sklearn\\model_selection\\_validation.py:686: DataConversionWarning: A column-vector y was passed when a 1d array was expected. Please change the shape of y to (n_samples,), for example using ravel().\n",
      "  estimator.fit(X_train, y_train, **fit_params)\n",
      "C:\\Users\\Revathi P\\anaconda3\\lib\\site-packages\\sklearn\\model_selection\\_validation.py:686: DataConversionWarning: A column-vector y was passed when a 1d array was expected. Please change the shape of y to (n_samples,), for example using ravel().\n",
      "  estimator.fit(X_train, y_train, **fit_params)\n",
      "C:\\Users\\Revathi P\\anaconda3\\lib\\site-packages\\sklearn\\model_selection\\_validation.py:686: DataConversionWarning: A column-vector y was passed when a 1d array was expected. Please change the shape of y to (n_samples,), for example using ravel().\n",
      "  estimator.fit(X_train, y_train, **fit_params)\n",
      "C:\\Users\\Revathi P\\anaconda3\\lib\\site-packages\\sklearn\\model_selection\\_validation.py:686: DataConversionWarning: A column-vector y was passed when a 1d array was expected. Please change the shape of y to (n_samples,), for example using ravel().\n",
      "  estimator.fit(X_train, y_train, **fit_params)\n",
      "C:\\Users\\Revathi P\\anaconda3\\lib\\site-packages\\sklearn\\model_selection\\_validation.py:686: DataConversionWarning: A column-vector y was passed when a 1d array was expected. Please change the shape of y to (n_samples,), for example using ravel().\n",
      "  estimator.fit(X_train, y_train, **fit_params)\n",
      "C:\\Users\\Revathi P\\anaconda3\\lib\\site-packages\\sklearn\\model_selection\\_validation.py:686: DataConversionWarning: A column-vector y was passed when a 1d array was expected. Please change the shape of y to (n_samples,), for example using ravel().\n",
      "  estimator.fit(X_train, y_train, **fit_params)\n",
      "C:\\Users\\Revathi P\\anaconda3\\lib\\site-packages\\sklearn\\model_selection\\_validation.py:686: DataConversionWarning: A column-vector y was passed when a 1d array was expected. Please change the shape of y to (n_samples,), for example using ravel().\n",
      "  estimator.fit(X_train, y_train, **fit_params)\n"
     ]
    },
    {
     "name": "stderr",
     "output_type": "stream",
     "text": [
      "C:\\Users\\Revathi P\\anaconda3\\lib\\site-packages\\sklearn\\model_selection\\_validation.py:686: DataConversionWarning: A column-vector y was passed when a 1d array was expected. Please change the shape of y to (n_samples,), for example using ravel().\n",
      "  estimator.fit(X_train, y_train, **fit_params)\n",
      "C:\\Users\\Revathi P\\anaconda3\\lib\\site-packages\\sklearn\\model_selection\\_validation.py:686: DataConversionWarning: A column-vector y was passed when a 1d array was expected. Please change the shape of y to (n_samples,), for example using ravel().\n",
      "  estimator.fit(X_train, y_train, **fit_params)\n",
      "C:\\Users\\Revathi P\\anaconda3\\lib\\site-packages\\sklearn\\model_selection\\_validation.py:686: DataConversionWarning: A column-vector y was passed when a 1d array was expected. Please change the shape of y to (n_samples,), for example using ravel().\n",
      "  estimator.fit(X_train, y_train, **fit_params)\n",
      "C:\\Users\\Revathi P\\anaconda3\\lib\\site-packages\\sklearn\\model_selection\\_validation.py:686: DataConversionWarning: A column-vector y was passed when a 1d array was expected. Please change the shape of y to (n_samples,), for example using ravel().\n",
      "  estimator.fit(X_train, y_train, **fit_params)\n",
      "C:\\Users\\Revathi P\\anaconda3\\lib\\site-packages\\sklearn\\model_selection\\_validation.py:686: DataConversionWarning: A column-vector y was passed when a 1d array was expected. Please change the shape of y to (n_samples,), for example using ravel().\n",
      "  estimator.fit(X_train, y_train, **fit_params)\n",
      "C:\\Users\\Revathi P\\anaconda3\\lib\\site-packages\\sklearn\\model_selection\\_validation.py:686: DataConversionWarning: A column-vector y was passed when a 1d array was expected. Please change the shape of y to (n_samples,), for example using ravel().\n",
      "  estimator.fit(X_train, y_train, **fit_params)\n",
      "C:\\Users\\Revathi P\\anaconda3\\lib\\site-packages\\sklearn\\model_selection\\_validation.py:686: DataConversionWarning: A column-vector y was passed when a 1d array was expected. Please change the shape of y to (n_samples,), for example using ravel().\n",
      "  estimator.fit(X_train, y_train, **fit_params)\n",
      "C:\\Users\\Revathi P\\anaconda3\\lib\\site-packages\\sklearn\\model_selection\\_validation.py:686: DataConversionWarning: A column-vector y was passed when a 1d array was expected. Please change the shape of y to (n_samples,), for example using ravel().\n",
      "  estimator.fit(X_train, y_train, **fit_params)\n",
      "C:\\Users\\Revathi P\\anaconda3\\lib\\site-packages\\sklearn\\model_selection\\_validation.py:686: DataConversionWarning: A column-vector y was passed when a 1d array was expected. Please change the shape of y to (n_samples,), for example using ravel().\n",
      "  estimator.fit(X_train, y_train, **fit_params)\n",
      "C:\\Users\\Revathi P\\anaconda3\\lib\\site-packages\\sklearn\\model_selection\\_validation.py:686: DataConversionWarning: A column-vector y was passed when a 1d array was expected. Please change the shape of y to (n_samples,), for example using ravel().\n",
      "  estimator.fit(X_train, y_train, **fit_params)\n",
      "C:\\Users\\Revathi P\\anaconda3\\lib\\site-packages\\sklearn\\model_selection\\_validation.py:686: DataConversionWarning: A column-vector y was passed when a 1d array was expected. Please change the shape of y to (n_samples,), for example using ravel().\n",
      "  estimator.fit(X_train, y_train, **fit_params)\n",
      "C:\\Users\\Revathi P\\anaconda3\\lib\\site-packages\\sklearn\\model_selection\\_validation.py:686: DataConversionWarning: A column-vector y was passed when a 1d array was expected. Please change the shape of y to (n_samples,), for example using ravel().\n",
      "  estimator.fit(X_train, y_train, **fit_params)\n",
      "C:\\Users\\Revathi P\\anaconda3\\lib\\site-packages\\sklearn\\model_selection\\_validation.py:686: DataConversionWarning: A column-vector y was passed when a 1d array was expected. Please change the shape of y to (n_samples,), for example using ravel().\n",
      "  estimator.fit(X_train, y_train, **fit_params)\n",
      "C:\\Users\\Revathi P\\anaconda3\\lib\\site-packages\\sklearn\\model_selection\\_validation.py:686: DataConversionWarning: A column-vector y was passed when a 1d array was expected. Please change the shape of y to (n_samples,), for example using ravel().\n",
      "  estimator.fit(X_train, y_train, **fit_params)\n",
      "C:\\Users\\Revathi P\\anaconda3\\lib\\site-packages\\sklearn\\model_selection\\_validation.py:686: DataConversionWarning: A column-vector y was passed when a 1d array was expected. Please change the shape of y to (n_samples,), for example using ravel().\n",
      "  estimator.fit(X_train, y_train, **fit_params)\n",
      "C:\\Users\\Revathi P\\anaconda3\\lib\\site-packages\\sklearn\\model_selection\\_validation.py:686: DataConversionWarning: A column-vector y was passed when a 1d array was expected. Please change the shape of y to (n_samples,), for example using ravel().\n",
      "  estimator.fit(X_train, y_train, **fit_params)\n",
      "C:\\Users\\Revathi P\\anaconda3\\lib\\site-packages\\sklearn\\model_selection\\_validation.py:686: DataConversionWarning: A column-vector y was passed when a 1d array was expected. Please change the shape of y to (n_samples,), for example using ravel().\n",
      "  estimator.fit(X_train, y_train, **fit_params)\n",
      "C:\\Users\\Revathi P\\anaconda3\\lib\\site-packages\\sklearn\\model_selection\\_validation.py:686: DataConversionWarning: A column-vector y was passed when a 1d array was expected. Please change the shape of y to (n_samples,), for example using ravel().\n",
      "  estimator.fit(X_train, y_train, **fit_params)\n",
      "C:\\Users\\Revathi P\\anaconda3\\lib\\site-packages\\sklearn\\model_selection\\_validation.py:686: DataConversionWarning: A column-vector y was passed when a 1d array was expected. Please change the shape of y to (n_samples,), for example using ravel().\n",
      "  estimator.fit(X_train, y_train, **fit_params)\n",
      "C:\\Users\\Revathi P\\anaconda3\\lib\\site-packages\\sklearn\\model_selection\\_validation.py:686: DataConversionWarning: A column-vector y was passed when a 1d array was expected. Please change the shape of y to (n_samples,), for example using ravel().\n",
      "  estimator.fit(X_train, y_train, **fit_params)\n",
      "C:\\Users\\Revathi P\\anaconda3\\lib\\site-packages\\sklearn\\model_selection\\_validation.py:686: DataConversionWarning: A column-vector y was passed when a 1d array was expected. Please change the shape of y to (n_samples,), for example using ravel().\n",
      "  estimator.fit(X_train, y_train, **fit_params)\n",
      "C:\\Users\\Revathi P\\anaconda3\\lib\\site-packages\\sklearn\\model_selection\\_validation.py:686: DataConversionWarning: A column-vector y was passed when a 1d array was expected. Please change the shape of y to (n_samples,), for example using ravel().\n",
      "  estimator.fit(X_train, y_train, **fit_params)\n",
      "C:\\Users\\Revathi P\\anaconda3\\lib\\site-packages\\sklearn\\model_selection\\_validation.py:686: DataConversionWarning: A column-vector y was passed when a 1d array was expected. Please change the shape of y to (n_samples,), for example using ravel().\n",
      "  estimator.fit(X_train, y_train, **fit_params)\n",
      "C:\\Users\\Revathi P\\anaconda3\\lib\\site-packages\\sklearn\\model_selection\\_validation.py:686: DataConversionWarning: A column-vector y was passed when a 1d array was expected. Please change the shape of y to (n_samples,), for example using ravel().\n",
      "  estimator.fit(X_train, y_train, **fit_params)\n",
      "C:\\Users\\Revathi P\\anaconda3\\lib\\site-packages\\sklearn\\model_selection\\_validation.py:686: DataConversionWarning: A column-vector y was passed when a 1d array was expected. Please change the shape of y to (n_samples,), for example using ravel().\n",
      "  estimator.fit(X_train, y_train, **fit_params)\n",
      "C:\\Users\\Revathi P\\anaconda3\\lib\\site-packages\\sklearn\\model_selection\\_validation.py:686: DataConversionWarning: A column-vector y was passed when a 1d array was expected. Please change the shape of y to (n_samples,), for example using ravel().\n",
      "  estimator.fit(X_train, y_train, **fit_params)\n",
      "C:\\Users\\Revathi P\\anaconda3\\lib\\site-packages\\sklearn\\model_selection\\_validation.py:686: DataConversionWarning: A column-vector y was passed when a 1d array was expected. Please change the shape of y to (n_samples,), for example using ravel().\n",
      "  estimator.fit(X_train, y_train, **fit_params)\n",
      "C:\\Users\\Revathi P\\anaconda3\\lib\\site-packages\\sklearn\\model_selection\\_validation.py:686: DataConversionWarning: A column-vector y was passed when a 1d array was expected. Please change the shape of y to (n_samples,), for example using ravel().\n",
      "  estimator.fit(X_train, y_train, **fit_params)\n"
     ]
    },
    {
     "name": "stderr",
     "output_type": "stream",
     "text": [
      "C:\\Users\\Revathi P\\anaconda3\\lib\\site-packages\\sklearn\\model_selection\\_validation.py:686: DataConversionWarning: A column-vector y was passed when a 1d array was expected. Please change the shape of y to (n_samples,), for example using ravel().\n",
      "  estimator.fit(X_train, y_train, **fit_params)\n",
      "C:\\Users\\Revathi P\\anaconda3\\lib\\site-packages\\sklearn\\model_selection\\_validation.py:686: DataConversionWarning: A column-vector y was passed when a 1d array was expected. Please change the shape of y to (n_samples,), for example using ravel().\n",
      "  estimator.fit(X_train, y_train, **fit_params)\n",
      "C:\\Users\\Revathi P\\anaconda3\\lib\\site-packages\\sklearn\\model_selection\\_validation.py:686: DataConversionWarning: A column-vector y was passed when a 1d array was expected. Please change the shape of y to (n_samples,), for example using ravel().\n",
      "  estimator.fit(X_train, y_train, **fit_params)\n",
      "C:\\Users\\Revathi P\\anaconda3\\lib\\site-packages\\sklearn\\model_selection\\_validation.py:686: DataConversionWarning: A column-vector y was passed when a 1d array was expected. Please change the shape of y to (n_samples,), for example using ravel().\n",
      "  estimator.fit(X_train, y_train, **fit_params)\n",
      "C:\\Users\\Revathi P\\anaconda3\\lib\\site-packages\\sklearn\\model_selection\\_validation.py:686: DataConversionWarning: A column-vector y was passed when a 1d array was expected. Please change the shape of y to (n_samples,), for example using ravel().\n",
      "  estimator.fit(X_train, y_train, **fit_params)\n",
      "C:\\Users\\Revathi P\\anaconda3\\lib\\site-packages\\sklearn\\model_selection\\_validation.py:686: DataConversionWarning: A column-vector y was passed when a 1d array was expected. Please change the shape of y to (n_samples,), for example using ravel().\n",
      "  estimator.fit(X_train, y_train, **fit_params)\n",
      "C:\\Users\\Revathi P\\anaconda3\\lib\\site-packages\\sklearn\\model_selection\\_validation.py:686: DataConversionWarning: A column-vector y was passed when a 1d array was expected. Please change the shape of y to (n_samples,), for example using ravel().\n",
      "  estimator.fit(X_train, y_train, **fit_params)\n",
      "C:\\Users\\Revathi P\\anaconda3\\lib\\site-packages\\sklearn\\model_selection\\_validation.py:686: DataConversionWarning: A column-vector y was passed when a 1d array was expected. Please change the shape of y to (n_samples,), for example using ravel().\n",
      "  estimator.fit(X_train, y_train, **fit_params)\n",
      "C:\\Users\\Revathi P\\anaconda3\\lib\\site-packages\\sklearn\\model_selection\\_validation.py:686: DataConversionWarning: A column-vector y was passed when a 1d array was expected. Please change the shape of y to (n_samples,), for example using ravel().\n",
      "  estimator.fit(X_train, y_train, **fit_params)\n",
      "C:\\Users\\Revathi P\\anaconda3\\lib\\site-packages\\sklearn\\model_selection\\_validation.py:686: DataConversionWarning: A column-vector y was passed when a 1d array was expected. Please change the shape of y to (n_samples,), for example using ravel().\n",
      "  estimator.fit(X_train, y_train, **fit_params)\n",
      "C:\\Users\\Revathi P\\anaconda3\\lib\\site-packages\\sklearn\\model_selection\\_validation.py:686: DataConversionWarning: A column-vector y was passed when a 1d array was expected. Please change the shape of y to (n_samples,), for example using ravel().\n",
      "  estimator.fit(X_train, y_train, **fit_params)\n",
      "C:\\Users\\Revathi P\\anaconda3\\lib\\site-packages\\sklearn\\model_selection\\_validation.py:686: DataConversionWarning: A column-vector y was passed when a 1d array was expected. Please change the shape of y to (n_samples,), for example using ravel().\n",
      "  estimator.fit(X_train, y_train, **fit_params)\n",
      "C:\\Users\\Revathi P\\anaconda3\\lib\\site-packages\\sklearn\\model_selection\\_validation.py:686: DataConversionWarning: A column-vector y was passed when a 1d array was expected. Please change the shape of y to (n_samples,), for example using ravel().\n",
      "  estimator.fit(X_train, y_train, **fit_params)\n",
      "C:\\Users\\Revathi P\\anaconda3\\lib\\site-packages\\sklearn\\model_selection\\_validation.py:686: DataConversionWarning: A column-vector y was passed when a 1d array was expected. Please change the shape of y to (n_samples,), for example using ravel().\n",
      "  estimator.fit(X_train, y_train, **fit_params)\n",
      "C:\\Users\\Revathi P\\anaconda3\\lib\\site-packages\\sklearn\\model_selection\\_validation.py:686: DataConversionWarning: A column-vector y was passed when a 1d array was expected. Please change the shape of y to (n_samples,), for example using ravel().\n",
      "  estimator.fit(X_train, y_train, **fit_params)\n",
      "C:\\Users\\Revathi P\\anaconda3\\lib\\site-packages\\sklearn\\model_selection\\_validation.py:686: DataConversionWarning: A column-vector y was passed when a 1d array was expected. Please change the shape of y to (n_samples,), for example using ravel().\n",
      "  estimator.fit(X_train, y_train, **fit_params)\n",
      "C:\\Users\\Revathi P\\anaconda3\\lib\\site-packages\\sklearn\\model_selection\\_validation.py:686: DataConversionWarning: A column-vector y was passed when a 1d array was expected. Please change the shape of y to (n_samples,), for example using ravel().\n",
      "  estimator.fit(X_train, y_train, **fit_params)\n",
      "C:\\Users\\Revathi P\\anaconda3\\lib\\site-packages\\sklearn\\model_selection\\_validation.py:686: DataConversionWarning: A column-vector y was passed when a 1d array was expected. Please change the shape of y to (n_samples,), for example using ravel().\n",
      "  estimator.fit(X_train, y_train, **fit_params)\n",
      "C:\\Users\\Revathi P\\anaconda3\\lib\\site-packages\\sklearn\\model_selection\\_validation.py:686: DataConversionWarning: A column-vector y was passed when a 1d array was expected. Please change the shape of y to (n_samples,), for example using ravel().\n",
      "  estimator.fit(X_train, y_train, **fit_params)\n",
      "C:\\Users\\Revathi P\\anaconda3\\lib\\site-packages\\sklearn\\model_selection\\_validation.py:686: DataConversionWarning: A column-vector y was passed when a 1d array was expected. Please change the shape of y to (n_samples,), for example using ravel().\n",
      "  estimator.fit(X_train, y_train, **fit_params)\n",
      "C:\\Users\\Revathi P\\anaconda3\\lib\\site-packages\\sklearn\\model_selection\\_validation.py:686: DataConversionWarning: A column-vector y was passed when a 1d array was expected. Please change the shape of y to (n_samples,), for example using ravel().\n",
      "  estimator.fit(X_train, y_train, **fit_params)\n",
      "C:\\Users\\Revathi P\\anaconda3\\lib\\site-packages\\sklearn\\model_selection\\_validation.py:686: DataConversionWarning: A column-vector y was passed when a 1d array was expected. Please change the shape of y to (n_samples,), for example using ravel().\n",
      "  estimator.fit(X_train, y_train, **fit_params)\n",
      "C:\\Users\\Revathi P\\anaconda3\\lib\\site-packages\\sklearn\\model_selection\\_validation.py:686: DataConversionWarning: A column-vector y was passed when a 1d array was expected. Please change the shape of y to (n_samples,), for example using ravel().\n",
      "  estimator.fit(X_train, y_train, **fit_params)\n",
      "C:\\Users\\Revathi P\\anaconda3\\lib\\site-packages\\sklearn\\model_selection\\_validation.py:686: DataConversionWarning: A column-vector y was passed when a 1d array was expected. Please change the shape of y to (n_samples,), for example using ravel().\n",
      "  estimator.fit(X_train, y_train, **fit_params)\n",
      "C:\\Users\\Revathi P\\anaconda3\\lib\\site-packages\\sklearn\\model_selection\\_validation.py:686: DataConversionWarning: A column-vector y was passed when a 1d array was expected. Please change the shape of y to (n_samples,), for example using ravel().\n",
      "  estimator.fit(X_train, y_train, **fit_params)\n",
      "C:\\Users\\Revathi P\\anaconda3\\lib\\site-packages\\sklearn\\model_selection\\_validation.py:686: DataConversionWarning: A column-vector y was passed when a 1d array was expected. Please change the shape of y to (n_samples,), for example using ravel().\n",
      "  estimator.fit(X_train, y_train, **fit_params)\n",
      "C:\\Users\\Revathi P\\anaconda3\\lib\\site-packages\\sklearn\\model_selection\\_validation.py:686: DataConversionWarning: A column-vector y was passed when a 1d array was expected. Please change the shape of y to (n_samples,), for example using ravel().\n",
      "  estimator.fit(X_train, y_train, **fit_params)\n",
      "C:\\Users\\Revathi P\\anaconda3\\lib\\site-packages\\sklearn\\model_selection\\_validation.py:686: DataConversionWarning: A column-vector y was passed when a 1d array was expected. Please change the shape of y to (n_samples,), for example using ravel().\n",
      "  estimator.fit(X_train, y_train, **fit_params)\n"
     ]
    },
    {
     "name": "stderr",
     "output_type": "stream",
     "text": [
      "C:\\Users\\Revathi P\\anaconda3\\lib\\site-packages\\sklearn\\model_selection\\_validation.py:686: DataConversionWarning: A column-vector y was passed when a 1d array was expected. Please change the shape of y to (n_samples,), for example using ravel().\n",
      "  estimator.fit(X_train, y_train, **fit_params)\n",
      "C:\\Users\\Revathi P\\anaconda3\\lib\\site-packages\\sklearn\\model_selection\\_validation.py:686: DataConversionWarning: A column-vector y was passed when a 1d array was expected. Please change the shape of y to (n_samples,), for example using ravel().\n",
      "  estimator.fit(X_train, y_train, **fit_params)\n",
      "C:\\Users\\Revathi P\\anaconda3\\lib\\site-packages\\sklearn\\model_selection\\_validation.py:686: DataConversionWarning: A column-vector y was passed when a 1d array was expected. Please change the shape of y to (n_samples,), for example using ravel().\n",
      "  estimator.fit(X_train, y_train, **fit_params)\n",
      "C:\\Users\\Revathi P\\anaconda3\\lib\\site-packages\\sklearn\\model_selection\\_validation.py:686: DataConversionWarning: A column-vector y was passed when a 1d array was expected. Please change the shape of y to (n_samples,), for example using ravel().\n",
      "  estimator.fit(X_train, y_train, **fit_params)\n",
      "C:\\Users\\Revathi P\\anaconda3\\lib\\site-packages\\sklearn\\model_selection\\_validation.py:686: DataConversionWarning: A column-vector y was passed when a 1d array was expected. Please change the shape of y to (n_samples,), for example using ravel().\n",
      "  estimator.fit(X_train, y_train, **fit_params)\n",
      "C:\\Users\\Revathi P\\anaconda3\\lib\\site-packages\\sklearn\\model_selection\\_validation.py:686: DataConversionWarning: A column-vector y was passed when a 1d array was expected. Please change the shape of y to (n_samples,), for example using ravel().\n",
      "  estimator.fit(X_train, y_train, **fit_params)\n",
      "C:\\Users\\Revathi P\\anaconda3\\lib\\site-packages\\sklearn\\model_selection\\_validation.py:686: DataConversionWarning: A column-vector y was passed when a 1d array was expected. Please change the shape of y to (n_samples,), for example using ravel().\n",
      "  estimator.fit(X_train, y_train, **fit_params)\n",
      "C:\\Users\\Revathi P\\anaconda3\\lib\\site-packages\\sklearn\\model_selection\\_validation.py:686: DataConversionWarning: A column-vector y was passed when a 1d array was expected. Please change the shape of y to (n_samples,), for example using ravel().\n",
      "  estimator.fit(X_train, y_train, **fit_params)\n",
      "C:\\Users\\Revathi P\\anaconda3\\lib\\site-packages\\sklearn\\model_selection\\_validation.py:686: DataConversionWarning: A column-vector y was passed when a 1d array was expected. Please change the shape of y to (n_samples,), for example using ravel().\n",
      "  estimator.fit(X_train, y_train, **fit_params)\n",
      "C:\\Users\\Revathi P\\anaconda3\\lib\\site-packages\\sklearn\\model_selection\\_validation.py:686: DataConversionWarning: A column-vector y was passed when a 1d array was expected. Please change the shape of y to (n_samples,), for example using ravel().\n",
      "  estimator.fit(X_train, y_train, **fit_params)\n",
      "C:\\Users\\Revathi P\\anaconda3\\lib\\site-packages\\sklearn\\model_selection\\_validation.py:686: DataConversionWarning: A column-vector y was passed when a 1d array was expected. Please change the shape of y to (n_samples,), for example using ravel().\n",
      "  estimator.fit(X_train, y_train, **fit_params)\n",
      "C:\\Users\\Revathi P\\anaconda3\\lib\\site-packages\\sklearn\\model_selection\\_validation.py:686: DataConversionWarning: A column-vector y was passed when a 1d array was expected. Please change the shape of y to (n_samples,), for example using ravel().\n",
      "  estimator.fit(X_train, y_train, **fit_params)\n",
      "C:\\Users\\Revathi P\\anaconda3\\lib\\site-packages\\sklearn\\model_selection\\_search.py:910: DataConversionWarning: A column-vector y was passed when a 1d array was expected. Please change the shape of y to (n_samples,), for example using ravel().\n",
      "  self.best_estimator_.fit(X, y, **fit_params)\n"
     ]
    }
   ],
   "source": [
    "# Hyperparameter tuning\n",
    "# Using GridsearchCV\n",
    "from sklearn.model_selection import StratifiedShuffleSplit\n",
    "from sklearn.model_selection import GridSearchCV\n",
    "\n",
    "clf=RandomForestClassifier(n_estimators=100)\n",
    "ss = StratifiedShuffleSplit(n_splits=3, test_size=0.5, random_state=0)\n",
    "params = [{'criterion':[\"gini\",\"entropy\"],\"max_depth\":[5,6,7,8,9,10,11,12],\"class_weight\":[\"balanced\"],\"random_state\":[18]\\\n",
    "          ,\"max_features\":['sqrt','log2']}]\n",
    "GSCV = GridSearchCV(clf,params,scoring=\"roc_auc\",cv=ss)\n",
    "GSCV.fit(X_train,ytrain)\n",
    "GSCV.best_params_\n",
    "best_model = GSCV.best_estimator_"
   ]
  },
  {
   "cell_type": "code",
   "execution_count": 538,
   "id": "871cb458",
   "metadata": {},
   "outputs": [
    {
     "data": {
      "text/plain": [
       "{'class_weight': 'balanced',\n",
       " 'criterion': 'gini',\n",
       " 'max_depth': 12,\n",
       " 'max_features': 'sqrt',\n",
       " 'random_state': 18}"
      ]
     },
     "execution_count": 538,
     "metadata": {},
     "output_type": "execute_result"
    }
   ],
   "source": [
    "GSCV.best_params_"
   ]
  },
  {
   "cell_type": "code",
   "execution_count": 539,
   "id": "5f129d58",
   "metadata": {},
   "outputs": [],
   "source": [
    "from sklearn.metrics import roc_curve\n",
    "\n",
    "preds = best_model.predict_proba(X_train)[:,1]\n",
    "\n",
    "fpr, tpr, thresholds = roc_curve(ytrain, preds)\n",
    "optimal_idx = np.argmax(tpr - fpr)\n",
    "optimal_threshold = thresholds[optimal_idx]\n",
    "y_pred = (GSCV.predict_proba(X_val)[:,1] >= optimal_threshold).astype(bool)"
   ]
  },
  {
   "cell_type": "code",
   "execution_count": 540,
   "id": "c734260c",
   "metadata": {},
   "outputs": [
    {
     "data": {
      "text/plain": [
       "0.4534454337396472"
      ]
     },
     "execution_count": 540,
     "metadata": {},
     "output_type": "execute_result"
    }
   ],
   "source": [
    "optimal_threshold"
   ]
  },
  {
   "cell_type": "code",
   "execution_count": 541,
   "id": "ab9d6d87",
   "metadata": {},
   "outputs": [
    {
     "name": "stdout",
     "output_type": "stream",
     "text": [
      "              precision    recall  f1-score   support\n",
      "\n",
      "    drop_out       0.84      0.75      0.80     16972\n",
      " no_drop_out       0.78      0.86      0.82     16971\n",
      "\n",
      "    accuracy                           0.81     33943\n",
      "   macro avg       0.81      0.81      0.81     33943\n",
      "weighted avg       0.81      0.81      0.81     33943\n",
      "\n"
     ]
    }
   ],
   "source": [
    "# Classification Report\n",
    "from sklearn.metrics import classification_report\n",
    "\n",
    "print(classification_report(yval, y_pred, target_names=['drop_out','no_drop_out']))"
   ]
  },
  {
   "cell_type": "code",
   "execution_count": 542,
   "id": "bca1e4fe",
   "metadata": {},
   "outputs": [
    {
     "data": {
      "image/png": "[encoded data removed]",
      "text/plain": [
       "<Figure size 576x432 with 1 Axes>"
      ]
     },
     "metadata": {
      "needs_background": "light"
     },
     "output_type": "display_data"
    }
   ],
   "source": [
    "# Importing the required metrics\n",
    "from sklearn.metrics import roc_curve, roc_auc_score\n",
    "from sklearn.metrics import accuracy_score, precision_score, recall_score, confusion_matrix, f1_score\n",
    "\n",
    "#defining roc curve\n",
    "def plot_roc_curve(fpr, tpr, label=None):\n",
    "    plt.figure(figsize=(8, 6))\n",
    "    plt.title('ROC Curve', fontsize=15)\n",
    "    plt.plot([0, 1], [0, 1], 'k--')\n",
    "    plt.plot(fpr, tpr, linewidth=2, label=label,color='orange')\n",
    "    plt.xticks(np.arange(0, 1, 0.05), rotation=90)\n",
    "    plt.xlabel('False Positive Rates', fontsize=15)\n",
    "    plt.ylabel('True Positive Rates', fontsize=15)\n",
    "    plt.legend(loc='best')\n",
    "    \n",
    "    plt.show()\n",
    "\n",
    "#plotting ROC curve\n",
    "fpr, tpr, threshold = roc_curve(yval, y_pred)\n",
    "knn_auc = roc_auc_score(yval, y_pred)\n",
    "plot_roc_curve(fpr, tpr, 'AUC = %.3f' % knn_auc)"
   ]
  },
  {
   "cell_type": "code",
   "execution_count": 543,
   "id": "e45cc190",
   "metadata": {},
   "outputs": [],
   "source": [
    "# Finding the test predictions and saving to test set\n",
    "from sklearn.metrics import roc_curve\n",
    "\n",
    "preds = best_model.predict_proba(X_train)[:,1]\n",
    "\n",
    "fpr, tpr, thresholds = roc_curve(ytrain, preds)\n",
    "optimal_idx = np.argmax(tpr - fpr)\n",
    "optimal_threshold = thresholds[optimal_idx]\n",
    "y_pred = (GSCV.predict_proba(X_test)[:,1] >= optimal_threshold).astype(bool)"
   ]
  },
  {
   "cell_type": "code",
   "execution_count": 544,
   "id": "a9ac3c05",
   "metadata": {},
   "outputs": [
    {
     "data": {
      "text/plain": [
       "1000"
      ]
     },
     "execution_count": 544,
     "metadata": {},
     "output_type": "execute_result"
    }
   ],
   "source": [
    "len(X_test)"
   ]
  },
  {
   "cell_type": "code",
   "execution_count": 545,
   "id": "37ea05ba",
   "metadata": {},
   "outputs": [],
   "source": [
    "test['dropout_flg']=y_pred"
   ]
  },
  {
   "cell_type": "code",
   "execution_count": 546,
   "id": "600a82b1",
   "metadata": {},
   "outputs": [],
   "source": [
    "test.to_csv('test.csv')"
   ]
  },
  {
   "cell_type": "code",
   "execution_count": 547,
   "id": "4b9beffe",
   "metadata": {},
   "outputs": [],
   "source": [
    "# XGBoost\n",
    "from xgboost import XGBClassifier\n",
    "clf = XGBClassifier(booster='gbtree',n_estimators=100,random_state=0)\n",
    "clf.fit(X_train, ytrain)\n",
    "y_pred=clf.predict(X_val)"
   ]
  },
  {
   "cell_type": "code",
   "execution_count": 549,
   "id": "d9c6bd5b",
   "metadata": {},
   "outputs": [
    {
     "name": "stdout",
     "output_type": "stream",
     "text": [
      "              precision    recall  f1-score   support\n",
      "\n",
      "    drop_out       0.82      0.77      0.79     16972\n",
      " no_drop_out       0.78      0.84      0.81     16971\n",
      "\n",
      "    accuracy                           0.80     33943\n",
      "   macro avg       0.80      0.80      0.80     33943\n",
      "weighted avg       0.80      0.80      0.80     33943\n",
      "\n"
     ]
    }
   ],
   "source": [
    "# Classification Report\n",
    "from sklearn.metrics import classification_report\n",
    "\n",
    "print(classification_report(yval, y_pred, target_names=['drop_out','no_drop_out']))"
   ]
  },
  {
   "cell_type": "code",
   "execution_count": 550,
   "id": "5606b311",
   "metadata": {},
   "outputs": [],
   "source": [
    "# Using GridsearchCV\n",
    "from sklearn.model_selection import StratifiedShuffleSplit\n",
    "from sklearn.model_selection import GridSearchCV\n",
    "\n",
    "ss = StratifiedShuffleSplit(n_splits=3, test_size=0.5, random_state=0)\n",
    "clf = XGBClassifier(booster='gbtree',n_estimators=100,random_state=0)\n",
    "params = {\n",
    "    'max_depth': range (2, 10, 1),\n",
    "    'n_estimators': range(60, 220, 40),\n",
    "    'learning_rate': [0.1, 0.01, 0.05]\n",
    "}\n",
    "GSCV = GridSearchCV(clf,params,scoring=\"roc_auc\",cv=ss)\n",
    "GSCV.fit(X_train,ytrain)\n",
    "GSCV.best_params_\n",
    "best_model = GSCV.best_estimator_"
   ]
  },
  {
   "cell_type": "code",
   "execution_count": 551,
   "id": "3ca0bff6",
   "metadata": {},
   "outputs": [
    {
     "data": {
      "text/plain": [
       "{'learning_rate': 0.1, 'max_depth': 9, 'n_estimators': 180}"
      ]
     },
     "execution_count": 551,
     "metadata": {},
     "output_type": "execute_result"
    }
   ],
   "source": [
    "GSCV.best_params_"
   ]
  },
  {
   "cell_type": "code",
   "execution_count": 552,
   "id": "45d99310",
   "metadata": {},
   "outputs": [],
   "source": [
    "from sklearn.metrics import roc_curve\n",
    "\n",
    "preds = best_model.predict_proba(X_train)[:,1]\n",
    "\n",
    "fpr, tpr, thresholds = roc_curve(ytrain, preds)\n",
    "optimal_idx = np.argmax(tpr - fpr)\n",
    "optimal_threshold = thresholds[optimal_idx]\n",
    "y_pred = (GSCV.predict_proba(X_val)[:,1] >= optimal_threshold).astype(bool)"
   ]
  },
  {
   "cell_type": "code",
   "execution_count": 553,
   "id": "1c783e78",
   "metadata": {},
   "outputs": [
    {
     "data": {
      "text/plain": [
       "0.45853248"
      ]
     },
     "execution_count": 553,
     "metadata": {},
     "output_type": "execute_result"
    }
   ],
   "source": [
    "optimal_threshold"
   ]
  },
  {
   "cell_type": "code",
   "execution_count": 555,
   "id": "209b4d65",
   "metadata": {},
   "outputs": [
    {
     "name": "stdout",
     "output_type": "stream",
     "text": [
      "              precision    recall  f1-score   support\n",
      "\n",
      "    drop_out       0.85      0.75      0.80     16972\n",
      " no_drop_out       0.78      0.86      0.82     16971\n",
      "\n",
      "    accuracy                           0.81     33943\n",
      "   macro avg       0.81      0.81      0.81     33943\n",
      "weighted avg       0.81      0.81      0.81     33943\n",
      "\n"
     ]
    }
   ],
   "source": [
    "# Classification Report\n",
    "from sklearn.metrics import classification_report\n",
    "\n",
    "print(classification_report(yval, y_pred, target_names=['drop_out','no_drop_out']))"
   ]
  },
  {
   "cell_type": "code",
   "execution_count": null,
   "id": "276f72ef",
   "metadata": {},
   "outputs": [],
   "source": [
    "# Importing the required metrics\n",
    "from sklearn.metrics import roc_curve, roc_auc_score\n",
    "from sklearn.metrics import accuracy_score, precision_score, recall_score, confusion_matrix, f1_score\n",
    "\n",
    "#defining roc curve\n",
    "def plot_roc_curve(fpr, tpr, label=None):\n",
    "    plt.figure(figsize=(8, 6))\n",
    "    plt.title('ROC Curve', fontsize=15)\n",
    "    plt.plot([0, 1], [0, 1], 'k--')\n",
    "    plt.plot(fpr, tpr, linewidth=2, label=label,color='orange')\n",
    "    plt.xticks(np.arange(0, 1, 0.05), rotation=90)\n",
    "    plt.xlabel('False Positive Rates', fontsize=15)\n",
    "    plt.ylabel('True Positive Rates', fontsize=15)\n",
    "    plt.legend(loc='best')\n",
    "    \n",
    "    plt.show()\n",
    "\n",
    "#plotting ROC curve\n",
    "fpr, tpr, threshold = roc_curve(yval, y_pred)\n",
    "knn_auc = roc_auc_score(ytest, y_pred)\n",
    "plot_roc_curve(fpr, tpr, 'AUC = %.3f' % knn_auc)\n"
   ]
  }
 ],
 "metadata": {
  "kernelspec": {
   "display_name": "Python 3 (ipykernel)",
   "language": "python",
   "name": "python3"
  },
  "language_info": {
   "codemirror_mode": {
    "name": "ipython",
    "version": 3
   },
   "file_extension": ".py",
   "mimetype": "text/x-python",
   "name": "python",
   "nbconvert_exporter": "python",
   "pygments_lexer": "ipython3",
   "version": "3.9.7"
  }
 },
 "nbformat": 4,
 "nbformat_minor": 5
}
