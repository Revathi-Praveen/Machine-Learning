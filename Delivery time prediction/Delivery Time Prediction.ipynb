{
 "cells": [
  {
   "cell_type": "code",
   "execution_count": 222,
   "id": "3959e4fe",
   "metadata": {},
   "outputs": [],
   "source": [
    "# !pip install geopy\n",
    "import warnings\n",
    "\n",
    "warnings.filterwarnings(\"ignore\")\n",
    "import dateutil"
   ]
  },
  {
   "cell_type": "markdown",
   "id": "af3f01f9",
   "metadata": {},
   "source": [
    "# Data Preparation"
   ]
  },
  {
   "cell_type": "code",
   "execution_count": 196,
   "id": "2f057262",
   "metadata": {},
   "outputs": [],
   "source": [
    "import pandas as pd\n",
    "from geopy.geocoders import Nominatim"
   ]
  },
  {
   "cell_type": "code",
   "execution_count": 14,
   "id": "8643590e",
   "metadata": {},
   "outputs": [],
   "source": [
    "import pandas as pd\n",
    "from geopy.geocoders import Nominatim\n",
    "from geopy.exc import GeocoderTimedOut\n",
    "import time\n",
    "\n",
    "def reverse_geocode(lat, lon):\n",
    "    try:\n",
    "        geolocator = Nominatim(user_agent=\"YourUniqueUserAgentName\")\n",
    "        # Increase the timeout parameter\n",
    "        location = geolocator.reverse((lat, lon), exactly_one=True, timeout=5)\n",
    "        if location is not None:\n",
    "            address = location.raw['address']\n",
    "            city = address.get('city', '')\n",
    "            state = address.get('state', '')\n",
    "            country = address.get('country', '')\n",
    "            return city, state, country\n",
    "        else:\n",
    "            return \"\", \"\", \"\"\n",
    "    except GeocoderTimedOut:\n",
    "        return \"Timed out\", \"\", \"\"\n",
    "\n",
    "\n",
    "\n",
    "# Load your dataset\n",
    "file_path = rRestaurant Lat Long.csv\"\n",
    "data = pd.read_csv(file_path)\n",
    "\n",
    "# Add columns for city, state, country\n",
    "data['city'] = ''\n",
    "data['state'] = ''\n",
    "data['country'] = ''\n",
    "\n",
    "# Iterate over the DataFrame rows\n",
    "for index, row in data.iterrows():\n",
    "    city, state, country = reverse_geocode(row['Restaurant_latitude'], row['Restaurant_longitude'])\n",
    "    data.at[index, 'city'] = city\n",
    "    data.at[index, 'state'] = state\n",
    "    data.at[index, 'country'] = country\n",
    "    \n",
    "    # To avoid hitting rate limits\n",
    "    time.sleep(1)\n",
    "\n",
    "# Save the enriched DataFrame\n",
    "data.to_csv('Enriched_Restaurant_Lat_Long.csv', index=False)"
   ]
  },
  {
   "cell_type": "code",
   "execution_count": 197,
   "id": "b75d7dde",
   "metadata": {},
   "outputs": [],
   "source": [
    "data_restaurant=pd.read_csv('Enriched_Restaurant_Lat_Long.csv')"
   ]
  },
  {
   "cell_type": "code",
   "execution_count": 198,
   "id": "9dd7c247",
   "metadata": {},
   "outputs": [],
   "source": [
    "data_restaurant.rename(columns={'city':'restaurant_city','state':'restaurant_state','country':'restaurant_country'},inplace=True)"
   ]
  },
  {
   "cell_type": "code",
   "execution_count": 18,
   "id": "ecc4d4a9",
   "metadata": {},
   "outputs": [],
   "source": [
    "import pandas as pd\n",
    "from geopy.geocoders import Nominatim\n",
    "from geopy.exc import GeocoderTimedOut\n",
    "import time\n",
    "\n",
    "def reverse_geocode(lat, lon):\n",
    "    try:\n",
    "        geolocator = Nominatim(user_agent=\"YourUniqueUserAgentName\")\n",
    "        # Increase the timeout parameter\n",
    "        location = geolocator.reverse((lat, lon), exactly_one=True, timeout=5)\n",
    "        if location is not None:\n",
    "            address = location.raw['address']\n",
    "            city = address.get('city', '')\n",
    "            state = address.get('state', '')\n",
    "            country = address.get('country', '')\n",
    "            return city, state, country\n",
    "        else:\n",
    "            return \"\", \"\", \"\"\n",
    "    except GeocoderTimedOut:\n",
    "        return \"Timed out\", \"\", \"\"\n",
    "\n",
    "\n",
    "\n",
    "# Load your dataset\n",
    "file_path = r\"Delivery Lat Long.csv\"\n",
    "data = pd.read_csv(file_path)\n",
    "\n",
    "# Add columns for city, state, country\n",
    "data['city'] = ''\n",
    "data['state'] = ''\n",
    "data['country'] = ''\n",
    "\n",
    "# Iterate over the DataFrame rows\n",
    "for index, row in data.iterrows():\n",
    "    city, state, country = reverse_geocode(row['Delivery_location_latitude'], row['Delivery_location_longitude'])\n",
    "    data.at[index, 'city'] = city\n",
    "    data.at[index, 'state'] = state\n",
    "    data.at[index, 'country'] = country\n",
    "    \n",
    "    # To avoid hitting rate limits\n",
    "    time.sleep(1)\n",
    "\n",
    "# Save the enriched DataFrame\n",
    "data.to_csv('Enriched_Delivery_Lat_Long.csv', index=False)"
   ]
  },
  {
   "cell_type": "code",
   "execution_count": 199,
   "id": "7ce04a95",
   "metadata": {},
   "outputs": [],
   "source": [
    "data_delivery=pd.read_csv('Enriched_Delivery_Lat_Long.csv')"
   ]
  },
  {
   "cell_type": "code",
   "execution_count": 200,
   "id": "1319fe3c",
   "metadata": {},
   "outputs": [],
   "source": [
    "data_delivery.rename(columns={'city':'delivery_city','state':'delivery_state','country':'delivery_country'},inplace=True)"
   ]
  },
  {
   "attachments": {},
   "cell_type": "markdown",
   "id": "cb11875b",
   "metadata": {},
   "source": [
    "#### Data Manipulation\n",
    " - Join with city, state mapping file\n",
    " - remove unnecessary columns (ID, Delivery Person ID)\n",
    " - Missing value handling \n",
    "     - delivery person age\n",
    "     - delivery person rating\n",
    "     - Time Ordered\n",
    "     - Road_traffic_density\n",
    "     - multiple_deliveries\n",
    "     - Festival\n",
    "     - City\n",
    "     \n",
    "     41368/45593 on eliminating nan's\n",
    " - Data Cleaning\n",
    "     - Order date format organization to common date format\n",
    "     - Weatherconditions (remove conditions)\n",
    "     - Time taken (min elimination)\n",
    " - Feature creation\n",
    "     - Month of order"
   ]
  },
  {
   "cell_type": "code",
   "execution_count": 331,
   "id": "cbdc186a",
   "metadata": {},
   "outputs": [],
   "source": [
    "data_train=pd.read_csv(r\"train.csv\")"
   ]
  },
  {
   "cell_type": "code",
   "execution_count": 875,
   "id": "6b52c137",
   "metadata": {},
   "outputs": [],
   "source": [
    "data=data_train.copy()"
   ]
  },
  {
   "cell_type": "code",
   "execution_count": 877,
   "id": "ae4d2423",
   "metadata": {},
   "outputs": [],
   "source": [
    "data=pd.merge(data, data_restaurant,how='inner',on=['Restaurant_latitude','Restaurant_longitude'])\n",
    "data=pd.merge(data, data_delivery,how='inner',on=['Delivery_location_latitude','Delivery_location_longitude'])"
   ]
  },
  {
   "cell_type": "code",
   "execution_count": 879,
   "id": "dd46afc4",
   "metadata": {},
   "outputs": [],
   "source": [
    "data.drop(['ID','Delivery_person_ID'],axis=1,inplace=True)"
   ]
  },
  {
   "cell_type": "code",
   "execution_count": 880,
   "id": "e27a20c1",
   "metadata": {},
   "outputs": [],
   "source": [
    "data['Delivery_person_Age']=pd.to_numeric(data['Delivery_person_Age'], errors='coerce')\n",
    "data['Delivery_person_Ratings']=pd.to_numeric(data['Delivery_person_Ratings'], errors='coerce')\n",
    "data['multiple_deliveries']=pd.to_numeric(data['multiple_deliveries'], errors='coerce')\n",
    "\n",
    "data=data.apply(lambda col:col.str.strip() if col.dtype=='object' else col)\n",
    "data=data[(data['Weatherconditions']!='NaN') & (data['Festival']!='NaN') & (data['City']!='NaN') & (data['Time_Orderd']!='NaN') & (data['Time_Order_picked']!='NaN')]\n",
    "# data.dtypes"
   ]
  },
  {
   "cell_type": "code",
   "execution_count": 881,
   "id": "6940626e",
   "metadata": {},
   "outputs": [],
   "source": [
    "data=data[(data['restaurant_country']=='India') & (data['delivery_country']=='India')]"
   ]
  },
  {
   "cell_type": "code",
   "execution_count": 882,
   "id": "96051c55",
   "metadata": {},
   "outputs": [],
   "source": [
    "data.drop(['delivery_city','restaurant_city','restaurant_country','restaurant_country','restaurant_state','delivery_country'],axis=1, inplace=True, errors='ignore')"
   ]
  },
  {
   "cell_type": "code",
   "execution_count": 883,
   "id": "8d90cbf7",
   "metadata": {},
   "outputs": [],
   "source": [
    "data.dropna(axis=0,inplace=True)"
   ]
  },
  {
   "cell_type": "code",
   "execution_count": 884,
   "id": "deb04ea6",
   "metadata": {},
   "outputs": [],
   "source": [
    "data['Weatherconditions']=data['Weatherconditions'].str[11:]\n",
    "data['Time_taken(min)']=data['Time_taken(min)'].str[6:]"
   ]
  },
  {
   "cell_type": "code",
   "execution_count": 885,
   "id": "f8fe3801",
   "metadata": {},
   "outputs": [],
   "source": [
    "data['Order_Date']=data['Order_Date'].apply(lambda x:dateutil.parser.parse(x))"
   ]
  },
  {
   "cell_type": "code",
   "execution_count": 886,
   "id": "30210e69",
   "metadata": {},
   "outputs": [
    {
     "data": {
      "text/plain": [
       "Delivery_person_Age            [37.0, 25.0, 23.0, 26.0, 22.0, 28.0, 36.0, 27....\n",
       "Delivery_person_Ratings        [4.9, 4.2, 4.1, 4.6, 4.7, 4.8, 4.3, 4.5, 3.9, ...\n",
       "Restaurant_latitude            [22.745049, 12.913041, 12.914264, 11.003669, 1...\n",
       "Restaurant_longitude           [75.892471, 77.683237, 77.6784, 76.976494, 80....\n",
       "Delivery_location_latitude     [22.765049, 22.835049, 22.815049, 22.785049, 2...\n",
       "Delivery_location_longitude    [75.912471, 75.982471, 75.962471, 75.932471, 7...\n",
       "Order_Date                     [2022-03-19 00:00:00, 2022-05-04 00:00:00, 202...\n",
       "Time_Orderd                    [11:30:00, 8:20:00, 10:20:00, 10:40:00, 9:50:0...\n",
       "Time_Order_picked              [11:45:00, 8:25:00, 10:35:00, 10:45:00, 10:00:...\n",
       "Weatherconditions                [Sunny, Windy, Fog, Cloudy, Stormy, Sandstorms]\n",
       "Road_traffic_density                                    [High, Low, Jam, Medium]\n",
       "Vehicle_condition                                                      [2, 0, 1]\n",
       "Type_of_order                                      [Snack, Buffet, Drinks, Meal]\n",
       "Type_of_vehicle                          [motorcycle, electric_scooter, scooter]\n",
       "multiple_deliveries                                         [0.0, 1.0, 2.0, 3.0]\n",
       "Festival                                                               [No, Yes]\n",
       "City                                          [Urban, Metropolitian, Semi-Urban]\n",
       "Time_taken(min)                [24, 29, 23, 14, 15, 17, 25, 30, 27, 22, 36, 4...\n",
       "delivery_state                 [Madhya Pradesh, Karnataka, Tamil Nadu, Telang...\n",
       "dtype: object"
      ]
     },
     "execution_count": 886,
     "metadata": {},
     "output_type": "execute_result"
    }
   ],
   "source": [
    "data.apply(lambda x: x.unique())"
   ]
  },
  {
   "cell_type": "code",
   "execution_count": 887,
   "id": "4e422881",
   "metadata": {},
   "outputs": [],
   "source": [
    "# Distance between 2 locations using Haversine distance\n",
    "from math import radians, cos, sin, asin, sqrt\n",
    "\n",
    "def haversine(lon1, lat1, lon2, lat2):\n",
    "    \"\"\"\n",
    "    Calculate the great circle distance in kilometers between two points \n",
    "    on the earth (specified in decimal degrees)\n",
    "    \"\"\"\n",
    "    # Convert decimal degrees to radians \n",
    "    lon1, lat1, lon2, lat2 = map(radians, [lon1, lat1, lon2, lat2])\n",
    "\n",
    "    # Haversine formula \n",
    "    dlon = lon2 - lon1 \n",
    "    dlat = lat2 - lat1 \n",
    "    a = sin(dlat/2)**2 + cos(lat1) * cos(lat2) * sin(dlon/2)**2\n",
    "    c = 2 * asin(sqrt(a)) \n",
    "    r = 6371 # Radius of earth in kilometers\n",
    "    return c * r\n",
    "\n",
    "# Apply the haversine function to each row in the dataframe\n",
    "data['Distance_km'] = data.apply(lambda row: haversine(row['Restaurant_longitude'], row['Restaurant_latitude'], \n",
    "                                                       row['Delivery_location_longitude'], row['Delivery_location_latitude']), axis=1)"
   ]
  },
  {
   "cell_type": "code",
   "execution_count": 888,
   "id": "08fa8448",
   "metadata": {},
   "outputs": [],
   "source": [
    "# Extracting weekend\n",
    "data['Weekend']=data['Order_Date'].dt.weekday\n",
    "weekend=[5,6]\n",
    "data['Weekend']=data['Weekend'].isin(weekend)"
   ]
  },
  {
   "cell_type": "code",
   "execution_count": 890,
   "id": "1b128f2e",
   "metadata": {},
   "outputs": [],
   "source": [
    "data['Time_taken(min)']=pd.to_numeric(data['Time_taken(min)'])"
   ]
  },
  {
   "cell_type": "code",
   "execution_count": 891,
   "id": "b4750256",
   "metadata": {},
   "outputs": [
    {
     "data": {
      "text/plain": [
       "(array([ 0., 10., 20., 30., 40., 50., 60.]),\n",
       " [Text(0, 0.0, '0'),\n",
       "  Text(0, 10.0, '10'),\n",
       "  Text(0, 20.0, '20'),\n",
       "  Text(0, 30.0, '30'),\n",
       "  Text(0, 40.0, '40'),\n",
       "  Text(0, 50.0, '50'),\n",
       "  Text(0, 60.0, '60')])"
      ]
     },
     "execution_count": 891,
     "metadata": {},
     "output_type": "execute_result"
    },
    {
     "data": {
      "image/png": "[encoded data removed]",
      "text/plain": [
       "<Figure size 1000x500 with 1 Axes>"
      ]
     },
     "metadata": {},
     "output_type": "display_data"
    }
   ],
   "source": [
    "# distance vs delivery time\n",
    "import seaborn as sns\n",
    "\n",
    "plt.figure(figsize=(10,5))\n",
    "sns.scatterplot(data=data,x='Distance_km',y='Time_taken(min)',color='grey')\n",
    "sns.regplot(data=data,x='Distance_km',y='Time_taken(min)',scatter=False,color='red')\n",
    "\n",
    "# Enhancing the plot\n",
    "plt.title('Relationship between Distance and Delivery Time', fontsize=12)\n",
    "plt.xlabel('Distance (km)', fontsize=12)\n",
    "plt.ylabel('Time Taken (min)', fontsize=12)\n",
    "plt.xticks(fontsize=10)\n",
    "plt.yticks(fontsize=10)"
   ]
  },
  {
   "cell_type": "code",
   "execution_count": 892,
   "id": "23e4750e",
   "metadata": {},
   "outputs": [],
   "source": [
    "def hour_convert(time):\n",
    "    hour,minn,sec=map(int,time.split(':'))\n",
    "    return hour\n",
    "    \n",
    "data['order_time_hour']=data['Time_Orderd'].apply(hour_convert)\n",
    "data['order_picked_hour']=data['Time_Order_picked'].apply(hour_convert)"
   ]
  },
  {
   "cell_type": "code",
   "execution_count": 893,
   "id": "80d6683a",
   "metadata": {},
   "outputs": [],
   "source": [
    "data.to_csv('del.csv')"
   ]
  },
  {
   "cell_type": "code",
   "execution_count": 894,
   "id": "24c6a911",
   "metadata": {},
   "outputs": [],
   "source": [
    "def convert_to_num(time):\n",
    "    hour,minn,sec=map(int,time.split(':'))\n",
    "    return (hour/24)+(minn/(24*60))+(sec/(24*60*60))\n",
    "    \n",
    "data['order_time_numeric']=data['Time_Orderd'].apply(convert_to_num)\n",
    "data['order_picked_numeric']=data['Time_Order_picked'].apply(convert_to_num)"
   ]
  },
  {
   "cell_type": "code",
   "execution_count": 833,
   "id": "770ef234",
   "metadata": {},
   "outputs": [],
   "source": [
    "# Choosing relevant columns\n",
    "data.drop(['Time_Orderd','Time_Order_picked','delivery_state','Restaurant_latitude','Restaurant_longitude', 'Delivery_location_latitude','Delivery_location_longitude','Order_Date'],axis=1,inplace=True,errors='ignore')"
   ]
  },
  {
   "cell_type": "code",
   "execution_count": 834,
   "id": "f04ea4eb",
   "metadata": {},
   "outputs": [
    {
     "data": {
      "text/html": [
       "<div>\n",
       "<style scoped>\n",
       "    .dataframe tbody tr th:only-of-type {\n",
       "        vertical-align: middle;\n",
       "    }\n",
       "\n",
       "    .dataframe tbody tr th {\n",
       "        vertical-align: top;\n",
       "    }\n",
       "\n",
       "    .dataframe thead th {\n",
       "        text-align: right;\n",
       "    }\n",
       "</style>\n",
       "<table border=\"1\" class=\"dataframe\">\n",
       "  <thead>\n",
       "    <tr style=\"text-align: right;\">\n",
       "      <th></th>\n",
       "      <th>Delivery_person_Age</th>\n",
       "      <th>Delivery_person_Ratings</th>\n",
       "      <th>Weatherconditions</th>\n",
       "      <th>Road_traffic_density</th>\n",
       "      <th>Vehicle_condition</th>\n",
       "      <th>Type_of_order</th>\n",
       "      <th>Type_of_vehicle</th>\n",
       "      <th>multiple_deliveries</th>\n",
       "      <th>Festival</th>\n",
       "      <th>City</th>\n",
       "      <th>Time_taken(min)</th>\n",
       "      <th>Distance_km</th>\n",
       "      <th>Weekend</th>\n",
       "      <th>order_time_numeric</th>\n",
       "      <th>order_picked_numeric</th>\n",
       "    </tr>\n",
       "  </thead>\n",
       "  <tbody>\n",
       "    <tr>\n",
       "      <th>0</th>\n",
       "      <td>37.0</td>\n",
       "      <td>4.9</td>\n",
       "      <td>Sunny</td>\n",
       "      <td>High</td>\n",
       "      <td>2</td>\n",
       "      <td>Snack</td>\n",
       "      <td>motorcycle</td>\n",
       "      <td>0.0</td>\n",
       "      <td>No</td>\n",
       "      <td>Urban</td>\n",
       "      <td>24</td>\n",
       "      <td>3.025149</td>\n",
       "      <td>True</td>\n",
       "      <td>0.479167</td>\n",
       "      <td>0.489583</td>\n",
       "    </tr>\n",
       "    <tr>\n",
       "      <th>1</th>\n",
       "      <td>25.0</td>\n",
       "      <td>4.2</td>\n",
       "      <td>Windy</td>\n",
       "      <td>Low</td>\n",
       "      <td>0</td>\n",
       "      <td>Buffet</td>\n",
       "      <td>motorcycle</td>\n",
       "      <td>1.0</td>\n",
       "      <td>No</td>\n",
       "      <td>Metropolitian</td>\n",
       "      <td>29</td>\n",
       "      <td>3.025149</td>\n",
       "      <td>False</td>\n",
       "      <td>0.347222</td>\n",
       "      <td>0.350694</td>\n",
       "    </tr>\n",
       "  </tbody>\n",
       "</table>\n",
       "</div>"
      ],
      "text/plain": [
       "   Delivery_person_Age  Delivery_person_Ratings Weatherconditions  \\\n",
       "0                 37.0                      4.9             Sunny   \n",
       "1                 25.0                      4.2             Windy   \n",
       "\n",
       "  Road_traffic_density  Vehicle_condition Type_of_order Type_of_vehicle  \\\n",
       "0                 High                  2         Snack      motorcycle   \n",
       "1                  Low                  0        Buffet      motorcycle   \n",
       "\n",
       "   multiple_deliveries Festival           City Time_taken(min)  Distance_km  \\\n",
       "0                  0.0       No          Urban              24     3.025149   \n",
       "1                  1.0       No  Metropolitian              29     3.025149   \n",
       "\n",
       "   Weekend  order_time_numeric  order_picked_numeric  \n",
       "0     True            0.479167              0.489583  \n",
       "1    False            0.347222              0.350694  "
      ]
     },
     "execution_count": 834,
     "metadata": {},
     "output_type": "execute_result"
    }
   ],
   "source": [
    "data.head(2)"
   ]
  },
  {
   "cell_type": "markdown",
   "id": "f9f8ddba",
   "metadata": {},
   "source": [
    "### Variable importance analysis "
   ]
  },
  {
   "cell_type": "code",
   "execution_count": 835,
   "id": "c35ec054",
   "metadata": {},
   "outputs": [
    {
     "data": {
      "text/plain": [
       "array([[<Axes: title={'center': 'Delivery_person_Age'}>,\n",
       "        <Axes: title={'center': 'Delivery_person_Ratings'}>],\n",
       "       [<Axes: title={'center': 'Distance_km'}>, <Axes: >]], dtype=object)"
      ]
     },
     "execution_count": 835,
     "metadata": {},
     "output_type": "execute_result"
    },
    {
     "data": {
      "image/png": "[encoded data removed]",
      "text/plain": [
       "<Figure size 1200x800 with 4 Axes>"
      ]
     },
     "metadata": {},
     "output_type": "display_data"
    }
   ],
   "source": [
    "data[['Delivery_person_Age','Delivery_person_Ratings','Distance_km']].hist(bins=20,figsize=(12,8))"
   ]
  },
  {
   "cell_type": "code",
   "execution_count": 836,
   "id": "a7cd6e3f",
   "metadata": {},
   "outputs": [],
   "source": [
    "from scipy import stats"
   ]
  },
  {
   "cell_type": "code",
   "execution_count": 837,
   "id": "64c8af7e",
   "metadata": {},
   "outputs": [],
   "source": [
    "# col='City'\n",
    "# var_l_encode=l_encoder.fit_transform(data[col])\n",
    "# # ANOVA test\n",
    "# columns=['Weatherconditions','Road_traffic_density','Vehicle_condition','Type_of_order','Type_of_vehicle','multiple_deliveries','Festival','City','delivery_state']\n",
    "# f,p=stats.f_oneway(data['Time_taken(min)'], var_l_encode)\n",
    "# p"
   ]
  },
  {
   "cell_type": "code",
   "execution_count": 839,
   "id": "9b90e577",
   "metadata": {},
   "outputs": [],
   "source": [
    "data.to_csv('del.csv')"
   ]
  },
  {
   "cell_type": "code",
   "execution_count": 707,
   "id": "9660b15b",
   "metadata": {},
   "outputs": [
    {
     "data": {
      "text/plain": [
       "{'Weatherconditions': (508.3640106238836, 0.0),\n",
       " 'Festival': (3498.774517426568, 0.0),\n",
       " 'Road_traffic_density': (2886.325655474176, 0.0),\n",
       " 'Vehicle_condition': (1625.5147103125475, 0.0),\n",
       " 'Type_of_order': (1.6223736486779194, 0.18180900384140544),\n",
       " 'Type_of_vehicle': (519.5961082330194, 2.408879028067972e-223),\n",
       " 'multiple_deliveries': (2907.202015359625, 0.0),\n",
       " 'City': (1159.1638633946197, 0.0)}"
      ]
     },
     "execution_count": 707,
     "metadata": {},
     "output_type": "execute_result"
    }
   ],
   "source": [
    "from sklearn.preprocessing import LabelEncoder\n",
    "from scipy import stats\n",
    "\n",
    "# Initialize LabelEncoder\n",
    "l_encoder = LabelEncoder()\n",
    "\n",
    "# Columns for ANOVA test\n",
    "anova_columns = ['Weatherconditions','Festival', 'Road_traffic_density', 'Vehicle_condition', 'Type_of_order', 'Type_of_vehicle','multiple_deliveries','City']\n",
    "\n",
    "# Function to perform ANOVA and return results\n",
    "def perform_anova(data, dependent_var, independent_var):\n",
    "    groups = data[independent_var].unique()\n",
    "    args = [data[data[independent_var] == group][dependent_var] for group in groups]\n",
    "    f_stat, p_value = stats.f_oneway(*args)\n",
    "    return f_stat, p_value\n",
    "\n",
    "# Performing ANOVA for each column and storing results\n",
    "anova_results = {}\n",
    "for col in anova_columns:\n",
    "    # Encoding the categorical variables\n",
    "    data[col] = l_encoder.fit_transform(data[col])\n",
    "    # Perform ANOVA\n",
    "    f_stat, p_value = perform_anova(data, 'Time_taken(min)', col)\n",
    "    anova_results[col] = (f_stat, p_value)\n",
    "\n",
    "anova_results"
   ]
  },
  {
   "cell_type": "code",
   "execution_count": 904,
   "id": "83ed5a8d",
   "metadata": {},
   "outputs": [
    {
     "data": {
      "text/html": [
       "<div>\n",
       "<style scoped>\n",
       "    .dataframe tbody tr th:only-of-type {\n",
       "        vertical-align: middle;\n",
       "    }\n",
       "\n",
       "    .dataframe tbody tr th {\n",
       "        vertical-align: top;\n",
       "    }\n",
       "\n",
       "    .dataframe thead th {\n",
       "        text-align: right;\n",
       "    }\n",
       "</style>\n",
       "<table border=\"1\" class=\"dataframe\">\n",
       "  <thead>\n",
       "    <tr style=\"text-align: right;\">\n",
       "      <th></th>\n",
       "      <th>Delivery_person_Age</th>\n",
       "      <th>Delivery_person_Ratings</th>\n",
       "      <th>Distance_km</th>\n",
       "      <th>Time_taken(min)</th>\n",
       "    </tr>\n",
       "  </thead>\n",
       "  <tbody>\n",
       "    <tr>\n",
       "      <th>Delivery_person_Age</th>\n",
       "      <td>1.000000</td>\n",
       "      <td>-0.115864</td>\n",
       "      <td>-0.002306</td>\n",
       "      <td>0.296767</td>\n",
       "    </tr>\n",
       "    <tr>\n",
       "      <th>Delivery_person_Ratings</th>\n",
       "      <td>-0.115864</td>\n",
       "      <td>1.000000</td>\n",
       "      <td>-0.108671</td>\n",
       "      <td>-0.361981</td>\n",
       "    </tr>\n",
       "    <tr>\n",
       "      <th>Distance_km</th>\n",
       "      <td>-0.002306</td>\n",
       "      <td>-0.108671</td>\n",
       "      <td>1.000000</td>\n",
       "      <td>0.321904</td>\n",
       "    </tr>\n",
       "    <tr>\n",
       "      <th>Time_taken(min)</th>\n",
       "      <td>0.296767</td>\n",
       "      <td>-0.361981</td>\n",
       "      <td>0.321904</td>\n",
       "      <td>1.000000</td>\n",
       "    </tr>\n",
       "  </tbody>\n",
       "</table>\n",
       "</div>"
      ],
      "text/plain": [
       "                         Delivery_person_Age  Delivery_person_Ratings  \\\n",
       "Delivery_person_Age                 1.000000                -0.115864   \n",
       "Delivery_person_Ratings            -0.115864                 1.000000   \n",
       "Distance_km                        -0.002306                -0.108671   \n",
       "Time_taken(min)                     0.296767                -0.361981   \n",
       "\n",
       "                         Distance_km  Time_taken(min)  \n",
       "Delivery_person_Age        -0.002306         0.296767  \n",
       "Delivery_person_Ratings    -0.108671        -0.361981  \n",
       "Distance_km                 1.000000         0.321904  \n",
       "Time_taken(min)             0.321904         1.000000  "
      ]
     },
     "execution_count": 904,
     "metadata": {},
     "output_type": "execute_result"
    }
   ],
   "source": [
    "data[['Delivery_person_Age','Delivery_person_Ratings','Distance_km','Time_taken(min)']].corr()"
   ]
  },
  {
   "cell_type": "code",
   "execution_count": 905,
   "id": "d2076797",
   "metadata": {},
   "outputs": [
    {
     "data": {
      "text/html": [
       "<div>\n",
       "<style scoped>\n",
       "    .dataframe tbody tr th:only-of-type {\n",
       "        vertical-align: middle;\n",
       "    }\n",
       "\n",
       "    .dataframe tbody tr th {\n",
       "        vertical-align: top;\n",
       "    }\n",
       "\n",
       "    .dataframe thead th {\n",
       "        text-align: right;\n",
       "    }\n",
       "</style>\n",
       "<table border=\"1\" class=\"dataframe\">\n",
       "  <thead>\n",
       "    <tr style=\"text-align: right;\">\n",
       "      <th></th>\n",
       "      <th>Delivery_person_Age</th>\n",
       "      <th>Delivery_person_Ratings</th>\n",
       "      <th>Distance_km</th>\n",
       "      <th>Time_taken(min)</th>\n",
       "    </tr>\n",
       "  </thead>\n",
       "  <tbody>\n",
       "    <tr>\n",
       "      <th>Delivery_person_Age</th>\n",
       "      <td>1.000000</td>\n",
       "      <td>-0.104303</td>\n",
       "      <td>-0.002772</td>\n",
       "      <td>0.305757</td>\n",
       "    </tr>\n",
       "    <tr>\n",
       "      <th>Delivery_person_Ratings</th>\n",
       "      <td>-0.104303</td>\n",
       "      <td>1.000000</td>\n",
       "      <td>-0.070973</td>\n",
       "      <td>-0.299964</td>\n",
       "    </tr>\n",
       "    <tr>\n",
       "      <th>Distance_km</th>\n",
       "      <td>-0.002772</td>\n",
       "      <td>-0.070973</td>\n",
       "      <td>1.000000</td>\n",
       "      <td>0.321292</td>\n",
       "    </tr>\n",
       "    <tr>\n",
       "      <th>Time_taken(min)</th>\n",
       "      <td>0.305757</td>\n",
       "      <td>-0.299964</td>\n",
       "      <td>0.321292</td>\n",
       "      <td>1.000000</td>\n",
       "    </tr>\n",
       "  </tbody>\n",
       "</table>\n",
       "</div>"
      ],
      "text/plain": [
       "                         Delivery_person_Age  Delivery_person_Ratings  \\\n",
       "Delivery_person_Age                 1.000000                -0.104303   \n",
       "Delivery_person_Ratings            -0.104303                 1.000000   \n",
       "Distance_km                        -0.002772                -0.070973   \n",
       "Time_taken(min)                     0.305757                -0.299964   \n",
       "\n",
       "                         Distance_km  Time_taken(min)  \n",
       "Delivery_person_Age        -0.002772         0.305757  \n",
       "Delivery_person_Ratings    -0.070973        -0.299964  \n",
       "Distance_km                 1.000000         0.321292  \n",
       "Time_taken(min)             0.321292         1.000000  "
      ]
     },
     "execution_count": 905,
     "metadata": {},
     "output_type": "execute_result"
    }
   ],
   "source": [
    "data[['Delivery_person_Age','Delivery_person_Ratings','Distance_km','Time_taken(min)']].corr(method='spearman')"
   ]
  },
  {
   "cell_type": "markdown",
   "id": "0e347baf",
   "metadata": {},
   "source": [
    "### Data Preparation & encoding"
   ]
  },
  {
   "cell_type": "code",
   "execution_count": 708,
   "id": "92c42188",
   "metadata": {},
   "outputs": [],
   "source": [
    "# Label encoding\n",
    "data=pd.get_dummies(data, columns=['Weatherconditions','Road_traffic_density','Vehicle_condition','Type_of_vehicle','multiple_deliveries','Festival','City'])"
   ]
  },
  {
   "cell_type": "code",
   "execution_count": 710,
   "id": "44e65c9c",
   "metadata": {},
   "outputs": [],
   "source": [
    "data.drop(['Type_of_order','Weatherconditions_5','Road_traffic_density_0','Vehicle_condition_0','Type_of_vehicle_0','multiple_deliveries_1','City_0','Weekend','Festival_0'],axis=1,inplace=True,errors='ignore')"
   ]
  },
  {
   "cell_type": "code",
   "execution_count": 713,
   "id": "1f722285",
   "metadata": {},
   "outputs": [],
   "source": [
    "from sklearn.model_selection import train_test_split"
   ]
  },
  {
   "cell_type": "code",
   "execution_count": 745,
   "id": "89333781",
   "metadata": {},
   "outputs": [],
   "source": [
    "X=data.drop('Time_taken(min)',axis=1)\n",
    "y=data[['Time_taken(min)']]\n",
    "x_train, x_test,y_train,y_test=train_test_split(X,y,test_size=0.2)"
   ]
  },
  {
   "cell_type": "code",
   "execution_count": 741,
   "id": "9716d15c",
   "metadata": {},
   "outputs": [],
   "source": [
    "from sklearn.preprocessing import MinMaxScaler\n",
    "scaler=MinMaxScaler()\n",
    "x_train_scaled=scaler.fit_transform(x_train)\n",
    "x_test_scaled=scaler.transform(x_test)"
   ]
  },
  {
   "cell_type": "code",
   "execution_count": 751,
   "id": "41057356",
   "metadata": {},
   "outputs": [],
   "source": [
    "y_train=y_train['Time_taken(min)']\n",
    "y_test=y_test['Time_taken(min)']"
   ]
  },
  {
   "cell_type": "code",
   "execution_count": 752,
   "id": "e50f125e",
   "metadata": {},
   "outputs": [],
   "source": [
    "# y_train=np.array(y_train)\n",
    "y_train=pd.to_numeric(y_train,errors='coerce')"
   ]
  },
  {
   "cell_type": "code",
   "execution_count": 753,
   "id": "ab732d4b",
   "metadata": {},
   "outputs": [
    {
     "data": {
      "text/plain": [
       "(30309, 30309)"
      ]
     },
     "execution_count": 753,
     "metadata": {},
     "output_type": "execute_result"
    }
   ],
   "source": [
    "len(x_train_scaled),len(y_train)"
   ]
  },
  {
   "cell_type": "markdown",
   "id": "2aa835d8",
   "metadata": {},
   "source": [
    "### PCA"
   ]
  },
  {
   "cell_type": "code",
   "execution_count": 801,
   "id": "985e2649",
   "metadata": {},
   "outputs": [
    {
     "data": {
      "image/png": "[encoded data removed]",
      "text/plain": [
       "<Figure size 500x300 with 1 Axes>"
      ]
     },
     "metadata": {},
     "output_type": "display_data"
    }
   ],
   "source": [
    "import matplotlib.pyplot as plt\n",
    "from sklearn.decomposition import PCA\n",
    "from sklearn.preprocessing import StandardScaler\n",
    "\n",
    "std_scaler=StandardScaler()\n",
    "x_train_scaled=std_scaler.fit_transform(x_train_scaled)\n",
    "\n",
    "pca=PCA()\n",
    "x_pca=pca.fit_transform(x_train_scaled)\n",
    "explained_variance=pca.explained_variance_ratio_\n",
    "\n",
    "plt.figure(figsize=(5,3))\n",
    "plt.plot(range(1,len(explained_variance)+1),explained_variance)\n",
    "plt.title('Scree Plot')\n",
    "plt.xlabel('Features')\n",
    "plt.ylabel('Explained Variance')\n",
    "plt.show()"
   ]
  },
  {
   "cell_type": "code",
   "execution_count": 803,
   "id": "7740bba4",
   "metadata": {},
   "outputs": [],
   "source": [
    "pca=PCA(n_components=19)\n",
    "X_train_pca=pca.fit_transform(x_train_scaled)\n",
    "X_test_pca=pca.transform(x_test_scaled)"
   ]
  },
  {
   "cell_type": "markdown",
   "id": "dcb9360e",
   "metadata": {},
   "source": [
    "### Modeling"
   ]
  },
  {
   "cell_type": "code",
   "execution_count": 754,
   "id": "a62cc01d",
   "metadata": {},
   "outputs": [],
   "source": [
    "# !pip install xgboost"
   ]
  },
  {
   "cell_type": "code",
   "execution_count": 755,
   "id": "b2555f3c",
   "metadata": {},
   "outputs": [],
   "source": [
    "import xgboost as xgb"
   ]
  },
  {
   "cell_type": "code",
   "execution_count": 756,
   "id": "8d967bcc",
   "metadata": {},
   "outputs": [],
   "source": [
    "model=xgb.XGBRegressor()"
   ]
  },
  {
   "cell_type": "code",
   "execution_count": 757,
   "id": "52c3af3c",
   "metadata": {},
   "outputs": [
    {
     "data": {
      "text/html": [
       "<style>#sk-container-id-1 {color: black;}#sk-container-id-1 pre{padding: 0;}#sk-container-id-1 div.sk-toggleable {background-color: white;}#sk-container-id-1 label.sk-toggleable__label {cursor: pointer;display: block;width: 100%;margin-bottom: 0;padding: 0.3em;box-sizing: border-box;text-align: center;}#sk-container-id-1 label.sk-toggleable__label-arrow:before {content: \"▸\";float: left;margin-right: 0.25em;color: #696969;}#sk-container-id-1 label.sk-toggleable__label-arrow:hover:before {color: black;}#sk-container-id-1 div.sk-estimator:hover label.sk-toggleable__label-arrow:before {color: black;}#sk-container-id-1 div.sk-toggleable__content {max-height: 0;max-width: 0;overflow: hidden;text-align: left;background-color: #f0f8ff;}#sk-container-id-1 div.sk-toggleable__content pre {margin: 0.2em;color: black;border-radius: 0.25em;background-color: #f0f8ff;}#sk-container-id-1 input.sk-toggleable__control:checked~div.sk-toggleable__content {max-height: 200px;max-width: 100%;overflow: auto;}#sk-container-id-1 input.sk-toggleable__control:checked~label.sk-toggleable__label-arrow:before {content: \"▾\";}#sk-container-id-1 div.sk-estimator input.sk-toggleable__control:checked~label.sk-toggleable__label {background-color: #d4ebff;}#sk-container-id-1 div.sk-label input.sk-toggleable__control:checked~label.sk-toggleable__label {background-color: #d4ebff;}#sk-container-id-1 input.sk-hidden--visually {border: 0;clip: rect(1px 1px 1px 1px);clip: rect(1px, 1px, 1px, 1px);height: 1px;margin: -1px;overflow: hidden;padding: 0;position: absolute;width: 1px;}#sk-container-id-1 div.sk-estimator {font-family: monospace;background-color: #f0f8ff;border: 1px dotted black;border-radius: 0.25em;box-sizing: border-box;margin-bottom: 0.5em;}#sk-container-id-1 div.sk-estimator:hover {background-color: #d4ebff;}#sk-container-id-1 div.sk-parallel-item::after {content: \"\";width: 100%;border-bottom: 1px solid gray;flex-grow: 1;}#sk-container-id-1 div.sk-label:hover label.sk-toggleable__label {background-color: #d4ebff;}#sk-container-id-1 div.sk-serial::before {content: \"\";position: absolute;border-left: 1px solid gray;box-sizing: border-box;top: 0;bottom: 0;left: 50%;z-index: 0;}#sk-container-id-1 div.sk-serial {display: flex;flex-direction: column;align-items: center;background-color: white;padding-right: 0.2em;padding-left: 0.2em;position: relative;}#sk-container-id-1 div.sk-item {position: relative;z-index: 1;}#sk-container-id-1 div.sk-parallel {display: flex;align-items: stretch;justify-content: center;background-color: white;position: relative;}#sk-container-id-1 div.sk-item::before, #sk-container-id-1 div.sk-parallel-item::before {content: \"\";position: absolute;border-left: 1px solid gray;box-sizing: border-box;top: 0;bottom: 0;left: 50%;z-index: -1;}#sk-container-id-1 div.sk-parallel-item {display: flex;flex-direction: column;z-index: 1;position: relative;background-color: white;}#sk-container-id-1 div.sk-parallel-item:first-child::after {align-self: flex-end;width: 50%;}#sk-container-id-1 div.sk-parallel-item:last-child::after {align-self: flex-start;width: 50%;}#sk-container-id-1 div.sk-parallel-item:only-child::after {width: 0;}#sk-container-id-1 div.sk-dashed-wrapped {border: 1px dashed gray;margin: 0 0.4em 0.5em 0.4em;box-sizing: border-box;padding-bottom: 0.4em;background-color: white;}#sk-container-id-1 div.sk-label label {font-family: monospace;font-weight: bold;display: inline-block;line-height: 1.2em;}#sk-container-id-1 div.sk-label-container {text-align: center;}#sk-container-id-1 div.sk-container {/* jupyter's `normalize.less` sets `[hidden] { display: none; }` but bootstrap.min.css set `[hidden] { display: none !important; }` so we also need the `!important` here to be able to override the default hidden behavior on the sphinx rendered scikit-learn.org. See: https://github.com/scikit-learn/scikit-learn/issues/21755 */display: inline-block !important;position: relative;}#sk-container-id-1 div.sk-text-repr-fallback {display: none;}</style><div id=\"sk-container-id-1\" class=\"sk-top-container\"><div class=\"sk-text-repr-fallback\"><pre>XGBRegressor(base_score=None, booster=None, callbacks=None,\n",
       "             colsample_bylevel=None, colsample_bynode=None,\n",
       "             colsample_bytree=None, device=None, early_stopping_rounds=None,\n",
       "             enable_categorical=False, eval_metric=None, feature_types=None,\n",
       "             gamma=None, grow_policy=None, importance_type=None,\n",
       "             interaction_constraints=None, learning_rate=None, max_bin=None,\n",
       "             max_cat_threshold=None, max_cat_to_onehot=None,\n",
       "             max_delta_step=None, max_depth=None, max_leaves=None,\n",
       "             min_child_weight=None, missing=nan, monotone_constraints=None,\n",
       "             multi_strategy=None, n_estimators=None, n_jobs=None,\n",
       "             num_parallel_tree=None, random_state=None, ...)</pre><b>In a Jupyter environment, please rerun this cell to show the HTML representation or trust the notebook. <br />On GitHub, the HTML representation is unable to render, please try loading this page with nbviewer.org.</b></div><div class=\"sk-container\" hidden><div class=\"sk-item\"><div class=\"sk-estimator sk-toggleable\"><input class=\"sk-toggleable__control sk-hidden--visually\" id=\"sk-estimator-id-1\" type=\"checkbox\" checked><label for=\"sk-estimator-id-1\" class=\"sk-toggleable__label sk-toggleable__label-arrow\">XGBRegressor</label><div class=\"sk-toggleable__content\"><pre>XGBRegressor(base_score=None, booster=None, callbacks=None,\n",
       "             colsample_bylevel=None, colsample_bynode=None,\n",
       "             colsample_bytree=None, device=None, early_stopping_rounds=None,\n",
       "             enable_categorical=False, eval_metric=None, feature_types=None,\n",
       "             gamma=None, grow_policy=None, importance_type=None,\n",
       "             interaction_constraints=None, learning_rate=None, max_bin=None,\n",
       "             max_cat_threshold=None, max_cat_to_onehot=None,\n",
       "             max_delta_step=None, max_depth=None, max_leaves=None,\n",
       "             min_child_weight=None, missing=nan, monotone_constraints=None,\n",
       "             multi_strategy=None, n_estimators=None, n_jobs=None,\n",
       "             num_parallel_tree=None, random_state=None, ...)</pre></div></div></div></div></div>"
      ],
      "text/plain": [
       "XGBRegressor(base_score=None, booster=None, callbacks=None,\n",
       "             colsample_bylevel=None, colsample_bynode=None,\n",
       "             colsample_bytree=None, device=None, early_stopping_rounds=None,\n",
       "             enable_categorical=False, eval_metric=None, feature_types=None,\n",
       "             gamma=None, grow_policy=None, importance_type=None,\n",
       "             interaction_constraints=None, learning_rate=None, max_bin=None,\n",
       "             max_cat_threshold=None, max_cat_to_onehot=None,\n",
       "             max_delta_step=None, max_depth=None, max_leaves=None,\n",
       "             min_child_weight=None, missing=nan, monotone_constraints=None,\n",
       "             multi_strategy=None, n_estimators=None, n_jobs=None,\n",
       "             num_parallel_tree=None, random_state=None, ...)"
      ]
     },
     "execution_count": 757,
     "metadata": {},
     "output_type": "execute_result"
    }
   ],
   "source": [
    "model.fit(x_train_scaled,y_train)"
   ]
  },
  {
   "cell_type": "code",
   "execution_count": 760,
   "id": "08b3e785",
   "metadata": {},
   "outputs": [
    {
     "data": {
      "text/plain": [
       "(7578, 7578)"
      ]
     },
     "execution_count": 760,
     "metadata": {},
     "output_type": "execute_result"
    }
   ],
   "source": [
    "len(x_test_scaled),len(y_test)"
   ]
  },
  {
   "cell_type": "code",
   "execution_count": 761,
   "id": "5148e553",
   "metadata": {},
   "outputs": [],
   "source": [
    "y_pred=model.predict(x_test_scaled)"
   ]
  },
  {
   "cell_type": "code",
   "execution_count": 806,
   "id": "3341c87b",
   "metadata": {},
   "outputs": [],
   "source": [
    "model.fit(X_train_pca,y_train)\n",
    "y_pred_pca=model.predict(X_test_pca)"
   ]
  },
  {
   "cell_type": "code",
   "execution_count": 779,
   "id": "ebf33e5d",
   "metadata": {},
   "outputs": [
    {
     "data": {
      "text/plain": [
       "9.271098630918287"
      ]
     },
     "execution_count": 779,
     "metadata": {},
     "output_type": "execute_result"
    }
   ],
   "source": [
    "y_test = y_test.apply(pd.to_numeric, errors='coerce')"
   ]
  },
  {
   "cell_type": "code",
   "execution_count": 807,
   "id": "f2da1f11",
   "metadata": {},
   "outputs": [
    {
     "name": "stdout",
     "output_type": "stream",
     "text": [
      "MAE: 7.743314811377325\n",
      "MAPE: 0.3477035336751204\n",
      "MSE: 92.29522564320322\n",
      "RMSE: 9.60704042060838\n",
      "N-RMSE: 1.036235380839306\n"
     ]
    }
   ],
   "source": [
    "from sklearn.metrics import mean_absolute_error,mean_squared_error,mean_absolute_percentage_error\n",
    "\n",
    "print(f\"MAE: {mean_absolute_error(y_test,y_pred)}\")\n",
    "print(f\"MAPE: {mean_absolute_percentage_error(y_test,y_pred)}\")\n",
    "print(f\"MSE: {mean_squared_error(y_test,y_pred)}\")\n",
    "print(f\"RMSE: {np.sqrt(mean_squared_error(y_test,y_pred))}\")\n",
    "rmse=np.sqrt(mean_squared_error(y_test,y_pred))\n",
    "nrmse=rmse/np.std(y_test)\n",
    "print(f\"N-RMSE: {nrmse}\")"
   ]
  },
  {
   "cell_type": "code",
   "execution_count": 808,
   "id": "5164378f",
   "metadata": {},
   "outputs": [
    {
     "name": "stdout",
     "output_type": "stream",
     "text": [
      "MAE: 7.604751026388144\n",
      "MAPE: 0.35040657474161374\n",
      "MSE: 87.41381636586223\n",
      "RMSE: 9.349535623006217\n",
      "N-RMSE: 1.008460377266007\n"
     ]
    }
   ],
   "source": [
    "from sklearn.metrics import mean_absolute_error,mean_squared_error,mean_absolute_percentage_error\n",
    "\n",
    "print(f\"MAE: {mean_absolute_error(y_test,y_pred_pca)}\")\n",
    "print(f\"MAPE: {mean_absolute_percentage_error(y_test,y_pred_pca)}\")\n",
    "print(f\"MSE: {mean_squared_error(y_test,y_pred_pca)}\")\n",
    "print(f\"RMSE: {np.sqrt(mean_squared_error(y_test,y_pred_pca))}\")\n",
    "rmse=np.sqrt(mean_squared_error(y_test,y_pred_pca))\n",
    "nrmse=rmse/np.std(y_test)\n",
    "print(f\"N-RMSE: {nrmse}\")"
   ]
  },
  {
   "cell_type": "code",
   "execution_count": 907,
   "id": "4380b9a0",
   "metadata": {},
   "outputs": [
    {
     "name": "stdout",
     "output_type": "stream",
     "text": [
      "MAE: 7.49552111274459\n",
      "MAPE: 0.3390360960902373\n",
      "MSE: 85.97166175614768\n",
      "RMSE: 9.272090473897872\n",
      "N-RMSE: 1.000106982248714\n"
     ]
    }
   ],
   "source": [
    "from sklearn.linear_model import Lasso\n",
    "\n",
    "lasso = Lasso(alpha=1.0)  # Alpha is a hyperparameter that controls regularization strength\n",
    "\n",
    "# Fit the model to the training data\n",
    "lasso.fit(x_train_scaled, y_train)\n",
    "\n",
    "# Make predictions\n",
    "y_pred = lasso.predict(x_test_scaled)\n",
    "\n",
    "# Evaluate the model\n",
    "mse = mean_squared_error(y_test, y_pred)\n",
    "\n",
    "print(f\"MAE: {mean_absolute_error(y_test,y_pred)}\")\n",
    "print(f\"MAPE: {mean_absolute_percentage_error(y_test,y_pred)}\")\n",
    "print(f\"MSE: {mean_squared_error(y_test,y_pred)}\")\n",
    "print(f\"RMSE: {np.sqrt(mean_squared_error(y_test,y_pred))}\")\n",
    "rmse=np.sqrt(mean_squared_error(y_test,y_pred))\n",
    "nrmse=rmse/np.std(y_test)\n",
    "print(f\"N-RMSE: {nrmse}\")"
   ]
  },
  {
   "cell_type": "markdown",
   "id": "f62b48ea",
   "metadata": {},
   "source": [
    "### Random Forest"
   ]
  },
  {
   "cell_type": "code",
   "execution_count": 908,
   "id": "ddf20858",
   "metadata": {},
   "outputs": [],
   "source": [
    "from sklearn.ensemble import RandomForestRegressor"
   ]
  },
  {
   "cell_type": "code",
   "execution_count": 909,
   "id": "5179af84",
   "metadata": {},
   "outputs": [],
   "source": [
    "rf=RandomForestRegressor(n_estimators=100)\n",
    "rf.fit(x_train_scaled,y_train)\n",
    "y_pred=rf.predict(x_test_scaled)"
   ]
  },
  {
   "cell_type": "code",
   "execution_count": 910,
   "id": "d97e9142",
   "metadata": {},
   "outputs": [
    {
     "name": "stdout",
     "output_type": "stream",
     "text": [
      "MAE: 7.6392385853787275\n",
      "MAPE: 0.34482436689174756\n",
      "MSE: 89.33055332541568\n",
      "RMSE: 9.451484186381295\n",
      "N-RMSE: 1.0194567615602146\n"
     ]
    }
   ],
   "source": [
    "print(f\"MAE: {mean_absolute_error(y_test,y_pred)}\")\n",
    "print(f\"MAPE: {mean_absolute_percentage_error(y_test,y_pred)}\")\n",
    "print(f\"MSE: {mean_squared_error(y_test,y_pred)}\")\n",
    "print(f\"RMSE: {np.sqrt(mean_squared_error(y_test,y_pred))}\")\n",
    "rmse=np.sqrt(mean_squared_error(y_test,y_pred))\n",
    "nrmse=rmse/np.std(y_test)\n",
    "print(f\"N-RMSE: {nrmse}\")"
   ]
  },
  {
   "cell_type": "code",
   "execution_count": 911,
   "id": "67d2c196",
   "metadata": {},
   "outputs": [
    {
     "name": "stdout",
     "output_type": "stream",
     "text": [
      "MAE: 7.604751026388144\n",
      "MAPE: 0.35040657474161374\n",
      "MSE: 87.41381636586223\n",
      "RMSE: 9.349535623006217\n",
      "N-RMSE: 1.008460377266007\n"
     ]
    }
   ],
   "source": [
    "# PCA\n",
    "model.fit(X_train_pca,y_train)\n",
    "y_pred_pca=model.predict(X_test_pca)\n",
    "\n",
    "from sklearn.metrics import mean_absolute_error,mean_squared_error,mean_absolute_percentage_error\n",
    "\n",
    "print(f\"MAE: {mean_absolute_error(y_test,y_pred_pca)}\")\n",
    "print(f\"MAPE: {mean_absolute_percentage_error(y_test,y_pred_pca)}\")\n",
    "print(f\"MSE: {mean_squared_error(y_test,y_pred_pca)}\")\n",
    "print(f\"RMSE: {np.sqrt(mean_squared_error(y_test,y_pred_pca))}\")\n",
    "rmse=np.sqrt(mean_squared_error(y_test,y_pred_pca))\n",
    "nrmse=rmse/np.std(y_test)\n",
    "print(f\"N-RMSE: {nrmse}\")"
   ]
  },
  {
   "cell_type": "markdown",
   "id": "d478165a",
   "metadata": {},
   "source": [
    "### Saving the model as pickle file"
   ]
  },
  {
   "cell_type": "code",
   "execution_count": 809,
   "id": "851414f0",
   "metadata": {},
   "outputs": [],
   "source": [
    "import pickle"
   ]
  },
  {
   "cell_type": "code",
   "execution_count": 810,
   "id": "85726540",
   "metadata": {},
   "outputs": [],
   "source": [
    "with open('model.pkl','wb') as model_file:\n",
    "    pickle.dump(model,model_file)"
   ]
  },
  {
   "cell_type": "code",
   "execution_count": 811,
   "id": "e0c43889",
   "metadata": {},
   "outputs": [],
   "source": [
    "with open('scaler.pkl','wb') as scaler_file:\n",
    "    pickle.dump(scaler,scaler_file)"
   ]
  },
  {
   "cell_type": "code",
   "execution_count": null,
   "id": "cd3249be",
   "metadata": {},
   "outputs": [],
   "source": []
  }
 ],
 "metadata": {
  "kernelspec": {
   "display_name": "Python 3 (ipykernel)",
   "language": "python",
   "name": "python3"
  },
  "language_info": {
   "codemirror_mode": {
    "name": "ipython",
    "version": 3
   },
   "file_extension": ".py",
   "mimetype": "text/x-python",
   "name": "python",
   "nbconvert_exporter": "python",
   "pygments_lexer": "ipython3",
   "version": "3.11.5"
  }
 },
 "nbformat": 4,
 "nbformat_minor": 5
}
